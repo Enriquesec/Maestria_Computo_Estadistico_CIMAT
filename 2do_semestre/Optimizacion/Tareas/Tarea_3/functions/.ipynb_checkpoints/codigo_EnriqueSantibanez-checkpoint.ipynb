{
 "cells": [
  {
   "cell_type": "markdown",
   "metadata": {},
   "source": [
    "### Uso de las funciones.\n",
    "En el archivo codigo_EnriqueSantibanez.py están las funciones (comentadas) para resolver un problema combinatorio utilizando un método constructivo aleatorio.\n",
    "- load_parametres(paht): Esta función carga los parametros del problema.\n",
    "- semi_greedy(*): Resuelve el problema"
   ]
  },
  {
   "cell_type": "code",
   "execution_count": 1,
   "metadata": {},
   "outputs": [],
   "source": [
    "# load library\n",
    "from codigo_EnriqueSantibanez import *"
   ]
  },
  {
   "cell_type": "code",
   "execution_count": 2,
   "metadata": {},
   "outputs": [],
   "source": [
    "def main():\n",
    "    # load parameters\n",
    "    path = \"../data/datos_EnriqueSantibanez.txt\"\n",
    "    p, alpha, c_ij, f_i, instacias = load_parametres(path)\n",
    "    \n",
    "    # method constructive\n",
    "    y_opt, A_opti, cost_final = semi_greedy(instacias, c_ij, f_i, p, alpha=0.1)"
   ]
  },
  {
   "cell_type": "code",
   "execution_count": 3,
   "metadata": {},
   "outputs": [
    {
     "name": "stdout",
     "output_type": "stream",
     "text": [
      "-----------------------------------------------------------------------------\n",
      "-----------------------------------------------------------------------------\n",
      "-----------------------------------------------------------------------------\n",
      "-------------------------Solución construida---------------------------------\n",
      "Las instalaciones que se tiene que abrir son [ 7  9 11 10]\n",
      "Las asignaciones de las instalaciones clientes son:\n",
      "[[1. 0. 1. 1. 0. 0.]\n",
      " [0. 1. 0. 0. 1. 0.]\n",
      " [0. 0. 0. 0. 0. 0.]\n",
      " [0. 0. 0. 0. 0. 1.]]\n",
      "-----------------------------------------------------------------------------\n",
      "-----------------------------------------------------------------------------\n",
      "-----------------Evaluación de la función objetivo---------------------------\n",
      "El costo final es: 645\n"
     ]
    }
   ],
   "source": [
    "if __name__ == \"__main__\":\n",
    "    main()"
   ]
  },
  {
   "cell_type": "markdown",
   "metadata": {},
   "source": [
    "## Comparación de las soluciones utilizando la libraría pulp\n",
    "\n",
    "Para comparar nuestros resultados obtenidos con las funciones programadas, utilizamos la librería pulp para encontrar la solución óptima del problema basandonos de los ejemplos de la documentación (https://coin-or.github.io/pulp/CaseStudies/a_set_partitioning_problem.html)."
   ]
  },
  {
   "cell_type": "code",
   "execution_count": 4,
   "metadata": {},
   "outputs": [],
   "source": [
    "# load library\n",
    "from pulp import *"
   ]
  },
  {
   "cell_type": "code",
   "execution_count": 5,
   "metadata": {},
   "outputs": [
    {
     "name": "stderr",
     "output_type": "stream",
     "text": [
      "/home/enrique/anaconda3/lib/python3.7/site-packages/pulp/pulp.py:1199: UserWarning: Spaces are not permitted in the name. Converted to '_'\n",
      "  warnings.warn(\"Spaces are not permitted in the name. Converted to '_'\")\n"
     ]
    },
    {
     "data": {
      "text/plain": [
       "1"
      ]
     },
     "execution_count": 5,
     "metadata": {},
     "output_type": "execute_result"
    }
   ],
   "source": [
    "# Lists (sets / Array) of Customers and Facilities\n",
    "Customer = [1,2,3,4,5,6]\n",
    "Facility = [\"Fac-{}\".format(i) for i in range(1, 12)]\n",
    "\n",
    "# Dictionaries of the demands and facilities as well as fixed cost at each facility\n",
    "fixed_cost = {'Fac-1' : 214, 'Fac-2' : 225, 'Fac-3' : 285,\n",
    "             \"Fac-4\":205, \"Fac-5\":229, \"Fac-6\":294, \"Fac-7\":137,\n",
    "             \"Fac-8\":292, \"Fac-9\":155, \"Fac-10\":166, \"Fac-11\":154}\n",
    "\n",
    "# Dictionary of the transportation cost from each facility to all the customers \n",
    "transportation_cost = {'Fac-1' : {1:18, 2:1, 3:16, 4:6, 5:10, 6:15},\n",
    "                       'Fac-2' : {1:3, 2:10, 3:17, 4:13, 5:6, 6:20},\n",
    "                       'Fac-3' : {1:13, 2:6, 3:12, 4:5, 5:7, 6:10},\n",
    "                       'Fac-4' : {1:9, 2:14, 3:20, 4:11, 5:16, 6:2},\n",
    "                       'Fac-5' : {1:13, 2:15, 3:16, 4:12, 5:11, 6:19},\n",
    "                       'Fac-6' : {1:9, 2:3, 3:16, 4:16, 5:20, 6:12},\n",
    "                       'Fac-7' : {1:3, 2:7, 3:9, 4:6, 5:12, 6:15},\n",
    "                       'Fac-8' : {1:2, 2:12, 3:3, 4:7, 5:3, 6:16},\n",
    "                       'Fac-9' : {1:4, 2:2, 3:11, 4:12, 5:5, 6:16},\n",
    "                       'Fac-10' : {1:12, 2:7, 3:10, 4:18, 5:12, 6:8},\n",
    "                       'Fac-11' : {1:9, 2:8, 3:19, 4:18, 5:15, 6:20}\n",
    "                      }\n",
    "\n",
    "\n",
    "# Setting the Problem\n",
    "prob = LpProblem(\"Capacitated Facility Location Problem\", LpMinimize)\n",
    "\n",
    "\n",
    "# Defining our Desicion Variables\n",
    "use_facility = LpVariable.dicts(\"Use Facility\", Facility, 0, 1, LpBinary)\n",
    "ser_customer = LpVariable.dicts(\"Service\", [(i,j) for i in Customer for j in Facility], 0)\n",
    "\n",
    "\n",
    "# Setting the Objective Function\n",
    "prob += lpSum(fixed_cost[j]*use_facility[j] for j in Facility) + lpSum(transportation_cost[j][i]*ser_customer[(i,j)] for j in Facility for i in Customer)\n",
    "\n",
    "# Costraints\n",
    "for i in Customer:\n",
    "    prob += lpSum(ser_customer[(i,j)] for j in Facility) == 1\n",
    "\n",
    "for i in Customer:\n",
    "    for j in Facility:\n",
    "        prob += ser_customer[(i,j)] <= use_facility[j]\n",
    "        \n",
    "prob += lpSum(use_facility[j] for j in Facility) == 4\n",
    "\n",
    "prob.solve()\n"
   ]
  },
  {
   "cell_type": "code",
   "execution_count": 6,
   "metadata": {},
   "outputs": [
    {
     "name": "stdout",
     "output_type": "stream",
     "text": [
      "Instancias optimas\n",
      "7\n",
      "9\n",
      "10\n",
      "11\n"
     ]
    }
   ],
   "source": [
    "# Print the solution of Binary Decision Variables\n",
    "Tolerance = 0.0001\n",
    "print(\"Instancias optimas\")\n",
    "for j in Facility:\n",
    "    if use_facility[j].varValue > Tolerance:\n",
    "        print(j[4:])"
   ]
  },
  {
   "cell_type": "code",
   "execution_count": 7,
   "metadata": {
    "scrolled": true
   },
   "outputs": [
    {
     "name": "stdout",
     "output_type": "stream",
     "text": [
      "Service_(1,_'Fac_7') = 1.0\n",
      "Service_(2,_'Fac_9') = 1.0\n",
      "Service_(3,_'Fac_7') = 1.0\n",
      "Service_(4,_'Fac_7') = 1.0\n",
      "Service_(5,_'Fac_9') = 1.0\n",
      "Service_(6,_'Fac_10') = 1.0\n",
      "Use_Facility_Fac_10 = 1.0\n",
      "Use_Facility_Fac_11 = 1.0\n",
      "Use_Facility_Fac_7 = 1.0\n",
      "Use_Facility_Fac_9 = 1.0\n"
     ]
    }
   ],
   "source": [
    "# Print the solution of Continuous Decision Variables\n",
    "for v in prob.variables():\n",
    "    if v.varValue==1.:\n",
    "        print(v.name, \"=\", v.varValue)"
   ]
  },
  {
   "cell_type": "code",
   "execution_count": 8,
   "metadata": {},
   "outputs": [
    {
     "name": "stdout",
     "output_type": "stream",
     "text": [
      "Total Cost =  645.0\n"
     ]
    }
   ],
   "source": [
    "# Print Optimal\n",
    "print(\"Total Cost = \", value(prob.objective))"
   ]
  },
  {
   "cell_type": "markdown",
   "metadata": {},
   "source": [
    "### Podemos observar que la solución optima es la solución que encontramos utilizando alpha muy pequeño en nuestras funciones. Lo cual tiene sentido, debido a que entre más pequeño sea alpha las soluciones obtenidas no son muy aleatorias por que lo podemos caer en un mínimo local."
   ]
  }
 ],
 "metadata": {
  "kernelspec": {
   "display_name": "Python 3",
   "language": "python",
   "name": "python3"
  },
  "language_info": {
   "codemirror_mode": {
    "name": "ipython",
    "version": 3
   },
   "file_extension": ".py",
   "mimetype": "text/x-python",
   "name": "python",
   "nbconvert_exporter": "python",
   "pygments_lexer": "ipython3",
   "version": "3.7.6"
  }
 },
 "nbformat": 4,
 "nbformat_minor": 4
}
