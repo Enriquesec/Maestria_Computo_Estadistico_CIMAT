{
 "cells": [
  {
   "cell_type": "code",
   "execution_count": 148,
   "metadata": {},
   "outputs": [],
   "source": [
    "import pandas as pd\n",
    "import numpy as np\n",
    "import seaborn as sns\n",
    "import matplotlib.pyplot as plt\n"
   ]
  },
  {
   "cell_type": "markdown",
   "metadata": {},
   "source": [
    "# Ejercicio 2: Índice de marginación"
   ]
  },
  {
   "cell_type": "markdown",
   "metadata": {},
   "source": [
    "### Calculo de los indicadores socieconómicos a nivel localidad\n",
    "\n",
    "- Porcentaje de población de 15 años o más analfabeta. \n",
    "    - Población de 15 años o más $\\left(P_i^{15+}\\right)$: **POB20**\n",
    "    - Población de 15 años o más analfabeta $\\left(P_i^{anal}\\right)$: **EDU28**\n",
    "    - Población de 15 años o más que no especificó su condición de alfabetismo: NAN\n",
    "    \n",
    "    $I_{i,1}=\\frac{P_i^{anal}}{P_i^{15+}}*100$\n",
    "    \n",
    "- Porcentaje de población de 15 años o más sin primaria completa\n",
    "    - Población de 15 años o más sin escolaridad $\\left(P_i^{15+se}\\right)$: **EDU31** \n",
    "    - Población de 15 años o más con primaria incompleta : **EDU34**\n",
    "    - Población de 15 años o más con primaria completa : \n",
    "    - Población de 15 años o más con secundaria incompleta : **EDU37**\n",
    "    - Población de 15 años o más con secundaria completa : **EDU40**\n",
    "    - Población de 18 años o más con educación pos-básica: **EDU43**\n",
    "    $I_{i,2}=\\frac{P_i^{15+se}+P_i^{15+pi}}{P_i^{15+se}+P_i^{15+pi}}$\n",
    "    \n",
    "- Porcentaje de viviendas particulares habitadas sin excusado\n",
    "    - Total de viviendas particulares habitadas: **VIV2**\n",
    "    - Total viviendas particulares habitadas que disponen de excusado o sanitario: **VIV19**\n",
    " \n",
    "- Porcentaje de viviendas particulares habitadas sin energía eléctrica\n",
    "    - Viviendas particulares habitadas que no disponen de luz eléctrica: **VIV15**\n",
    "    - Viviendas particulares habitadas que disponen de luz eléctrica: **VIV14**\n",
    "    \n",
    "- Porcentaje de viviendas particulares habitadas sin disponibilidad de agua entubada\n",
    "    - Viviendas particulares habitadas que no disponen de agua entubada en el ámbito de la vivienda: **VIV17**\n",
    "    - Viviendas particulares habitadas que disponen de agua entubada en el ámbito de la vivienda: **VIV16**\n",
    "    \n",
    "    \n",
    "- Promedio de ocupantes por cuarto en viviendas particulares habitados (ya calculado): **VIV5_R**\n",
    "\n",
    "- Porcentaje de viviendas particulares habitadas con piso de tierra\n",
    "    - Viviendas particulares habitadas con piso de tierra: **VIV6**\n",
    "    \n",
    "- Porcentaje de viviendas particulares habitadas que no disponen de refrigerador\n",
    "    - Viviendas particulares habitadas totales: **VIV2**\n",
    "    - Viviendas particulares habitadas que disponen de refrigerador: **VIV26**"
   ]
  },
  {
   "cell_type": "code",
   "execution_count": 2,
   "metadata": {
    "scrolled": true
   },
   "outputs": [],
   "source": [
    "censo_nl = pd.read_csv(\"data/censo_nl.csv\", encoding='latin-1')\n",
    "\n",
    "columns = [\"POB1\",\"POB20\", \n",
    "           \"EDU28\", \"EDU31\", \"EDU34\", \"EDU37\", \"EDU40\", \"EDU43\", \"EDU46\",\n",
    "          \"VIV2\",\"VIV5_R\", \"VIV6\", \"VIV14\", \"VIV15\", \"VIV16\", \"VIV17\", \"VIV19\", \"VIV20\", \"VIV26\"]\n",
    "\n",
    "censo_nl = censo_nl[[\"CVEGEO\", \"NOMBRE\"]+columns]"
   ]
  },
  {
   "cell_type": "code",
   "execution_count": 8,
   "metadata": {},
   "outputs": [],
   "source": [
    "# Porcentaje de población de 15 años o más analfabeta\n",
    "censo_nl.loc[:,\"i1_edu_anal\"] = censo_nl[\"EDU28\"]/censo_nl[\"POB20\"]*100\n",
    "\n",
    "# Porcentaje de población de 15 años o más sin primaria completa\n",
    "censo_nl.loc[:,\"i2_edu_pri\"] = (censo_nl[\"EDU31\"]+censo_nl[\"EDU34\"])/(censo_nl[\"EDU31\"]+censo_nl[\"EDU34\"]+\n",
    "                                                                  censo_nl[\"EDU37\"]+censo_nl[\"EDU40\"]+\n",
    "                                                                  censo_nl[\"EDU43\"]+censo_nl[\"EDU46\"])*100\n",
    "\n",
    "# Porcentaje de viviendas particulares habitadas sin excusado\n",
    "censo_nl.loc[:,\"i3_viv_excu\"] = (censo_nl[\"VIV2\"]-censo_nl[\"VIV19\"])/censo_nl[\"VIV2\"]*100\n",
    "censo_nl.loc[:,\"i3_viv_excu_2\"] = (censo_nl[\"VIV20\"])/censo_nl[\"VIV2\"]*100\n",
    "\n",
    "# Porcentaje de viviendas particulares habitadas sin energía eléctrica\n",
    "censo_nl.loc[:,\"i4_viv_elec\"] = censo_nl[\"VIV15\"]/(censo_nl[\"VIV15\"]+censo_nl[\"VIV14\"])*100\n",
    "\n",
    "# Porcentaje de viviendas particulares habitadas sin disponibilidad de agua entubada\n",
    "censo_nl.loc[:,\"i5_viv_agua\"] = censo_nl[\"VIV17\"]/(censo_nl[\"VIV17\"]+censo_nl[\"VIV16\"])*100\n",
    "\n",
    "# Promedio de ocupantes por cuarto en viviendas particulares habitados\n",
    "censo_nl.loc[:,\"i6_viv_poc\"] = censo_nl[\"VIV5_R\"]\n",
    "\n",
    "# Porcentaje de viviendas particulares habitadas con piso de tierra\n",
    "censo_nl.loc[:,\"i7_viv_suelo\"] = censo_nl[\"VIV6\"]/censo_nl[\"VIV2\"]*100\n",
    "\n",
    "# Porcentaje de viviendas particulares habitadas que no disponen de refrigerador\n",
    "censo_nl.loc[:,\"i8_viv_refri\"] = (censo_nl[\"VIV2\"]-censo_nl[\"VIV26\"])/censo_nl[\"VIV2\"]*100\n"
   ]
  },
  {
   "cell_type": "code",
   "execution_count": 9,
   "metadata": {},
   "outputs": [
    {
     "data": {
      "text/html": [
       "<div>\n",
       "<style scoped>\n",
       "    .dataframe tbody tr th:only-of-type {\n",
       "        vertical-align: middle;\n",
       "    }\n",
       "\n",
       "    .dataframe tbody tr th {\n",
       "        vertical-align: top;\n",
       "    }\n",
       "\n",
       "    .dataframe thead th {\n",
       "        text-align: right;\n",
       "    }\n",
       "</style>\n",
       "<table border=\"1\" class=\"dataframe\">\n",
       "  <thead>\n",
       "    <tr style=\"text-align: right;\">\n",
       "      <th></th>\n",
       "      <th>CVEGEO</th>\n",
       "      <th>NOMBRE</th>\n",
       "      <th>POB1</th>\n",
       "      <th>POB20</th>\n",
       "      <th>EDU28</th>\n",
       "      <th>EDU31</th>\n",
       "      <th>EDU34</th>\n",
       "      <th>EDU37</th>\n",
       "      <th>EDU40</th>\n",
       "      <th>EDU43</th>\n",
       "      <th>...</th>\n",
       "      <th>VIV26</th>\n",
       "      <th>i1_edu_anal</th>\n",
       "      <th>i2_edu_pri</th>\n",
       "      <th>i3_viv_excu</th>\n",
       "      <th>i3_viv_excu_2</th>\n",
       "      <th>i4_viv_elec</th>\n",
       "      <th>i5_viv_agua</th>\n",
       "      <th>i6_viv_poc</th>\n",
       "      <th>i7_viv_suelo</th>\n",
       "      <th>i8_viv_refri</th>\n",
       "    </tr>\n",
       "  </thead>\n",
       "  <tbody>\n",
       "    <tr>\n",
       "      <th>92</th>\n",
       "      <td>190010047</td>\n",
       "      <td>Alberto Villarreal</td>\n",
       "      <td>716</td>\n",
       "      <td>457</td>\n",
       "      <td>14</td>\n",
       "      <td>16</td>\n",
       "      <td>187</td>\n",
       "      <td>179</td>\n",
       "      <td>72</td>\n",
       "      <td>49</td>\n",
       "      <td>...</td>\n",
       "      <td>162</td>\n",
       "      <td>3.063457</td>\n",
       "      <td>39.11368</td>\n",
       "      <td>8.602151</td>\n",
       "      <td>8.064516</td>\n",
       "      <td>2.717391</td>\n",
       "      <td>22.162162</td>\n",
       "      <td>1.2</td>\n",
       "      <td>3.763441</td>\n",
       "      <td>12.903226</td>\n",
       "    </tr>\n",
       "  </tbody>\n",
       "</table>\n",
       "<p>1 rows × 30 columns</p>\n",
       "</div>"
      ],
      "text/plain": [
       "       CVEGEO              NOMBRE  POB1  POB20  EDU28  EDU31  EDU34  EDU37  \\\n",
       "92  190010047  Alberto Villarreal   716    457     14     16    187    179   \n",
       "\n",
       "    EDU40  EDU43  ...  VIV26  i1_edu_anal  i2_edu_pri  i3_viv_excu  \\\n",
       "92     72     49  ...    162     3.063457    39.11368     8.602151   \n",
       "\n",
       "    i3_viv_excu_2  i4_viv_elec  i5_viv_agua  i6_viv_poc  i7_viv_suelo  \\\n",
       "92       8.064516     2.717391    22.162162         1.2      3.763441   \n",
       "\n",
       "    i8_viv_refri  \n",
       "92     12.903226  \n",
       "\n",
       "[1 rows x 30 columns]"
      ]
     },
     "execution_count": 9,
     "metadata": {},
     "output_type": "execute_result"
    }
   ],
   "source": [
    "censo_nl[censo_nl.NOMBRE==\"Alberto Villarreal\"]"
   ]
  },
  {
   "cell_type": "code",
   "execution_count": 17,
   "metadata": {},
   "outputs": [
    {
     "name": "stderr",
     "output_type": "stream",
     "text": [
      "/home/enrique/anaconda3/lib/python3.7/site-packages/pandas/core/indexing.py:844: SettingWithCopyWarning: \n",
      "A value is trying to be set on a copy of a slice from a DataFrame.\n",
      "Try using .loc[row_indexer,col_indexer] = value instead\n",
      "\n",
      "See the caveats in the documentation: https://pandas.pydata.org/pandas-docs/stable/user_guide/indexing.html#returning-a-view-versus-a-copy\n",
      "  self.obj[key] = _infer_fill_value(value)\n",
      "/home/enrique/anaconda3/lib/python3.7/site-packages/pandas/core/indexing.py:965: SettingWithCopyWarning: \n",
      "A value is trying to be set on a copy of a slice from a DataFrame.\n",
      "Try using .loc[row_indexer,col_indexer] = value instead\n",
      "\n",
      "See the caveats in the documentation: https://pandas.pydata.org/pandas-docs/stable/user_guide/indexing.html#returning-a-view-versus-a-copy\n",
      "  self.obj[item] = s\n"
     ]
    }
   ],
   "source": [
    "conapo_resultados = pd.read_excel(\"data/conapo_marginacion_nl.xls\")\n",
    "\n",
    "localidades = conapo_resultados[[\"Clave del municipio\", \"Clave de localidad\"]]\n",
    "\n",
    "localidades.loc[:,\"lista\"] = localidades.loc[:,\"Clave del municipio\"].astype(str)+\"_\"+localidades.loc[:,\"Clave de localidad\"].astype(str)\n",
    "localidades = localidades.lista.to_list()\n"
   ]
  },
  {
   "cell_type": "code",
   "execution_count": 18,
   "metadata": {},
   "outputs": [
    {
     "data": {
      "text/html": [
       "<div>\n",
       "<style scoped>\n",
       "    .dataframe tbody tr th:only-of-type {\n",
       "        vertical-align: middle;\n",
       "    }\n",
       "\n",
       "    .dataframe tbody tr th {\n",
       "        vertical-align: top;\n",
       "    }\n",
       "\n",
       "    .dataframe thead th {\n",
       "        text-align: right;\n",
       "    }\n",
       "</style>\n",
       "<table border=\"1\" class=\"dataframe\">\n",
       "  <thead>\n",
       "    <tr style=\"text-align: right;\">\n",
       "      <th></th>\n",
       "      <th>CVEGEO</th>\n",
       "      <th>NOMBRE</th>\n",
       "      <th>POB1</th>\n",
       "      <th>POB20</th>\n",
       "      <th>EDU28</th>\n",
       "      <th>EDU31</th>\n",
       "      <th>EDU34</th>\n",
       "      <th>EDU37</th>\n",
       "      <th>EDU40</th>\n",
       "      <th>EDU43</th>\n",
       "      <th>...</th>\n",
       "      <th>VIV26</th>\n",
       "      <th>i1_edu_anal</th>\n",
       "      <th>i2_edu_pri</th>\n",
       "      <th>i3_viv_excu</th>\n",
       "      <th>i3_viv_excu_2</th>\n",
       "      <th>i4_viv_elec</th>\n",
       "      <th>i5_viv_agua</th>\n",
       "      <th>i6_viv_poc</th>\n",
       "      <th>i7_viv_suelo</th>\n",
       "      <th>i8_viv_refri</th>\n",
       "    </tr>\n",
       "  </thead>\n",
       "  <tbody>\n",
       "    <tr>\n",
       "      <th>0</th>\n",
       "      <td>190010001</td>\n",
       "      <td>Abasolo</td>\n",
       "      <td>1976</td>\n",
       "      <td>1352</td>\n",
       "      <td>36</td>\n",
       "      <td>55</td>\n",
       "      <td>503</td>\n",
       "      <td>403</td>\n",
       "      <td>380</td>\n",
       "      <td>212</td>\n",
       "      <td>...</td>\n",
       "      <td>473</td>\n",
       "      <td>2.662722</td>\n",
       "      <td>33.962264</td>\n",
       "      <td>1.984127</td>\n",
       "      <td>1.785714</td>\n",
       "      <td>0.998004</td>\n",
       "      <td>-1.219512</td>\n",
       "      <td>1.0</td>\n",
       "      <td>-1.190476</td>\n",
       "      <td>6.150794</td>\n",
       "    </tr>\n",
       "    <tr>\n",
       "      <th>1</th>\n",
       "      <td>190020001</td>\n",
       "      <td>Agualeguas</td>\n",
       "      <td>1995</td>\n",
       "      <td>1534</td>\n",
       "      <td>82</td>\n",
       "      <td>119</td>\n",
       "      <td>736</td>\n",
       "      <td>287</td>\n",
       "      <td>386</td>\n",
       "      <td>230</td>\n",
       "      <td>...</td>\n",
       "      <td>646</td>\n",
       "      <td>5.345502</td>\n",
       "      <td>46.341463</td>\n",
       "      <td>1.793722</td>\n",
       "      <td>1.644245</td>\n",
       "      <td>0.900901</td>\n",
       "      <td>1.051051</td>\n",
       "      <td>0.8</td>\n",
       "      <td>-0.896861</td>\n",
       "      <td>3.437967</td>\n",
       "    </tr>\n",
       "  </tbody>\n",
       "</table>\n",
       "<p>2 rows × 30 columns</p>\n",
       "</div>"
      ],
      "text/plain": [
       "      CVEGEO      NOMBRE  POB1  POB20  EDU28  EDU31  EDU34  EDU37  EDU40  \\\n",
       "0  190010001     Abasolo  1976   1352     36     55    503    403    380   \n",
       "1  190020001  Agualeguas  1995   1534     82    119    736    287    386   \n",
       "\n",
       "   EDU43  ...  VIV26  i1_edu_anal  i2_edu_pri  i3_viv_excu  i3_viv_excu_2  \\\n",
       "0    212  ...    473     2.662722   33.962264     1.984127       1.785714   \n",
       "1    230  ...    646     5.345502   46.341463     1.793722       1.644245   \n",
       "\n",
       "   i4_viv_elec  i5_viv_agua  i6_viv_poc  i7_viv_suelo  i8_viv_refri  \n",
       "0     0.998004    -1.219512         1.0     -1.190476      6.150794  \n",
       "1     0.900901     1.051051         0.8     -0.896861      3.437967  \n",
       "\n",
       "[2 rows x 30 columns]"
      ]
     },
     "execution_count": 18,
     "metadata": {},
     "output_type": "execute_result"
    }
   ],
   "source": [
    "censo_nl.head(2)"
   ]
  },
  {
   "cell_type": "code",
   "execution_count": 19,
   "metadata": {},
   "outputs": [],
   "source": [
    "censo_nl[\"cla_mun\"] = censo_nl.CVEGEO.astype(str).apply(lambda x: x[2:5]).astype(int).astype(str)\n",
    "censo_nl[\"cla_loc\"] = censo_nl.CVEGEO.astype(str).apply(lambda x: x[5:]).astype(int).astype(str)\n",
    "\n",
    "censo_nl[\"lista\"] = censo_nl[\"cla_mun\"]+\"_\"+censo_nl[\"cla_loc\"]\n",
    "\n",
    "censo_nl = censo_nl[censo_nl.lista.isin(localidades)].sort_values(\"CVEGEO\")"
   ]
  },
  {
   "cell_type": "code",
   "execution_count": 20,
   "metadata": {},
   "outputs": [
    {
     "data": {
      "text/plain": [
       "(2037, 33)"
      ]
     },
     "execution_count": 20,
     "metadata": {},
     "output_type": "execute_result"
    }
   ],
   "source": [
    "censo_nl.shape"
   ]
  },
  {
   "cell_type": "code",
   "execution_count": 21,
   "metadata": {},
   "outputs": [
    {
     "data": {
      "text/plain": [
       "23.286727456940223"
      ]
     },
     "execution_count": 21,
     "metadata": {},
     "output_type": "execute_result"
    }
   ],
   "source": [
    "34/1974*1352"
   ]
  },
  {
   "cell_type": "code",
   "execution_count": 22,
   "metadata": {},
   "outputs": [
    {
     "data": {
      "text/plain": [
       "0.00354251012145749"
      ]
     },
     "execution_count": 22,
     "metadata": {},
     "output_type": "execute_result"
    }
   ],
   "source": [
    "(7/1976)"
   ]
  },
  {
   "cell_type": "code",
   "execution_count": 23,
   "metadata": {},
   "outputs": [
    {
     "data": {
      "text/html": [
       "<div>\n",
       "<style scoped>\n",
       "    .dataframe tbody tr th:only-of-type {\n",
       "        vertical-align: middle;\n",
       "    }\n",
       "\n",
       "    .dataframe tbody tr th {\n",
       "        vertical-align: top;\n",
       "    }\n",
       "\n",
       "    .dataframe thead th {\n",
       "        text-align: right;\n",
       "    }\n",
       "</style>\n",
       "<table border=\"1\" class=\"dataframe\">\n",
       "  <thead>\n",
       "    <tr style=\"text-align: right;\">\n",
       "      <th></th>\n",
       "      <th>CVEGEO</th>\n",
       "      <th>NOMBRE</th>\n",
       "      <th>POB1</th>\n",
       "      <th>POB20</th>\n",
       "      <th>EDU28</th>\n",
       "      <th>EDU31</th>\n",
       "      <th>EDU34</th>\n",
       "      <th>EDU37</th>\n",
       "      <th>EDU40</th>\n",
       "      <th>EDU43</th>\n",
       "      <th>...</th>\n",
       "      <th>i3_viv_excu</th>\n",
       "      <th>i3_viv_excu_2</th>\n",
       "      <th>i4_viv_elec</th>\n",
       "      <th>i5_viv_agua</th>\n",
       "      <th>i6_viv_poc</th>\n",
       "      <th>i7_viv_suelo</th>\n",
       "      <th>i8_viv_refri</th>\n",
       "      <th>cla_mun</th>\n",
       "      <th>cla_loc</th>\n",
       "      <th>lista</th>\n",
       "    </tr>\n",
       "  </thead>\n",
       "  <tbody>\n",
       "    <tr>\n",
       "      <th>0</th>\n",
       "      <td>190010001</td>\n",
       "      <td>Abasolo</td>\n",
       "      <td>1976</td>\n",
       "      <td>1352</td>\n",
       "      <td>36</td>\n",
       "      <td>55</td>\n",
       "      <td>503</td>\n",
       "      <td>403</td>\n",
       "      <td>380</td>\n",
       "      <td>212</td>\n",
       "      <td>...</td>\n",
       "      <td>1.984127</td>\n",
       "      <td>1.785714</td>\n",
       "      <td>0.998004</td>\n",
       "      <td>-1.219512</td>\n",
       "      <td>1.0</td>\n",
       "      <td>-1.190476</td>\n",
       "      <td>6.150794</td>\n",
       "      <td>1</td>\n",
       "      <td>1</td>\n",
       "      <td>1_1</td>\n",
       "    </tr>\n",
       "    <tr>\n",
       "      <th>83</th>\n",
       "      <td>190010021</td>\n",
       "      <td>Abasolo</td>\n",
       "      <td>22</td>\n",
       "      <td>10</td>\n",
       "      <td>0</td>\n",
       "      <td>0</td>\n",
       "      <td>4</td>\n",
       "      <td>4</td>\n",
       "      <td>-6</td>\n",
       "      <td>-6</td>\n",
       "      <td>...</td>\n",
       "      <td>40.000000</td>\n",
       "      <td>-120.000000</td>\n",
       "      <td>0.000000</td>\n",
       "      <td>100.000000</td>\n",
       "      <td>-6.0</td>\n",
       "      <td>0.000000</td>\n",
       "      <td>0.000000</td>\n",
       "      <td>1</td>\n",
       "      <td>21</td>\n",
       "      <td>1_21</td>\n",
       "    </tr>\n",
       "    <tr>\n",
       "      <th>91</th>\n",
       "      <td>190010046</td>\n",
       "      <td>Colinas del Fraile</td>\n",
       "      <td>34</td>\n",
       "      <td>-9</td>\n",
       "      <td>-9</td>\n",
       "      <td>-9</td>\n",
       "      <td>-9</td>\n",
       "      <td>-9</td>\n",
       "      <td>-9</td>\n",
       "      <td>-9</td>\n",
       "      <td>...</td>\n",
       "      <td>228.571429</td>\n",
       "      <td>-128.571429</td>\n",
       "      <td>50.000000</td>\n",
       "      <td>50.000000</td>\n",
       "      <td>-9.0</td>\n",
       "      <td>-128.571429</td>\n",
       "      <td>228.571429</td>\n",
       "      <td>1</td>\n",
       "      <td>46</td>\n",
       "      <td>1_46</td>\n",
       "    </tr>\n",
       "    <tr>\n",
       "      <th>92</th>\n",
       "      <td>190010047</td>\n",
       "      <td>Alberto Villarreal</td>\n",
       "      <td>716</td>\n",
       "      <td>457</td>\n",
       "      <td>14</td>\n",
       "      <td>16</td>\n",
       "      <td>187</td>\n",
       "      <td>179</td>\n",
       "      <td>72</td>\n",
       "      <td>49</td>\n",
       "      <td>...</td>\n",
       "      <td>8.602151</td>\n",
       "      <td>8.064516</td>\n",
       "      <td>2.717391</td>\n",
       "      <td>22.162162</td>\n",
       "      <td>1.2</td>\n",
       "      <td>3.763441</td>\n",
       "      <td>12.903226</td>\n",
       "      <td>1</td>\n",
       "      <td>47</td>\n",
       "      <td>1_47</td>\n",
       "    </tr>\n",
       "    <tr>\n",
       "      <th>1</th>\n",
       "      <td>190020001</td>\n",
       "      <td>Agualeguas</td>\n",
       "      <td>1995</td>\n",
       "      <td>1534</td>\n",
       "      <td>82</td>\n",
       "      <td>119</td>\n",
       "      <td>736</td>\n",
       "      <td>287</td>\n",
       "      <td>386</td>\n",
       "      <td>230</td>\n",
       "      <td>...</td>\n",
       "      <td>1.793722</td>\n",
       "      <td>1.644245</td>\n",
       "      <td>0.900901</td>\n",
       "      <td>1.051051</td>\n",
       "      <td>0.8</td>\n",
       "      <td>-0.896861</td>\n",
       "      <td>3.437967</td>\n",
       "      <td>2</td>\n",
       "      <td>1</td>\n",
       "      <td>2_1</td>\n",
       "    </tr>\n",
       "    <tr>\n",
       "      <th>94</th>\n",
       "      <td>190020009</td>\n",
       "      <td>Tres Hermanos</td>\n",
       "      <td>58</td>\n",
       "      <td>41</td>\n",
       "      <td>0</td>\n",
       "      <td>3</td>\n",
       "      <td>27</td>\n",
       "      <td>6</td>\n",
       "      <td>5</td>\n",
       "      <td>3</td>\n",
       "      <td>...</td>\n",
       "      <td>0.000000</td>\n",
       "      <td>0.000000</td>\n",
       "      <td>0.000000</td>\n",
       "      <td>-85.714286</td>\n",
       "      <td>1.1</td>\n",
       "      <td>0.000000</td>\n",
       "      <td>0.000000</td>\n",
       "      <td>2</td>\n",
       "      <td>9</td>\n",
       "      <td>2_9</td>\n",
       "    </tr>\n",
       "    <tr>\n",
       "      <th>95</th>\n",
       "      <td>190020012</td>\n",
       "      <td>Cieneguitas</td>\n",
       "      <td>57</td>\n",
       "      <td>53</td>\n",
       "      <td>3</td>\n",
       "      <td>3</td>\n",
       "      <td>37</td>\n",
       "      <td>7</td>\n",
       "      <td>6</td>\n",
       "      <td>6</td>\n",
       "      <td>...</td>\n",
       "      <td>14.285714</td>\n",
       "      <td>-28.571429</td>\n",
       "      <td>0.000000</td>\n",
       "      <td>-46.153846</td>\n",
       "      <td>1.0</td>\n",
       "      <td>-28.571429</td>\n",
       "      <td>4.761905</td>\n",
       "      <td>2</td>\n",
       "      <td>12</td>\n",
       "      <td>2_12</td>\n",
       "    </tr>\n",
       "    <tr>\n",
       "      <th>96</th>\n",
       "      <td>190020017</td>\n",
       "      <td>La Escondida</td>\n",
       "      <td>173</td>\n",
       "      <td>140</td>\n",
       "      <td>4</td>\n",
       "      <td>3</td>\n",
       "      <td>96</td>\n",
       "      <td>21</td>\n",
       "      <td>15</td>\n",
       "      <td>11</td>\n",
       "      <td>...</td>\n",
       "      <td>8.064516</td>\n",
       "      <td>4.838710</td>\n",
       "      <td>0.000000</td>\n",
       "      <td>-11.538462</td>\n",
       "      <td>0.9</td>\n",
       "      <td>0.000000</td>\n",
       "      <td>3.225806</td>\n",
       "      <td>2</td>\n",
       "      <td>17</td>\n",
       "      <td>2_17</td>\n",
       "    </tr>\n",
       "    <tr>\n",
       "      <th>98</th>\n",
       "      <td>190020021</td>\n",
       "      <td>Los Garza</td>\n",
       "      <td>244</td>\n",
       "      <td>197</td>\n",
       "      <td>5</td>\n",
       "      <td>6</td>\n",
       "      <td>117</td>\n",
       "      <td>52</td>\n",
       "      <td>21</td>\n",
       "      <td>16</td>\n",
       "      <td>...</td>\n",
       "      <td>1.176471</td>\n",
       "      <td>-7.058824</td>\n",
       "      <td>0.000000</td>\n",
       "      <td>-7.692308</td>\n",
       "      <td>0.8</td>\n",
       "      <td>0.000000</td>\n",
       "      <td>2.352941</td>\n",
       "      <td>2</td>\n",
       "      <td>21</td>\n",
       "      <td>2_21</td>\n",
       "    </tr>\n",
       "    <tr>\n",
       "      <th>100</th>\n",
       "      <td>190020027</td>\n",
       "      <td>Lagunillas (San José Lagunillas)</td>\n",
       "      <td>60</td>\n",
       "      <td>45</td>\n",
       "      <td>-6</td>\n",
       "      <td>-6</td>\n",
       "      <td>36</td>\n",
       "      <td>3</td>\n",
       "      <td>5</td>\n",
       "      <td>4</td>\n",
       "      <td>...</td>\n",
       "      <td>5.000000</td>\n",
       "      <td>-30.000000</td>\n",
       "      <td>0.000000</td>\n",
       "      <td>-46.153846</td>\n",
       "      <td>1.0</td>\n",
       "      <td>-30.000000</td>\n",
       "      <td>0.000000</td>\n",
       "      <td>2</td>\n",
       "      <td>27</td>\n",
       "      <td>2_27</td>\n",
       "    </tr>\n",
       "  </tbody>\n",
       "</table>\n",
       "<p>10 rows × 33 columns</p>\n",
       "</div>"
      ],
      "text/plain": [
       "        CVEGEO                            NOMBRE  POB1  POB20  EDU28  EDU31  \\\n",
       "0    190010001                           Abasolo  1976   1352     36     55   \n",
       "83   190010021                           Abasolo    22     10      0      0   \n",
       "91   190010046                Colinas del Fraile    34     -9     -9     -9   \n",
       "92   190010047                Alberto Villarreal   716    457     14     16   \n",
       "1    190020001                        Agualeguas  1995   1534     82    119   \n",
       "94   190020009                     Tres Hermanos    58     41      0      3   \n",
       "95   190020012                       Cieneguitas    57     53      3      3   \n",
       "96   190020017                      La Escondida   173    140      4      3   \n",
       "98   190020021                         Los Garza   244    197      5      6   \n",
       "100  190020027  Lagunillas (San José Lagunillas)    60     45     -6     -6   \n",
       "\n",
       "     EDU34  EDU37  EDU40  EDU43  ...  i3_viv_excu  i3_viv_excu_2  i4_viv_elec  \\\n",
       "0      503    403    380    212  ...     1.984127       1.785714     0.998004   \n",
       "83       4      4     -6     -6  ...    40.000000    -120.000000     0.000000   \n",
       "91      -9     -9     -9     -9  ...   228.571429    -128.571429    50.000000   \n",
       "92     187    179     72     49  ...     8.602151       8.064516     2.717391   \n",
       "1      736    287    386    230  ...     1.793722       1.644245     0.900901   \n",
       "94      27      6      5      3  ...     0.000000       0.000000     0.000000   \n",
       "95      37      7      6      6  ...    14.285714     -28.571429     0.000000   \n",
       "96      96     21     15     11  ...     8.064516       4.838710     0.000000   \n",
       "98     117     52     21     16  ...     1.176471      -7.058824     0.000000   \n",
       "100     36      3      5      4  ...     5.000000     -30.000000     0.000000   \n",
       "\n",
       "     i5_viv_agua  i6_viv_poc  i7_viv_suelo  i8_viv_refri  cla_mun  cla_loc  \\\n",
       "0      -1.219512         1.0     -1.190476      6.150794        1        1   \n",
       "83    100.000000        -6.0      0.000000      0.000000        1       21   \n",
       "91     50.000000        -9.0   -128.571429    228.571429        1       46   \n",
       "92     22.162162         1.2      3.763441     12.903226        1       47   \n",
       "1       1.051051         0.8     -0.896861      3.437967        2        1   \n",
       "94    -85.714286         1.1      0.000000      0.000000        2        9   \n",
       "95    -46.153846         1.0    -28.571429      4.761905        2       12   \n",
       "96    -11.538462         0.9      0.000000      3.225806        2       17   \n",
       "98     -7.692308         0.8      0.000000      2.352941        2       21   \n",
       "100   -46.153846         1.0    -30.000000      0.000000        2       27   \n",
       "\n",
       "     lista  \n",
       "0      1_1  \n",
       "83    1_21  \n",
       "91    1_46  \n",
       "92    1_47  \n",
       "1      2_1  \n",
       "94     2_9  \n",
       "95    2_12  \n",
       "96    2_17  \n",
       "98    2_21  \n",
       "100   2_27  \n",
       "\n",
       "[10 rows x 33 columns]"
      ]
     },
     "execution_count": 23,
     "metadata": {},
     "output_type": "execute_result"
    }
   ],
   "source": [
    "censo_nl.head(10)"
   ]
  },
  {
   "cell_type": "markdown",
   "metadata": {},
   "source": [
    "### Nueva base\n",
    "- Porcentaje de población de 15 años o más analfabeta. \n",
    "    - Población de 15 años o más $\\left(P_i^{15+}\\right)$: **P_15YMAS**\n",
    "    - Población de 15 años o más analfabeta $\\left(P_i^{anal}\\right)$: **P15YM_AN**\n",
    "    - Población de 15 años o más que no especificó su condición de alfabetismo: NAN\n",
    "    \n",
    "    $I_{i,1}=\\frac{P_i^{anal}}{P_i^{15+}}*100$\n",
    "    \n",
    "- Porcentaje de población de 15 años o más sin primaria completa\n",
    "    - Población de 15 años o más sin escolaridad $\\left(P_i^{15+se}\\right)$: **P15YM_SE** \n",
    "    - Población de 15 años o más con primaria incompleta : **P15PRI_IN**\n",
    "    - Población de 15 años o más con primaria completa : **P15PRI_CO**\n",
    "    - Población de 15 años o más con secundaria incompleta : **P15SEC_IN**\n",
    "    - Población de 15 años o más con secundaria completa : **P15SEC_CO**\n",
    "    - Población de 18 años o más con educación pos-básica: **P18YM_PB**\n",
    "    $I_{i,2}=\\frac{P_i^{15+se}+P_i^{15+pi}}{P_i^{15+se}+P_i^{15+pi}}$\n",
    "    \n",
    "- Porcentaje de viviendas particulares habitadas sin excusado\n",
    "    - Total de viviendas particulares habitadas: **TVIVPARHAB**\n",
    "    - Total viviendas particulares habitadas que disponen de excusado o sanitario: **VPH_EXCSA**\n",
    " \n",
    "- Porcentaje de viviendas particulares habitadas sin energía eléctrica\n",
    "    - Viviendas particulares habitadas que no disponen de luz eléctrica: **VPH_S_ELEC**\n",
    "    - Viviendas particulares habitadas que disponen de luz eléctrica: **VPH_C_ELEC**\n",
    "    \n",
    "- Porcentaje de viviendas particulares habitadas sin disponibilidad de agua entubada\n",
    "    - Viviendas particulares habitadas que no disponen de agua entubada en el ámbito de la vivienda: **VPH_AGUADV**\n",
    "    - Viviendas particulares habitadas que disponen de agua entubada en el ámbito de la vivienda: **VPH_AGUAFV**\n",
    "    \n",
    "    \n",
    "- Promedio de ocupantes por cuarto en viviendas particulares habitados (ya calculado): **PRO_OCUP_C**\n",
    "\n",
    "- Porcentaje de viviendas particulares habitadas con piso de tierra\n",
    "    - Viviendas particulares habitadas con piso de tierra: **VPH_PISOTI**\n",
    "    - Viviendas particulares habitadas con piso diferente de tierra **VPH_PISODT**\n",
    "    \n",
    "- Porcentaje de viviendas particulares habitadas que no disponen de refrigerador\n",
    "    - Viviendas particulares habitadas totales: **TVIVPARHAB**\n",
    "    - Viviendas particulares habitadas que disponen de refrigerador: **VPH_REFRI**"
   ]
  },
  {
   "cell_type": "code",
   "execution_count": 112,
   "metadata": {},
   "outputs": [
    {
     "data": {
      "text/html": [
       "<div>\n",
       "<style scoped>\n",
       "    .dataframe tbody tr th:only-of-type {\n",
       "        vertical-align: middle;\n",
       "    }\n",
       "\n",
       "    .dataframe tbody tr th {\n",
       "        vertical-align: top;\n",
       "    }\n",
       "\n",
       "    .dataframe thead th {\n",
       "        text-align: right;\n",
       "    }\n",
       "</style>\n",
       "<table border=\"1\" class=\"dataframe\">\n",
       "  <thead>\n",
       "    <tr style=\"text-align: right;\">\n",
       "      <th></th>\n",
       "      <th>ENTIDAD</th>\n",
       "      <th>NOM_ENT</th>\n",
       "      <th>MUN</th>\n",
       "      <th>NOM_MUN</th>\n",
       "      <th>LOC</th>\n",
       "      <th>NOM_LOC</th>\n",
       "      <th>LONGITUD</th>\n",
       "      <th>LATITUD</th>\n",
       "      <th>ALTITUD</th>\n",
       "      <th>POBTOT</th>\n",
       "      <th>...</th>\n",
       "      <th>VPH_TV</th>\n",
       "      <th>VPH_REFRI</th>\n",
       "      <th>VPH_LAVAD</th>\n",
       "      <th>VPH_AUTOM</th>\n",
       "      <th>VPH_PC</th>\n",
       "      <th>VPH_TELEF</th>\n",
       "      <th>VPH_CEL</th>\n",
       "      <th>VPH_INTER</th>\n",
       "      <th>TAM_LOC</th>\n",
       "      <th>cl_loc</th>\n",
       "    </tr>\n",
       "  </thead>\n",
       "  <tbody>\n",
       "    <tr>\n",
       "      <th>1</th>\n",
       "      <td>19</td>\n",
       "      <td>Nuevo León</td>\n",
       "      <td>1</td>\n",
       "      <td>Abasolo</td>\n",
       "      <td>1</td>\n",
       "      <td>Abasolo</td>\n",
       "      <td>1002356.0</td>\n",
       "      <td>255643.0</td>\n",
       "      <td>518.0</td>\n",
       "      <td>1976</td>\n",
       "      <td>...</td>\n",
       "      <td>493</td>\n",
       "      <td>473</td>\n",
       "      <td>420</td>\n",
       "      <td>271</td>\n",
       "      <td>116</td>\n",
       "      <td>104</td>\n",
       "      <td>397</td>\n",
       "      <td>51</td>\n",
       "      <td>4.0</td>\n",
       "      <td>1_1</td>\n",
       "    </tr>\n",
       "    <tr>\n",
       "      <th>2</th>\n",
       "      <td>19</td>\n",
       "      <td>Nuevo León</td>\n",
       "      <td>1</td>\n",
       "      <td>Abasolo</td>\n",
       "      <td>8</td>\n",
       "      <td>La Gloria</td>\n",
       "      <td>1002247.0</td>\n",
       "      <td>255614.0</td>\n",
       "      <td>499.0</td>\n",
       "      <td>7</td>\n",
       "      <td>...</td>\n",
       "      <td>*</td>\n",
       "      <td>*</td>\n",
       "      <td>*</td>\n",
       "      <td>*</td>\n",
       "      <td>*</td>\n",
       "      <td>*</td>\n",
       "      <td>*</td>\n",
       "      <td>*</td>\n",
       "      <td>1.0</td>\n",
       "      <td>1_8</td>\n",
       "    </tr>\n",
       "    <tr>\n",
       "      <th>3</th>\n",
       "      <td>19</td>\n",
       "      <td>Nuevo León</td>\n",
       "      <td>1</td>\n",
       "      <td>Abasolo</td>\n",
       "      <td>9</td>\n",
       "      <td>Los Ligeros</td>\n",
       "      <td>1002338.0</td>\n",
       "      <td>255555.0</td>\n",
       "      <td>501.0</td>\n",
       "      <td>3</td>\n",
       "      <td>...</td>\n",
       "      <td>*</td>\n",
       "      <td>*</td>\n",
       "      <td>*</td>\n",
       "      <td>*</td>\n",
       "      <td>*</td>\n",
       "      <td>*</td>\n",
       "      <td>*</td>\n",
       "      <td>*</td>\n",
       "      <td>1.0</td>\n",
       "      <td>1_9</td>\n",
       "    </tr>\n",
       "    <tr>\n",
       "      <th>4</th>\n",
       "      <td>19</td>\n",
       "      <td>Nuevo León</td>\n",
       "      <td>1</td>\n",
       "      <td>Abasolo</td>\n",
       "      <td>11</td>\n",
       "      <td>La Muralla</td>\n",
       "      <td>1002344.0</td>\n",
       "      <td>255620.0</td>\n",
       "      <td>500.0</td>\n",
       "      <td>4</td>\n",
       "      <td>...</td>\n",
       "      <td>*</td>\n",
       "      <td>*</td>\n",
       "      <td>*</td>\n",
       "      <td>*</td>\n",
       "      <td>*</td>\n",
       "      <td>*</td>\n",
       "      <td>*</td>\n",
       "      <td>*</td>\n",
       "      <td>1.0</td>\n",
       "      <td>1_11</td>\n",
       "    </tr>\n",
       "    <tr>\n",
       "      <th>5</th>\n",
       "      <td>19</td>\n",
       "      <td>Nuevo León</td>\n",
       "      <td>1</td>\n",
       "      <td>Abasolo</td>\n",
       "      <td>21</td>\n",
       "      <td>Abasolo</td>\n",
       "      <td>1002433.0</td>\n",
       "      <td>255619.0</td>\n",
       "      <td>516.0</td>\n",
       "      <td>22</td>\n",
       "      <td>...</td>\n",
       "      <td>4</td>\n",
       "      <td>5</td>\n",
       "      <td>3</td>\n",
       "      <td>1</td>\n",
       "      <td>1</td>\n",
       "      <td>0</td>\n",
       "      <td>2</td>\n",
       "      <td>0</td>\n",
       "      <td>1.0</td>\n",
       "      <td>1_21</td>\n",
       "    </tr>\n",
       "  </tbody>\n",
       "</table>\n",
       "<p>5 rows × 201 columns</p>\n",
       "</div>"
      ],
      "text/plain": [
       "   ENTIDAD     NOM_ENT  MUN  NOM_MUN  LOC      NOM_LOC   LONGITUD   LATITUD  \\\n",
       "1       19  Nuevo León    1  Abasolo    1      Abasolo  1002356.0  255643.0   \n",
       "2       19  Nuevo León    1  Abasolo    8    La Gloria  1002247.0  255614.0   \n",
       "3       19  Nuevo León    1  Abasolo    9  Los Ligeros  1002338.0  255555.0   \n",
       "4       19  Nuevo León    1  Abasolo   11   La Muralla  1002344.0  255620.0   \n",
       "5       19  Nuevo León    1  Abasolo   21      Abasolo  1002433.0  255619.0   \n",
       "\n",
       "   ALTITUD  POBTOT  ... VPH_TV VPH_REFRI VPH_LAVAD VPH_AUTOM VPH_PC VPH_TELEF  \\\n",
       "1    518.0    1976  ...    493       473       420       271    116       104   \n",
       "2    499.0       7  ...      *         *         *         *      *         *   \n",
       "3    501.0       3  ...      *         *         *         *      *         *   \n",
       "4    500.0       4  ...      *         *         *         *      *         *   \n",
       "5    516.0      22  ...      4         5         3         1      1         0   \n",
       "\n",
       "  VPH_CEL VPH_INTER TAM_LOC cl_loc  \n",
       "1     397        51     4.0    1_1  \n",
       "2       *         *     1.0    1_8  \n",
       "3       *         *     1.0    1_9  \n",
       "4       *         *     1.0   1_11  \n",
       "5       2         0     1.0   1_21  \n",
       "\n",
       "[5 rows x 201 columns]"
      ]
     },
     "execution_count": 112,
     "metadata": {},
     "output_type": "execute_result"
    }
   ],
   "source": [
    "censo_nl_new = pd.read_csv(\"data/censo_nl_update.csv\")\n",
    "censo_nl_new = censo_nl_new[~censo_nl_new.LONGITUD.isnull()]\n",
    "censo_nl_new[\"cl_loc\"] = censo_nl_new[\"MUN\"].astype(str)+\"_\"+censo_nl_new[\"LOC\"].astype(str)\n",
    "\n",
    "censo_nl_new.head()"
   ]
  },
  {
   "cell_type": "code",
   "execution_count": 115,
   "metadata": {},
   "outputs": [
    {
     "data": {
      "text/plain": [
       "(5261, 20)"
      ]
     },
     "execution_count": 115,
     "metadata": {},
     "output_type": "execute_result"
    }
   ],
   "source": [
    "censo_nl_new.shape"
   ]
  },
  {
   "cell_type": "code",
   "execution_count": 116,
   "metadata": {},
   "outputs": [],
   "source": [
    "columns_new = [\"P_15YMAS\",\"P15YM_AN\", \n",
    "           \"P15YM_SE\", \"P15PRI_IN\", \"P15PRI_CO\", \"P15SEC_IN\", \"P15SEC_CO\", \"P18YM_PB\",\n",
    "           \"TVIVPARHAB\", \"VPH_EXCSA\",\n",
    "           \"VPH_S_ELEC\", \"VPH_C_ELEC\",\n",
    "           \"VPH_AGUADV\", \"VPH_AGUAFV\",\n",
    "           \"PRO_OCUP_C\",\n",
    "           \"VPH_PISOTI\", \"VPH_PISODT\",\n",
    "           \"VPH_REFRI\"]\n",
    "\n",
    "censo_nl_new = censo_nl_new[[\"cl_loc\", \"NOM_LOC\"]+columns_new]"
   ]
  },
  {
   "cell_type": "code",
   "execution_count": 117,
   "metadata": {},
   "outputs": [],
   "source": [
    "censo_nl_new[censo_nl_new==\"*\"]=\"-1\"\n",
    "censo_nl_new = censo_nl_new[censo_nl_new.P_15YMAS!='N/D']"
   ]
  },
  {
   "cell_type": "code",
   "execution_count": 118,
   "metadata": {},
   "outputs": [],
   "source": [
    "for i in columns_new:\n",
    "    censo_nl_new[i] = censo_nl_new[i].astype(float)\n",
    "    censo_nl_new[i] = censo_nl_new[i].replace({-1:np.nan}) "
   ]
  },
  {
   "cell_type": "code",
   "execution_count": 119,
   "metadata": {},
   "outputs": [],
   "source": [
    "# Porcentaje de población de 15 años o más analfabeta\n",
    "censo_nl_new.loc[:,\"i1_edu_anal\"] = censo_nl_new[\"P15YM_AN\"]/censo_nl_new[\"P_15YMAS\"]*100\n",
    "\n",
    "# Porcentaje de población de 15 años o más sin primaria completa\n",
    "censo_nl_new.loc[:,\"i2_edu_pri\"] = (censo_nl_new[\"P15YM_SE\"]+censo_nl_new[\"P15PRI_IN\"])/(censo_nl_new[\"P15YM_SE\"]+censo_nl_new[\"P15PRI_IN\"]+\n",
    "                                                                  censo_nl_new[\"P15PRI_CO\"]+censo_nl_new[\"P15SEC_IN\"]+\n",
    "                                                                  censo_nl_new[\"P15SEC_CO\"]+censo_nl_new[\"P18YM_PB\"])*100\n",
    "\n",
    "# Porcentaje de viviendas particulares habitadas sin excusado\n",
    "censo_nl_new.loc[:,\"i3_viv_excu\"] = (censo_nl_new[\"TVIVPARHAB\"]-censo_nl_new[\"VPH_EXCSA\"])/censo_nl_new[\"TVIVPARHAB\"]*100\n",
    "\n",
    "# Porcentaje de viviendas particulares habitadas sin energía eléctrica\n",
    "censo_nl_new.loc[:,\"i4_viv_elec\"] = censo_nl_new[\"VPH_S_ELEC\"]/(censo_nl_new[\"VPH_S_ELEC\"]+censo_nl_new[\"VPH_C_ELEC\"])*100\n",
    "\n",
    "# Porcentaje de viviendas particulares habitadas sin disponibilidad de agua entubada\n",
    "censo_nl_new.loc[:,\"i5_viv_agua\"] = censo_nl_new[\"VPH_AGUAFV\"]/(censo_nl_new[\"VPH_AGUAFV\"]+censo_nl_new[\"VPH_AGUADV\"])*100\n",
    "\n",
    "# Promedio de ocupantes por cuarto en viviendas particulares habitados\n",
    "censo_nl_new.loc[:,\"i6_viv_poc\"] = censo_nl_new[\"PRO_OCUP_C\"]\n",
    "\n",
    "# Porcentaje de viviendas particulares habitadas con piso de tierra\n",
    "censo_nl_new.loc[:,\"i7_viv_suelo\"] = censo_nl_new[\"VPH_PISOTI\"]/(censo_nl_new[\"VPH_PISOTI\"]+censo_nl_new[\"VPH_PISODT\"])*100\n",
    "\n",
    "# Porcentaje de viviendas particulares habitadas que no disponen de refrigerador\n",
    "censo_nl_new.loc[:,\"i8_viv_refri\"] = (censo_nl_new[\"TVIVPARHAB\"]-censo_nl_new[\"VPH_REFRI\"])/censo_nl_new[\"TVIVPARHAB\"]*100\n"
   ]
  },
  {
   "cell_type": "code",
   "execution_count": 120,
   "metadata": {},
   "outputs": [
    {
     "data": {
      "text/html": [
       "<div>\n",
       "<style scoped>\n",
       "    .dataframe tbody tr th:only-of-type {\n",
       "        vertical-align: middle;\n",
       "    }\n",
       "\n",
       "    .dataframe tbody tr th {\n",
       "        vertical-align: top;\n",
       "    }\n",
       "\n",
       "    .dataframe thead th {\n",
       "        text-align: right;\n",
       "    }\n",
       "</style>\n",
       "<table border=\"1\" class=\"dataframe\">\n",
       "  <thead>\n",
       "    <tr style=\"text-align: right;\">\n",
       "      <th></th>\n",
       "      <th>cl_loc</th>\n",
       "      <th>NOM_LOC</th>\n",
       "      <th>i1_edu_anal</th>\n",
       "      <th>i2_edu_pri</th>\n",
       "      <th>i3_viv_excu</th>\n",
       "      <th>i4_viv_elec</th>\n",
       "      <th>i5_viv_agua</th>\n",
       "      <th>i6_viv_poc</th>\n",
       "      <th>i7_viv_suelo</th>\n",
       "      <th>i8_viv_refri</th>\n",
       "    </tr>\n",
       "  </thead>\n",
       "  <tbody>\n",
       "    <tr>\n",
       "      <th>1</th>\n",
       "      <td>1_1</td>\n",
       "      <td>Abasolo</td>\n",
       "      <td>2.662722</td>\n",
       "      <td>18.706697</td>\n",
       "      <td>6.616257</td>\n",
       "      <td>0.998004</td>\n",
       "      <td>0.200401</td>\n",
       "      <td>1.03</td>\n",
       "      <td>0.398406</td>\n",
       "      <td>10.586011</td>\n",
       "    </tr>\n",
       "    <tr>\n",
       "      <th>5</th>\n",
       "      <td>1_21</td>\n",
       "      <td>Abasolo</td>\n",
       "      <td>0.000000</td>\n",
       "      <td>0.000000</td>\n",
       "      <td>40.000000</td>\n",
       "      <td>0.000000</td>\n",
       "      <td>100.000000</td>\n",
       "      <td>2.00</td>\n",
       "      <td>0.000000</td>\n",
       "      <td>0.000000</td>\n",
       "    </tr>\n",
       "    <tr>\n",
       "      <th>13</th>\n",
       "      <td>1_46</td>\n",
       "      <td>Colinas del Fraile</td>\n",
       "      <td>0.000000</td>\n",
       "      <td>12.500000</td>\n",
       "      <td>75.000000</td>\n",
       "      <td>57.142857</td>\n",
       "      <td>71.428571</td>\n",
       "      <td>1.72</td>\n",
       "      <td>57.142857</td>\n",
       "      <td>75.000000</td>\n",
       "    </tr>\n",
       "    <tr>\n",
       "      <th>14</th>\n",
       "      <td>1_47</td>\n",
       "      <td>Alberto Villarreal</td>\n",
       "      <td>3.063457</td>\n",
       "      <td>14.765101</td>\n",
       "      <td>9.090909</td>\n",
       "      <td>2.717391</td>\n",
       "      <td>22.162162</td>\n",
       "      <td>1.21</td>\n",
       "      <td>3.783784</td>\n",
       "      <td>13.368984</td>\n",
       "    </tr>\n",
       "    <tr>\n",
       "      <th>18</th>\n",
       "      <td>2_1</td>\n",
       "      <td>Agualeguas</td>\n",
       "      <td>5.345502</td>\n",
       "      <td>28.179902</td>\n",
       "      <td>1.793722</td>\n",
       "      <td>0.900901</td>\n",
       "      <td>1.051051</td>\n",
       "      <td>0.76</td>\n",
       "      <td>0.300300</td>\n",
       "      <td>3.437967</td>\n",
       "    </tr>\n",
       "    <tr>\n",
       "      <th>20</th>\n",
       "      <td>2_9</td>\n",
       "      <td>Tres Hermanos</td>\n",
       "      <td>0.000000</td>\n",
       "      <td>30.769231</td>\n",
       "      <td>0.000000</td>\n",
       "      <td>0.000000</td>\n",
       "      <td>7.142857</td>\n",
       "      <td>1.07</td>\n",
       "      <td>0.000000</td>\n",
       "      <td>0.000000</td>\n",
       "    </tr>\n",
       "    <tr>\n",
       "      <th>21</th>\n",
       "      <td>2_12</td>\n",
       "      <td>Cieneguitas</td>\n",
       "      <td>5.660377</td>\n",
       "      <td>33.962264</td>\n",
       "      <td>14.285714</td>\n",
       "      <td>0.000000</td>\n",
       "      <td>5.000000</td>\n",
       "      <td>0.98</td>\n",
       "      <td>10.000000</td>\n",
       "      <td>4.761905</td>\n",
       "    </tr>\n",
       "  </tbody>\n",
       "</table>\n",
       "</div>"
      ],
      "text/plain": [
       "   cl_loc             NOM_LOC  i1_edu_anal  i2_edu_pri  i3_viv_excu  \\\n",
       "1     1_1             Abasolo     2.662722   18.706697     6.616257   \n",
       "5    1_21             Abasolo     0.000000    0.000000    40.000000   \n",
       "13   1_46  Colinas del Fraile     0.000000   12.500000    75.000000   \n",
       "14   1_47  Alberto Villarreal     3.063457   14.765101     9.090909   \n",
       "18    2_1          Agualeguas     5.345502   28.179902     1.793722   \n",
       "20    2_9       Tres Hermanos     0.000000   30.769231     0.000000   \n",
       "21   2_12         Cieneguitas     5.660377   33.962264    14.285714   \n",
       "\n",
       "    i4_viv_elec  i5_viv_agua  i6_viv_poc  i7_viv_suelo  i8_viv_refri  \n",
       "1      0.998004     0.200401        1.03      0.398406     10.586011  \n",
       "5      0.000000   100.000000        2.00      0.000000      0.000000  \n",
       "13    57.142857    71.428571        1.72     57.142857     75.000000  \n",
       "14     2.717391    22.162162        1.21      3.783784     13.368984  \n",
       "18     0.900901     1.051051        0.76      0.300300      3.437967  \n",
       "20     0.000000     7.142857        1.07      0.000000      0.000000  \n",
       "21     0.000000     5.000000        0.98     10.000000      4.761905  "
      ]
     },
     "execution_count": 120,
     "metadata": {},
     "output_type": "execute_result"
    }
   ],
   "source": [
    "indices = ['i1_edu_anal','i2_edu_pri', 'i3_viv_excu', 'i4_viv_elec', 'i5_viv_agua', 'i6_viv_poc',\n",
    "       'i7_viv_suelo', 'i8_viv_refri']\n",
    "\n",
    "censo_nl_new[\"null_total_i\"] = censo_nl_new[indices].isnull().sum(axis=1)\n",
    "censo_nl_new[censo_nl_new.null_total_i<2][[\"cl_loc\", \"NOM_LOC\"]+indices].head(7)\n"
   ]
  },
  {
   "cell_type": "code",
   "execution_count": 127,
   "metadata": {},
   "outputs": [
    {
     "data": {
      "text/plain": [
       "(3224, 10)"
      ]
     },
     "execution_count": 127,
     "metadata": {},
     "output_type": "execute_result"
    }
   ],
   "source": [
    "censo_nl_new[censo_nl_new.null_total_i==8][[\"cl_loc\", \"NOM_LOC\"]+indices].shape"
   ]
  },
  {
   "cell_type": "code",
   "execution_count": 136,
   "metadata": {},
   "outputs": [
    {
     "data": {
      "text/plain": [
       "(2037, 10)"
      ]
     },
     "execution_count": 136,
     "metadata": {},
     "output_type": "execute_result"
    }
   ],
   "source": [
    "data.shape"
   ]
  },
  {
   "cell_type": "code",
   "execution_count": 129,
   "metadata": {
    "scrolled": true
   },
   "outputs": [],
   "source": [
    "data =censo_nl_new[censo_nl_new.null_total_i<8][[\"cl_loc\", \"NOM_LOC\"]+indices]"
   ]
  },
  {
   "cell_type": "code",
   "execution_count": 144,
   "metadata": {},
   "outputs": [],
   "source": []
  },
  {
   "cell_type": "code",
   "execution_count": 149,
   "metadata": {},
   "outputs": [
    {
     "data": {
      "text/plain": [
       "[]"
      ]
     },
     "execution_count": 149,
     "metadata": {},
     "output_type": "execute_result"
    },
    {
     "data": {
      "image/png": "[encoded data removed]",
      "text/plain": [
       "<Figure size 432x288 with 2 Axes>"
      ]
     },
     "metadata": {
      "needs_background": "light"
     },
     "output_type": "display_data"
    }
   ],
   "source": [
    "sns.heatmap(pd.DataFrame(censo_nl_new_escale).corr(),annot=True)\n",
    "plt.plot()"
   ]
  },
  {
   "cell_type": "code",
   "execution_count": 189,
   "metadata": {},
   "outputs": [
    {
     "data": {
      "text/plain": [
       "array([[0.291, 0.321, 0.36 , 0.425, 0.312, 0.17 , 0.385, 0.478]])"
      ]
     },
     "execution_count": 189,
     "metadata": {},
     "output_type": "execute_result"
    }
   ],
   "source": [
    "np.round(pca.components_,3)"
   ]
  },
  {
   "cell_type": "code",
   "execution_count": 159,
   "metadata": {},
   "outputs": [],
   "source": [
    "censo_nl_new_escale = StandardScaler(with_mean=True,with_std=True).fit_transform(data[indices])\n",
    "pca = PCA(n_components=1).fit(censo_nl_new_escale)"
   ]
  },
  {
   "cell_type": "code",
   "execution_count": 166,
   "metadata": {
    "scrolled": true
   },
   "outputs": [],
   "source": [
    "data[\"indice_pca\"] = [item for sublist in pca.transform(censo_nl_new_escale) for item in sublist]"
   ]
  },
  {
   "cell_type": "code",
   "execution_count": 178,
   "metadata": {},
   "outputs": [],
   "source": [
    "data[\"indice_pca_sta\"] = (data[\"indice_pca\"]-data[\"indice_pca\"].min())/(data[\"indice_pca\"]+data[\"indice_pca\"].max())*100"
   ]
  },
  {
   "cell_type": "code",
   "execution_count": 228,
   "metadata": {},
   "outputs": [
    {
     "data": {
      "image/png": "[encoded data removed]",
      "text/plain": [
       "<Figure size 432x288 with 1 Axes>"
      ]
     },
     "metadata": {
      "needs_background": "light"
     },
     "output_type": "display_data"
    }
   ],
   "source": [
    "# Choose how many bins you want here\n",
    "num_bins = 30\n",
    "\n",
    "# Use the histogram function to bin the data\n",
    "counts, bin_edges = np.histogram(data[\"indice_pca\"], bins=num_bins, density=True)\n",
    "\n",
    "# Now find the cdf\n",
    "cdf = np.cumsum(counts)\n",
    "\n",
    "# And finally plot the cdf\n",
    "plt.plot(cdf,bin_edges[1:])\n",
    "plt.xlabel(\"Localidades\")\n",
    "plt.ylabel(\"Índice de marginación\")\n",
    "plt.tick_params(\n",
    "    axis='x',          # changes apply to the x-axis\n",
    "    which='both',      # both major and minor ticks are affected\n",
    "    bottom=False,      # ticks along the bottom edge are off\n",
    "    top=False,         # ticks along the top edge are off\n",
    "    labelbottom=False) \n",
    "plt.show()"
   ]
  },
  {
   "cell_type": "code",
   "execution_count": 267,
   "metadata": {},
   "outputs": [],
   "source": [
    "data[\"grado_marginacion\"] = data[\"indice_pca\"].apply(lambda x: \"muy_bajo\" if x<-1.32309 else(\n",
    "                                                                \"bajo\" if x<-1.06870 else (\n",
    "                                                                \"medio\" if x<-0.81425 else(\n",
    "                                                                \"alto\" if x<0.71231 else \"muy_alto\"))))"
   ]
  },
  {
   "cell_type": "code",
   "execution_count": 276,
   "metadata": {},
   "outputs": [
    {
     "data": {
      "text/html": [
       "<div>\n",
       "<style scoped>\n",
       "    .dataframe tbody tr th:only-of-type {\n",
       "        vertical-align: middle;\n",
       "    }\n",
       "\n",
       "    .dataframe tbody tr th {\n",
       "        vertical-align: top;\n",
       "    }\n",
       "\n",
       "    .dataframe thead th {\n",
       "        text-align: right;\n",
       "    }\n",
       "</style>\n",
       "<table border=\"1\" class=\"dataframe\">\n",
       "  <thead>\n",
       "    <tr style=\"text-align: right;\">\n",
       "      <th></th>\n",
       "      <th>cl_loc</th>\n",
       "      <th>NOM_LOC</th>\n",
       "      <th>i1_edu_anal</th>\n",
       "      <th>i2_edu_pri</th>\n",
       "      <th>i3_viv_excu</th>\n",
       "      <th>i4_viv_elec</th>\n",
       "      <th>i5_viv_agua</th>\n",
       "      <th>i6_viv_poc</th>\n",
       "      <th>i7_viv_suelo</th>\n",
       "      <th>i8_viv_refri</th>\n",
       "      <th>indice_pca</th>\n",
       "      <th>indice_pca_sta</th>\n",
       "      <th>grado_marginacion</th>\n",
       "      <th>grado_marginacion2</th>\n",
       "    </tr>\n",
       "  </thead>\n",
       "  <tbody>\n",
       "    <tr>\n",
       "      <th>2313</th>\n",
       "      <td>19_1</td>\n",
       "      <td>San Pedro Garza García</td>\n",
       "      <td>1.384005</td>\n",
       "      <td>6.797686</td>\n",
       "      <td>10.568214</td>\n",
       "      <td>0.020945</td>\n",
       "      <td>0.143673</td>\n",
       "      <td>0.69</td>\n",
       "      <td>1.29541</td>\n",
       "      <td>12.135268</td>\n",
       "      <td>-1.887897</td>\n",
       "      <td>10.668944</td>\n",
       "      <td>muy_bajo</td>\n",
       "      <td>muy_bajo</td>\n",
       "    </tr>\n",
       "  </tbody>\n",
       "</table>\n",
       "</div>"
      ],
      "text/plain": [
       "     cl_loc                 NOM_LOC  i1_edu_anal  i2_edu_pri  i3_viv_excu  \\\n",
       "2313   19_1  San Pedro Garza García     1.384005    6.797686    10.568214   \n",
       "\n",
       "      i4_viv_elec  i5_viv_agua  i6_viv_poc  i7_viv_suelo  i8_viv_refri  \\\n",
       "2313     0.020945     0.143673        0.69       1.29541     12.135268   \n",
       "\n",
       "      indice_pca  indice_pca_sta grado_marginacion grado_marginacion2  \n",
       "2313   -1.887897       10.668944          muy_bajo           muy_bajo  "
      ]
     },
     "execution_count": 276,
     "metadata": {},
     "output_type": "execute_result"
    }
   ],
   "source": [
    "data[data.cl_loc==\"19_1\"]"
   ]
  },
  {
   "cell_type": "code",
   "execution_count": 251,
   "metadata": {},
   "outputs": [],
   "source": [
    "data[\"grado_marginacion\"] = data[\"indice_pca_sta\"].apply(lambda x: \"muy_bajo\" if x<4.14836 else(\n",
    "                                                                \"bajo\" if x<6.16786 else (\n",
    "                                                                \"medio\" if x<8.18785 else(\n",
    "                                                                \"alto\" if x<20.30683 else \"muy_alto\"))))"
   ]
  },
  {
   "cell_type": "code",
   "execution_count": 253,
   "metadata": {},
   "outputs": [
    {
     "data": {
      "text/plain": [
       "0.7378497790868925"
      ]
     },
     "execution_count": 253,
     "metadata": {},
     "output_type": "execute_result"
    }
   ],
   "source": [
    "1503/2037"
   ]
  },
  {
   "cell_type": "code",
   "execution_count": 252,
   "metadata": {},
   "outputs": [
    {
     "data": {
      "text/plain": [
       "muy_alto    1503\n",
       "alto         479\n",
       "medio         28\n",
       "bajo          17\n",
       "muy_bajo      10\n",
       "Name: grado_marginacion, dtype: int64"
      ]
     },
     "execution_count": 252,
     "metadata": {},
     "output_type": "execute_result"
    }
   ],
   "source": [
    "data[\"grado_marginacion\"].value_counts()"
   ]
  },
  {
   "cell_type": "code",
   "execution_count": 268,
   "metadata": {},
   "outputs": [
    {
     "data": {
      "image/png": "[encoded data removed]",
      "text/plain": [
       "<Figure size 432x288 with 1 Axes>"
      ]
     },
     "metadata": {
      "needs_background": "light"
     },
     "output_type": "display_data"
    }
   ],
   "source": [
    "sns.countplot(data[\"grado_marginacion2\"], order=[\"muy_alto\",\"alto\",\"medio\",\"bajo\",\"muy_bajo\"])\n",
    "plt.ylabel(\" \")\n",
    "plt.show()"
   ]
  },
  {
   "cell_type": "code",
   "execution_count": 259,
   "metadata": {},
   "outputs": [
    {
     "data": {
      "image/png": "[encoded data removed]",
      "text/plain": [
       "<Figure size 432x288 with 1 Axes>"
      ]
     },
     "metadata": {
      "needs_background": "light"
     },
     "output_type": "display_data"
    }
   ],
   "source": [
    "sns.countplot(data[\"grado_marginacion\"])\n",
    "plt.ylabel(\" \")\n",
    "plt.show()"
   ]
  },
  {
   "cell_type": "code",
   "execution_count": 213,
   "metadata": {},
   "outputs": [
    {
     "data": {
      "text/plain": [
       "array([ 0.        ,  2.20335191,  4.40670382,  6.61005573,  8.81340764,\n",
       "       11.01675954, 13.22011145, 15.42346336, 17.62681527, 19.83016718,\n",
       "       22.03351909, 24.236871  , 26.44022291, 28.64357481, 30.84692672,\n",
       "       33.05027863, 35.25363054, 37.45698245, 39.66033436, 41.86368627,\n",
       "       44.06703818, 46.27039009, 48.47374199, 50.6770939 , 52.88044581,\n",
       "       55.08379772, 57.28714963, 59.49050154, 61.69385345, 63.89720536,\n",
       "       66.10055727])"
      ]
     },
     "execution_count": 213,
     "metadata": {},
     "output_type": "execute_result"
    }
   ],
   "source": [
    ", 8.18785 , 20.30683, 100"
   ]
  },
  {
   "cell_type": "code",
   "execution_count": 203,
   "metadata": {},
   "outputs": [
    {
     "data": {
      "text/plain": [
       "1       14.329324\n",
       "5       28.075988\n",
       "13      53.448825\n",
       "14      19.190537\n",
       "18      13.453351\n",
       "          ...    \n",
       "5379    14.246754\n",
       "5381    27.743155\n",
       "5383    12.908335\n",
       "5384    11.111992\n",
       "5388    13.143270\n",
       "Name: indice_pca_sta, Length: 2037, dtype: float64"
      ]
     },
     "execution_count": 203,
     "metadata": {},
     "output_type": "execute_result"
    }
   ],
   "source": [
    "data[\"indice_pca_sta\"]"
   ]
  },
  {
   "cell_type": "code",
   "execution_count": 195,
   "metadata": {},
   "outputs": [
    {
     "ename": "TypeError",
     "evalue": "'dict' object is not callable",
     "output_type": "error",
     "traceback": [
      "\u001b[0;31m---------------------------------------------------------------------------\u001b[0m",
      "\u001b[0;31mTypeError\u001b[0m                                 Traceback (most recent call last)",
      "\u001b[0;32m<ipython-input-195-46e1ae33aade>\u001b[0m in \u001b[0;36m<module>\u001b[0;34m\u001b[0m\n\u001b[0;32m----> 1\u001b[0;31m \u001b[0msns\u001b[0m\u001b[0;34m.\u001b[0m\u001b[0mxkcd_rgb\u001b[0m\u001b[0;34m(\u001b[0m\u001b[0mdata\u001b[0m\u001b[0;34m[\u001b[0m\u001b[0;34m\"indice_pca_sta\"\u001b[0m\u001b[0;34m]\u001b[0m\u001b[0;34m)\u001b[0m\u001b[0;34m\u001b[0m\u001b[0;34m\u001b[0m\u001b[0m\n\u001b[0m",
      "\u001b[0;31mTypeError\u001b[0m: 'dict' object is not callable"
     ]
    }
   ],
   "source": [
    "sns.xkcd_rgb(data[\"indice_pca_sta\"])"
   ]
  },
  {
   "cell_type": "markdown",
   "metadata": {},
   "source": [
    "# Nacional"
   ]
  },
  {
   "cell_type": "code",
   "execution_count": 3,
   "metadata": {},
   "outputs": [
    {
     "name": "stdout",
     "output_type": "stream",
     "text": [
      "Collecting dbfread\n",
      "  Downloading dbfread-2.0.7-py2.py3-none-any.whl (20 kB)\n",
      "Installing collected packages: dbfread\n",
      "Successfully installed dbfread-2.0.7\n"
     ]
    }
   ],
   "source": [
    "!pip install dbfread"
   ]
  },
  {
   "cell_type": "code",
   "execution_count": 1,
   "metadata": {},
   "outputs": [],
   "source": [
    "from dbfread import DBF\n",
    "import pandas as pd\n",
    "\n",
    "nacional = DBF('data/ITER_NALDBF10.dbf')\n",
    "print(\"Termino de Leer\")\n",
    "nacional = pd.DataFrame(iter(nacional))\n",
    "\n",
    "nacional.to_csv(\"data/nacional_iter_2010.csv\", index=False)"
   ]
  },
  {
   "cell_type": "code",
   "execution_count": 3,
   "metadata": {},
   "outputs": [],
   "source": [
    "columns_new = [\"P_15YMAS\",\"P15YM_AN\", \n",
    "           \"P15YM_SE\", \"P15PRI_IN\", \"P15PRI_CO\", \"P15SEC_IN\", \"P15SEC_CO\", \"P18YM_PB\",\n",
    "           \"TVIVPARHAB\", \"VPH_EXCSA\",\n",
    "           \"VPH_S_ELEC\", \"VPH_C_ELEC\",\n",
    "           \"VPH_AGUADV\", \"VPH_AGUAFV\",\n",
    "           \"PRO_OCUP_C\",\n",
    "           \"VPH_PISOTI\", \"VPH_PISODT\",\n",
    "           \"VPH_REFRI\"]"
   ]
  },
  {
   "cell_type": "code",
   "execution_count": 36,
   "metadata": {},
   "outputs": [],
   "source": [
    "censo_nl_new = pd.read_csv(\"data/nacional_iter_2010.csv\")\n",
    "censo_nl_new = censo_nl_new[~censo_nl_new.LONGITUD.isnull()]\n",
    "censo_nl_new[\"cl_loc\"] = censo_nl_new[\"MUN\"].astype(str)+\"_\"+censo_nl_new[\"LOC\"].astype(str)\n",
    "\n",
    "censo_nl_new = censo_nl_new[[\"cl_loc\", \"NOM_LOC\"]+columns_new]\n",
    "\n",
    "censo_nl_new[censo_nl_new==\"*\"]=\"-1\"\n",
    "censo_nl_new = censo_nl_new[censo_nl_new.P_15YMAS!='N/D']"
   ]
  },
  {
   "cell_type": "code",
   "execution_count": 37,
   "metadata": {},
   "outputs": [],
   "source": [
    "for i in columns_new:\n",
    "    censo_nl_new[i] = censo_nl_new[i].astype(float)\n",
    "    censo_nl_new[i] = censo_nl_new[i].replace({-1:np.nan}) "
   ]
  },
  {
   "cell_type": "code",
   "execution_count": 38,
   "metadata": {},
   "outputs": [],
   "source": [
    "# Porcentaje de población de 15 años o más analfabeta\n",
    "censo_nl_new.loc[:,\"i1_edu_anal\"] = censo_nl_new[\"P15YM_AN\"]/censo_nl_new[\"P_15YMAS\"]*100\n",
    "\n",
    "# Porcentaje de población de 15 años o más sin primaria completa\n",
    "censo_nl_new.loc[:,\"i2_edu_pri\"] = (censo_nl_new[\"P15YM_SE\"]+censo_nl_new[\"P15PRI_IN\"])/(censo_nl_new[\"P15YM_SE\"]+censo_nl_new[\"P15PRI_IN\"]+\n",
    "                                                                  censo_nl_new[\"P15PRI_CO\"]+censo_nl_new[\"P15SEC_IN\"]+\n",
    "                                                                  censo_nl_new[\"P15SEC_CO\"]+censo_nl_new[\"P18YM_PB\"])*100\n",
    "\n",
    "# Porcentaje de viviendas particulares habitadas sin excusado\n",
    "censo_nl_new.loc[:,\"i3_viv_excu\"] = (censo_nl_new[\"TVIVPARHAB\"]-censo_nl_new[\"VPH_EXCSA\"])/censo_nl_new[\"TVIVPARHAB\"]*100\n",
    "\n",
    "# Porcentaje de viviendas particulares habitadas sin energía eléctrica\n",
    "censo_nl_new.loc[:,\"i4_viv_elec\"] = censo_nl_new[\"VPH_S_ELEC\"]/(censo_nl_new[\"VPH_S_ELEC\"]+censo_nl_new[\"VPH_C_ELEC\"])*100\n",
    "\n",
    "# Porcentaje de viviendas particulares habitadas sin disponibilidad de agua entubada\n",
    "censo_nl_new.loc[:,\"i5_viv_agua\"] = censo_nl_new[\"VPH_AGUAFV\"]/(censo_nl_new[\"VPH_AGUAFV\"]+censo_nl_new[\"VPH_AGUADV\"])*100\n",
    "\n",
    "# Promedio de ocupantes por cuarto en viviendas particulares habitados\n",
    "censo_nl_new.loc[:,\"i6_viv_poc\"] = censo_nl_new[\"PRO_OCUP_C\"]\n",
    "\n",
    "# Porcentaje de viviendas particulares habitadas con piso de tierra\n",
    "censo_nl_new.loc[:,\"i7_viv_suelo\"] = censo_nl_new[\"VPH_PISOTI\"]/(censo_nl_new[\"VPH_PISOTI\"]+censo_nl_new[\"VPH_PISODT\"])*100\n",
    "\n",
    "# Porcentaje de viviendas particulares habitadas que no disponen de refrigerador\n",
    "censo_nl_new.loc[:,\"i8_viv_refri\"] = (censo_nl_new[\"TVIVPARHAB\"]-censo_nl_new[\"VPH_REFRI\"])/censo_nl_new[\"TVIVPARHAB\"]*100\n"
   ]
  },
  {
   "cell_type": "code",
   "execution_count": 39,
   "metadata": {},
   "outputs": [
    {
     "data": {
      "text/html": [
       "<div>\n",
       "<style scoped>\n",
       "    .dataframe tbody tr th:only-of-type {\n",
       "        vertical-align: middle;\n",
       "    }\n",
       "\n",
       "    .dataframe tbody tr th {\n",
       "        vertical-align: top;\n",
       "    }\n",
       "\n",
       "    .dataframe thead th {\n",
       "        text-align: right;\n",
       "    }\n",
       "</style>\n",
       "<table border=\"1\" class=\"dataframe\">\n",
       "  <thead>\n",
       "    <tr style=\"text-align: right;\">\n",
       "      <th></th>\n",
       "      <th>cl_loc</th>\n",
       "      <th>NOM_LOC</th>\n",
       "      <th>i1_edu_anal</th>\n",
       "      <th>i2_edu_pri</th>\n",
       "      <th>i3_viv_excu</th>\n",
       "      <th>i4_viv_elec</th>\n",
       "      <th>i5_viv_agua</th>\n",
       "      <th>i6_viv_poc</th>\n",
       "      <th>i7_viv_suelo</th>\n",
       "      <th>i8_viv_refri</th>\n",
       "    </tr>\n",
       "  </thead>\n",
       "  <tbody>\n",
       "    <tr>\n",
       "      <th>7</th>\n",
       "      <td>1_1</td>\n",
       "      <td>Aguascalientes</td>\n",
       "      <td>2.256844</td>\n",
       "      <td>10.904746</td>\n",
       "      <td>0.810051</td>\n",
       "      <td>0.158217</td>\n",
       "      <td>0.592209</td>\n",
       "      <td>0.87</td>\n",
       "      <td>1.062457</td>\n",
       "      <td>6.259389</td>\n",
       "    </tr>\n",
       "    <tr>\n",
       "      <th>9</th>\n",
       "      <td>1_96</td>\n",
       "      <td>Agua Azul</td>\n",
       "      <td>17.857143</td>\n",
       "      <td>48.148148</td>\n",
       "      <td>45.454545</td>\n",
       "      <td>0.000000</td>\n",
       "      <td>36.363636</td>\n",
       "      <td>0.82</td>\n",
       "      <td>0.000000</td>\n",
       "      <td>9.090909</td>\n",
       "    </tr>\n",
       "    <tr>\n",
       "      <th>12</th>\n",
       "      <td>1_104</td>\n",
       "      <td>Ardillas de Abajo (Las Ardillas)</td>\n",
       "      <td>0.000000</td>\n",
       "      <td>20.000000</td>\n",
       "      <td>0.000000</td>\n",
       "      <td>0.000000</td>\n",
       "      <td>0.000000</td>\n",
       "      <td>0.88</td>\n",
       "      <td>0.000000</td>\n",
       "      <td>0.000000</td>\n",
       "    </tr>\n",
       "    <tr>\n",
       "      <th>13</th>\n",
       "      <td>1_106</td>\n",
       "      <td>Arellano</td>\n",
       "      <td>5.600933</td>\n",
       "      <td>24.703088</td>\n",
       "      <td>1.960784</td>\n",
       "      <td>1.176471</td>\n",
       "      <td>3.937008</td>\n",
       "      <td>1.30</td>\n",
       "      <td>3.137255</td>\n",
       "      <td>10.588235</td>\n",
       "    </tr>\n",
       "    <tr>\n",
       "      <th>14</th>\n",
       "      <td>1_112</td>\n",
       "      <td>Bajío los Vázquez</td>\n",
       "      <td>14.285714</td>\n",
       "      <td>38.095238</td>\n",
       "      <td>0.000000</td>\n",
       "      <td>0.000000</td>\n",
       "      <td>0.000000</td>\n",
       "      <td>1.28</td>\n",
       "      <td>0.000000</td>\n",
       "      <td>9.090909</td>\n",
       "    </tr>\n",
       "    <tr>\n",
       "      <th>15</th>\n",
       "      <td>1_114</td>\n",
       "      <td>Residencial San Nicolás [Baños la Cantera]</td>\n",
       "      <td>0.000000</td>\n",
       "      <td>1.627907</td>\n",
       "      <td>5.660377</td>\n",
       "      <td>0.000000</td>\n",
       "      <td>2.525253</td>\n",
       "      <td>0.62</td>\n",
       "      <td>0.505051</td>\n",
       "      <td>4.716981</td>\n",
       "    </tr>\n",
       "    <tr>\n",
       "      <th>16</th>\n",
       "      <td>1_120</td>\n",
       "      <td>Buenavista de Peñuelas</td>\n",
       "      <td>10.708402</td>\n",
       "      <td>29.519071</td>\n",
       "      <td>5.529954</td>\n",
       "      <td>0.462963</td>\n",
       "      <td>10.138249</td>\n",
       "      <td>1.12</td>\n",
       "      <td>1.843318</td>\n",
       "      <td>5.990783</td>\n",
       "    </tr>\n",
       "  </tbody>\n",
       "</table>\n",
       "</div>"
      ],
      "text/plain": [
       "   cl_loc                                     NOM_LOC  i1_edu_anal  \\\n",
       "7     1_1                              Aguascalientes     2.256844   \n",
       "9    1_96                                   Agua Azul    17.857143   \n",
       "12  1_104            Ardillas de Abajo (Las Ardillas)     0.000000   \n",
       "13  1_106                                    Arellano     5.600933   \n",
       "14  1_112                           Bajío los Vázquez    14.285714   \n",
       "15  1_114  Residencial San Nicolás [Baños la Cantera]     0.000000   \n",
       "16  1_120                      Buenavista de Peñuelas    10.708402   \n",
       "\n",
       "    i2_edu_pri  i3_viv_excu  i4_viv_elec  i5_viv_agua  i6_viv_poc  \\\n",
       "7    10.904746     0.810051     0.158217     0.592209        0.87   \n",
       "9    48.148148    45.454545     0.000000    36.363636        0.82   \n",
       "12   20.000000     0.000000     0.000000     0.000000        0.88   \n",
       "13   24.703088     1.960784     1.176471     3.937008        1.30   \n",
       "14   38.095238     0.000000     0.000000     0.000000        1.28   \n",
       "15    1.627907     5.660377     0.000000     2.525253        0.62   \n",
       "16   29.519071     5.529954     0.462963    10.138249        1.12   \n",
       "\n",
       "    i7_viv_suelo  i8_viv_refri  \n",
       "7       1.062457      6.259389  \n",
       "9       0.000000      9.090909  \n",
       "12      0.000000      0.000000  \n",
       "13      3.137255     10.588235  \n",
       "14      0.000000      9.090909  \n",
       "15      0.505051      4.716981  \n",
       "16      1.843318      5.990783  "
      ]
     },
     "execution_count": 39,
     "metadata": {},
     "output_type": "execute_result"
    }
   ],
   "source": [
    "indices = ['i1_edu_anal','i2_edu_pri', 'i3_viv_excu', 'i4_viv_elec', 'i5_viv_agua', 'i6_viv_poc',\n",
    "       'i7_viv_suelo', 'i8_viv_refri']\n",
    "\n",
    "censo_nl_new[\"null_total_i\"] = censo_nl_new[indices].isnull().sum(axis=1)\n",
    "censo_nl_new[censo_nl_new.null_total_i<1][[\"cl_loc\", \"NOM_LOC\"]+indices].head(7)\n"
   ]
  },
  {
   "cell_type": "code",
   "execution_count": 40,
   "metadata": {},
   "outputs": [],
   "source": [
    "censo_nl_new = censo_nl_new[censo_nl_new.null_total_i==0][[\"cl_loc\", \"NOM_LOC\"]+indices]"
   ]
  },
  {
   "cell_type": "code",
   "execution_count": 22,
   "metadata": {},
   "outputs": [
    {
     "data": {
      "text/html": [
       "<div>\n",
       "<style scoped>\n",
       "    .dataframe tbody tr th:only-of-type {\n",
       "        vertical-align: middle;\n",
       "    }\n",
       "\n",
       "    .dataframe tbody tr th {\n",
       "        vertical-align: top;\n",
       "    }\n",
       "\n",
       "    .dataframe thead th {\n",
       "        text-align: right;\n",
       "    }\n",
       "</style>\n",
       "<table border=\"1\" class=\"dataframe\">\n",
       "  <thead>\n",
       "    <tr style=\"text-align: right;\">\n",
       "      <th></th>\n",
       "      <th>i1_edu_anal</th>\n",
       "      <th>i2_edu_pri</th>\n",
       "      <th>i3_viv_excu</th>\n",
       "      <th>i4_viv_elec</th>\n",
       "      <th>i5_viv_agua</th>\n",
       "      <th>i6_viv_poc</th>\n",
       "      <th>i7_viv_suelo</th>\n",
       "      <th>i8_viv_refri</th>\n",
       "    </tr>\n",
       "  </thead>\n",
       "  <tbody>\n",
       "    <tr>\n",
       "      <th>7</th>\n",
       "      <td>2.256844</td>\n",
       "      <td>10.904746</td>\n",
       "      <td>0.810051</td>\n",
       "      <td>0.158217</td>\n",
       "      <td>0.592209</td>\n",
       "      <td>0.87</td>\n",
       "      <td>1.062457</td>\n",
       "      <td>6.259389</td>\n",
       "    </tr>\n",
       "    <tr>\n",
       "      <th>9</th>\n",
       "      <td>17.857143</td>\n",
       "      <td>48.148148</td>\n",
       "      <td>45.454545</td>\n",
       "      <td>0.000000</td>\n",
       "      <td>36.363636</td>\n",
       "      <td>0.82</td>\n",
       "      <td>0.000000</td>\n",
       "      <td>9.090909</td>\n",
       "    </tr>\n",
       "    <tr>\n",
       "      <th>12</th>\n",
       "      <td>0.000000</td>\n",
       "      <td>20.000000</td>\n",
       "      <td>0.000000</td>\n",
       "      <td>0.000000</td>\n",
       "      <td>0.000000</td>\n",
       "      <td>0.88</td>\n",
       "      <td>0.000000</td>\n",
       "      <td>0.000000</td>\n",
       "    </tr>\n",
       "    <tr>\n",
       "      <th>13</th>\n",
       "      <td>5.600933</td>\n",
       "      <td>24.703088</td>\n",
       "      <td>1.960784</td>\n",
       "      <td>1.176471</td>\n",
       "      <td>3.937008</td>\n",
       "      <td>1.30</td>\n",
       "      <td>3.137255</td>\n",
       "      <td>10.588235</td>\n",
       "    </tr>\n",
       "    <tr>\n",
       "      <th>14</th>\n",
       "      <td>14.285714</td>\n",
       "      <td>38.095238</td>\n",
       "      <td>0.000000</td>\n",
       "      <td>0.000000</td>\n",
       "      <td>0.000000</td>\n",
       "      <td>1.28</td>\n",
       "      <td>0.000000</td>\n",
       "      <td>9.090909</td>\n",
       "    </tr>\n",
       "    <tr>\n",
       "      <th>...</th>\n",
       "      <td>...</td>\n",
       "      <td>...</td>\n",
       "      <td>...</td>\n",
       "      <td>...</td>\n",
       "      <td>...</td>\n",
       "      <td>...</td>\n",
       "      <td>...</td>\n",
       "      <td>...</td>\n",
       "    </tr>\n",
       "    <tr>\n",
       "      <th>198476</th>\n",
       "      <td>4.000000</td>\n",
       "      <td>44.000000</td>\n",
       "      <td>9.523810</td>\n",
       "      <td>4.761905</td>\n",
       "      <td>19.047619</td>\n",
       "      <td>1.13</td>\n",
       "      <td>61.904762</td>\n",
       "      <td>38.095238</td>\n",
       "    </tr>\n",
       "    <tr>\n",
       "      <th>198479</th>\n",
       "      <td>5.882353</td>\n",
       "      <td>64.705882</td>\n",
       "      <td>0.000000</td>\n",
       "      <td>0.000000</td>\n",
       "      <td>0.000000</td>\n",
       "      <td>0.73</td>\n",
       "      <td>33.333333</td>\n",
       "      <td>55.555556</td>\n",
       "    </tr>\n",
       "    <tr>\n",
       "      <th>198480</th>\n",
       "      <td>8.536585</td>\n",
       "      <td>51.250000</td>\n",
       "      <td>17.241379</td>\n",
       "      <td>0.000000</td>\n",
       "      <td>3.448276</td>\n",
       "      <td>1.07</td>\n",
       "      <td>10.344828</td>\n",
       "      <td>51.724138</td>\n",
       "    </tr>\n",
       "    <tr>\n",
       "      <th>198482</th>\n",
       "      <td>8.148148</td>\n",
       "      <td>43.703704</td>\n",
       "      <td>10.638298</td>\n",
       "      <td>0.000000</td>\n",
       "      <td>2.127660</td>\n",
       "      <td>1.28</td>\n",
       "      <td>4.255319</td>\n",
       "      <td>12.765957</td>\n",
       "    </tr>\n",
       "    <tr>\n",
       "      <th>198484</th>\n",
       "      <td>8.064516</td>\n",
       "      <td>56.451613</td>\n",
       "      <td>10.344828</td>\n",
       "      <td>0.000000</td>\n",
       "      <td>0.000000</td>\n",
       "      <td>0.66</td>\n",
       "      <td>6.896552</td>\n",
       "      <td>13.793103</td>\n",
       "    </tr>\n",
       "  </tbody>\n",
       "</table>\n",
       "<p>107432 rows × 8 columns</p>\n",
       "</div>"
      ],
      "text/plain": [
       "        i1_edu_anal  i2_edu_pri  i3_viv_excu  i4_viv_elec  i5_viv_agua  \\\n",
       "7          2.256844   10.904746     0.810051     0.158217     0.592209   \n",
       "9         17.857143   48.148148    45.454545     0.000000    36.363636   \n",
       "12         0.000000   20.000000     0.000000     0.000000     0.000000   \n",
       "13         5.600933   24.703088     1.960784     1.176471     3.937008   \n",
       "14        14.285714   38.095238     0.000000     0.000000     0.000000   \n",
       "...             ...         ...          ...          ...          ...   \n",
       "198476     4.000000   44.000000     9.523810     4.761905    19.047619   \n",
       "198479     5.882353   64.705882     0.000000     0.000000     0.000000   \n",
       "198480     8.536585   51.250000    17.241379     0.000000     3.448276   \n",
       "198482     8.148148   43.703704    10.638298     0.000000     2.127660   \n",
       "198484     8.064516   56.451613    10.344828     0.000000     0.000000   \n",
       "\n",
       "        i6_viv_poc  i7_viv_suelo  i8_viv_refri  \n",
       "7             0.87      1.062457      6.259389  \n",
       "9             0.82      0.000000      9.090909  \n",
       "12            0.88      0.000000      0.000000  \n",
       "13            1.30      3.137255     10.588235  \n",
       "14            1.28      0.000000      9.090909  \n",
       "...            ...           ...           ...  \n",
       "198476        1.13     61.904762     38.095238  \n",
       "198479        0.73     33.333333     55.555556  \n",
       "198480        1.07     10.344828     51.724138  \n",
       "198482        1.28      4.255319     12.765957  \n",
       "198484        0.66      6.896552     13.793103  \n",
       "\n",
       "[107432 rows x 8 columns]"
      ]
     },
     "execution_count": 22,
     "metadata": {},
     "output_type": "execute_result"
    }
   ],
   "source": [
    "censo_nl_new[indices]"
   ]
  },
  {
   "cell_type": "code",
   "execution_count": 80,
   "metadata": {},
   "outputs": [],
   "source": [
    "from sklearn.decomposition import PCA\n",
    "from sklearn.preprocessing import StandardScaler\n",
    "censo_nl_new_escale = StandardScaler(with_mean=True,with_std=True).fit_transform(censo_nl_new[indices])\n",
    "pca = PCA(n_components=8).fit(censo_nl_new_escale)\n",
    "\n",
    "eigenfaces = pca.components_"
   ]
  },
  {
   "cell_type": "code",
   "execution_count": 81,
   "metadata": {
    "scrolled": true
   },
   "outputs": [
    {
     "data": {
      "text/plain": [
       "array([0.47702912, 0.12206178, 0.09607139, 0.08566208, 0.08392289,\n",
       "       0.06754304, 0.03678983, 0.03091987])"
      ]
     },
     "execution_count": 81,
     "metadata": {},
     "output_type": "execute_result"
    }
   ],
   "source": [
    "pca.explained_variance_ratio_"
   ]
  },
  {
   "cell_type": "code",
   "execution_count": 93,
   "metadata": {},
   "outputs": [],
   "source": [
    "cov = np.cov(censo_nl_new_escale.T)\n",
    "eig_val, eig_vec = np.linalg.eig(cov)"
   ]
  },
  {
   "cell_type": "code",
   "execution_count": 110,
   "metadata": {},
   "outputs": [
    {
     "data": {
      "text/plain": [
       "array([0.37988001, 0.36859303, 0.32204749, 0.36654416, 0.26586205,\n",
       "       0.32751777, 0.36497693, 0.41304052])"
      ]
     },
     "execution_count": 110,
     "metadata": {},
     "output_type": "execute_result"
    }
   ],
   "source": [
    "eig_vec.T[0]"
   ]
  },
  {
   "cell_type": "code",
   "execution_count": 104,
   "metadata": {},
   "outputs": [
    {
     "data": {
      "text/plain": [
       "1.4497240931498843"
      ]
     },
     "execution_count": 104,
     "metadata": {},
     "output_type": "execute_result"
    }
   ],
   "source": [
    "3.81626844*0.37988001"
   ]
  },
  {
   "cell_type": "code",
   "execution_count": 105,
   "metadata": {},
   "outputs": [
    {
     "data": {
      "text/plain": [
       "0.9439970843046877"
      ]
     },
     "execution_count": 105,
     "metadata": {},
     "output_type": "execute_result"
    }
   ],
   "source": [
    "3.81626844*0.24736129"
   ]
  },
  {
   "cell_type": "code",
   "execution_count": 111,
   "metadata": {},
   "outputs": [
    {
     "data": {
      "text/plain": [
       "array([1.44972409, 1.40664996, 1.22901966, 1.3988309 , 1.01460096,\n",
       "       1.24989573, 1.39284992, 1.57627352])"
      ]
     },
     "execution_count": 111,
     "metadata": {},
     "output_type": "execute_result"
    }
   ],
   "source": [
    "eig_val[0]*eig_vec.T[0]"
   ]
  },
  {
   "cell_type": "markdown",
   "metadata": {},
   "source": [
    "# Ejercicio 3: Labelled Faces in the Wild "
   ]
  },
  {
   "cell_type": "code",
   "execution_count": 1,
   "metadata": {},
   "outputs": [],
   "source": [
    "# cargamos los datos\n",
    "from sklearn.datasets import fetch_lfw_people\n",
    "lfw_people = fetch_lfw_people(min_faces_per_person=70, resize=1)"
   ]
  },
  {
   "cell_type": "code",
   "execution_count": 2,
   "metadata": {},
   "outputs": [
    {
     "data": {
      "text/plain": [
       "514"
      ]
     },
     "execution_count": 2,
     "metadata": {},
     "output_type": "execute_result"
    }
   ],
   "source": [
    "len(lfw_people.images)"
   ]
  },
  {
   "cell_type": "code",
   "execution_count": 3,
   "metadata": {},
   "outputs": [
    {
     "name": "stdout",
     "output_type": "stream",
     "text": [
      "George W Bush\n",
      "Gerhard Schroeder\n"
     ]
    }
   ],
   "source": [
    "for name in lfw_people.target_names:\n",
    "    print (name)\n",
    "    \n",
    "n_samples, h, w = lfw_people.images.shape\n",
    "\n",
    "X = lfw_people.data\n",
    "\n",
    "y = lfw_people.target\n",
    "target_names = lfw_people.target_names\n",
    "\n",
    "from sklearn.model_selection import train_test_split\n",
    "\n",
    "X_train , X_test, y_train, y_test, names_train, names_test = train_test_split(X, y, target_names[y],\n",
    "test_size =0.2 , random_state =42)"
   ]
  },
  {
   "cell_type": "code",
   "execution_count": 2,
   "metadata": {},
   "outputs": [
    {
     "ename": "NameError",
     "evalue": "name 'X_train' is not defined",
     "output_type": "error",
     "traceback": [
      "\u001b[0;31m---------------------------------------------------------------------------\u001b[0m",
      "\u001b[0;31mNameError\u001b[0m                                 Traceback (most recent call last)",
      "\u001b[0;32m<ipython-input-2-01a1bb6a336f>\u001b[0m in \u001b[0;36m<module>\u001b[0;34m\u001b[0m\n\u001b[1;32m      7\u001b[0m \u001b[0mnp\u001b[0m\u001b[0;34m.\u001b[0m\u001b[0mrandom\u001b[0m\u001b[0;34m.\u001b[0m\u001b[0mseed\u001b[0m\u001b[0;34m(\u001b[0m\u001b[0;36m0\u001b[0m\u001b[0;34m)\u001b[0m\u001b[0;34m\u001b[0m\u001b[0;34m\u001b[0m\u001b[0m\n\u001b[1;32m      8\u001b[0m \u001b[0;34m\u001b[0m\u001b[0m\n\u001b[0;32m----> 9\u001b[0;31m \u001b[0;32mfor\u001b[0m \u001b[0mi\u001b[0m \u001b[0;32min\u001b[0m \u001b[0mnp\u001b[0m\u001b[0;34m.\u001b[0m\u001b[0mrandom\u001b[0m\u001b[0;34m.\u001b[0m\u001b[0mchoice\u001b[0m\u001b[0;34m(\u001b[0m\u001b[0mrange\u001b[0m\u001b[0;34m(\u001b[0m\u001b[0mX_train\u001b[0m\u001b[0;34m.\u001b[0m\u001b[0mshape\u001b[0m\u001b[0;34m[\u001b[0m\u001b[0;36m0\u001b[0m\u001b[0;34m]\u001b[0m\u001b[0;34m)\u001b[0m\u001b[0;34m,\u001b[0m \u001b[0;36m10\u001b[0m\u001b[0;34m)\u001b[0m\u001b[0;34m:\u001b[0m\u001b[0;34m\u001b[0m\u001b[0;34m\u001b[0m\u001b[0m\n\u001b[0m\u001b[1;32m     10\u001b[0m   \u001b[0max\u001b[0m \u001b[0;34m=\u001b[0m \u001b[0mfig\u001b[0m\u001b[0;34m.\u001b[0m\u001b[0madd_subplot\u001b[0m\u001b[0;34m(\u001b[0m\u001b[0;36m2\u001b[0m\u001b[0;34m,\u001b[0m \u001b[0;36m5\u001b[0m\u001b[0;34m,\u001b[0m \u001b[0mj\u001b[0m\u001b[0;34m,\u001b[0m \u001b[0mxticks\u001b[0m\u001b[0;34m=\u001b[0m\u001b[0;34m[\u001b[0m\u001b[0;34m]\u001b[0m\u001b[0;34m,\u001b[0m \u001b[0myticks\u001b[0m\u001b[0;34m=\u001b[0m\u001b[0;34m[\u001b[0m\u001b[0;34m]\u001b[0m\u001b[0;34m)\u001b[0m\u001b[0;34m\u001b[0m\u001b[0;34m\u001b[0m\u001b[0m\n\u001b[1;32m     11\u001b[0m   \u001b[0max\u001b[0m\u001b[0;34m.\u001b[0m\u001b[0mimshow\u001b[0m\u001b[0;34m(\u001b[0m\u001b[0mnp\u001b[0m\u001b[0;34m.\u001b[0m\u001b[0mreshape\u001b[0m\u001b[0;34m(\u001b[0m\u001b[0mX_train\u001b[0m\u001b[0;34m[\u001b[0m\u001b[0mi\u001b[0m\u001b[0;34m,\u001b[0m\u001b[0;34m:\u001b[0m\u001b[0;34m]\u001b[0m\u001b[0;34m,\u001b[0m\u001b[0;34m(\u001b[0m\u001b[0;36m125\u001b[0m\u001b[0;34m,\u001b[0m\u001b[0;36m94\u001b[0m\u001b[0;34m)\u001b[0m\u001b[0;34m)\u001b[0m\u001b[0;34m,\u001b[0m \u001b[0mcmap\u001b[0m\u001b[0;34m=\u001b[0m\u001b[0mplt\u001b[0m\u001b[0;34m.\u001b[0m\u001b[0mcm\u001b[0m\u001b[0;34m.\u001b[0m\u001b[0mgray\u001b[0m\u001b[0;34m,\u001b[0m \u001b[0minterpolation\u001b[0m\u001b[0;34m=\u001b[0m\u001b[0;34m'nearest'\u001b[0m\u001b[0;34m)\u001b[0m\u001b[0;34m\u001b[0m\u001b[0;34m\u001b[0m\u001b[0m\n",
      "\u001b[0;31mNameError\u001b[0m: name 'X_train' is not defined"
     ]
    },
    {
     "data": {
      "text/plain": [
       "<Figure size 360x360 with 0 Axes>"
      ]
     },
     "metadata": {},
     "output_type": "display_data"
    }
   ],
   "source": [
    "import matplotlib.pylab as plt\n",
    "import numpy as np\n",
    "fig = plt.figure(figsize=(5,5))\n",
    "fig.subplots_adjust(left=0, right=1, bottom=0, top=1, hspace=0.05, wspace=0.05)\n",
    "# plot 25 random faces\n",
    "j = 1\n",
    "np.random.seed(0)\n",
    "\n",
    "for i in np.random.choice(range(X_train.shape[0]), 10):\n",
    "  ax = fig.add_subplot(2, 5, j, xticks=[], yticks=[])\n",
    "  ax.imshow(np.reshape(X_train[i,:],(125,94)), cmap=plt.cm.gray, interpolation='nearest')\n",
    "  j += 1\n",
    "plt.show()"
   ]
  },
  {
   "cell_type": "code",
   "execution_count": 63,
   "metadata": {},
   "outputs": [
    {
     "name": "stdout",
     "output_type": "stream",
     "text": [
      "Extracting the top 2 eigenfaces from 411 faces\n",
      "Projecting the input data on the eigenfaces orthonormal basis\n"
     ]
    }
   ],
   "source": [
    "from sklearn.decomposition import PCA\n",
    "\n",
    "n_components = 2\n",
    "\n",
    "print(\"Extracting the top %d eigenfaces from %d faces\"\n",
    "      % (n_components, X_train.shape[0]))\n",
    "pca = PCA(n_components=n_components, svd_solver='randomized',\n",
    "          whiten=True).fit(X_train)\n",
    "\n",
    "eigenfaces = pca.components_.reshape((n_components, h, w))\n",
    "\n",
    "print(\"Projecting the input data on the eigenfaces orthonormal basis\")\n",
    "X_train_pca = pca.transform(X_train)\n",
    "X_test_pca = pca.transform(X_test)"
   ]
  },
  {
   "cell_type": "code",
   "execution_count": 69,
   "metadata": {},
   "outputs": [
    {
     "data": {
      "text/plain": [
       "(411, 11750)"
      ]
     },
     "execution_count": 69,
     "metadata": {},
     "output_type": "execute_result"
    }
   ],
   "source": [
    "X_train.shape"
   ]
  },
  {
   "cell_type": "code",
   "execution_count": 74,
   "metadata": {},
   "outputs": [
    {
     "data": {
      "text/plain": [
       "array([[ 0.5337751 ,  0.47230434,  0.40964103, ..., -0.2593634 ,\n",
       "        -0.3590643 , -0.560716  ],\n",
       "       [ 0.47064173,  0.4479754 ,  0.44194406, ..., -0.2791741 ,\n",
       "        -0.3238302 , -0.5307133 ],\n",
       "       [ 0.47417727,  0.45608824,  0.4625874 , ..., -0.34766215,\n",
       "        -0.3135531 , -0.4828931 ],\n",
       "       ...,\n",
       "       [ 0.5613096 ,  0.41264302,  0.5849108 , ..., -0.25315076,\n",
       "        -0.29176787, -0.372152  ],\n",
       "       [ 0.5337342 ,  0.41227123,  0.55165374, ..., -0.29728365,\n",
       "        -0.30832148, -0.3694867 ],\n",
       "       [ 0.5223012 ,  0.3924141 ,  0.5227076 , ..., -0.29368046,\n",
       "        -0.26519367, -0.31672114]], dtype=float32)"
      ]
     },
     "execution_count": 74,
     "metadata": {},
     "output_type": "execute_result"
    }
   ],
   "source": [
    "np.reshape(X_train[i,:],(125,94))*eigenfaces[1]+np.reshape(X_train[i,:],(125,94))*eigenfaces[0]"
   ]
  },
  {
   "cell_type": "code",
   "execution_count": 67,
   "metadata": {},
   "outputs": [
    {
     "data": {
      "text/plain": [
       "(125, 94)"
      ]
     },
     "execution_count": 67,
     "metadata": {},
     "output_type": "execute_result"
    }
   ],
   "source": [
    "eigenfaces[1].shape"
   ]
  },
  {
   "cell_type": "code",
   "execution_count": 62,
   "metadata": {},
   "outputs": [
    {
     "data": {
      "text/plain": [
       "(411, 411)"
      ]
     },
     "execution_count": 62,
     "metadata": {},
     "output_type": "execute_result"
    }
   ],
   "source": [
    "X_train_pca.shape"
   ]
  },
  {
   "cell_type": "code",
   "execution_count": 54,
   "metadata": {},
   "outputs": [
    {
     "data": {
      "text/plain": [
       "14.285714285714286"
      ]
     },
     "execution_count": 54,
     "metadata": {},
     "output_type": "execute_result"
    }
   ],
   "source": [
    "200/14"
   ]
  },
  {
   "cell_type": "code",
   "execution_count": 75,
   "metadata": {},
   "outputs": [
    {
     "data": {
      "image/png": "[encoded data removed]",
      "text/plain": [
       "<Figure size 360x360 with 10 Axes>"
      ]
     },
     "metadata": {},
     "output_type": "display_data"
    }
   ],
   "source": [
    "fig = plt.figure(figsize=(5,5))\n",
    "fig.subplots_adjust(left=0, right=1, bottom=0, top=1, hspace=0.05, wspace=0.05)\n",
    "# plot 25 random faces\n",
    "j = 1\n",
    "np.random.seed(0)\n",
    "\n",
    "for i in np.random.choice(range(X_train.shape[0]), 5):\n",
    "  ax = fig.add_subplot(2, 5, j, xticks=[], yticks=[])\n",
    "  ax.imshow(np.reshape(X_train[i,:],(125,94))*eigenfaces[1]+np.reshape(X_train[i,:],(125,94))*eigenfaces[0], \n",
    "            cmap=plt.cm.gray, interpolation='nearest')\n",
    "    \n",
    "  ax = fig.add_subplot(2, 5, j+1, xticks=[], yticks=[])\n",
    "  ax.imshow(np.reshape(X_train[i,:],(125,94)), cmap=plt.cm.gray, interpolation='nearest')\n",
    "  j += 2\n",
    "plt.show()\n"
   ]
  },
  {
   "cell_type": "code",
   "execution_count": 9,
   "metadata": {},
   "outputs": [
    {
     "data": {
      "text/plain": [
       "(411, 50)"
      ]
     },
     "execution_count": 9,
     "metadata": {},
     "output_type": "execute_result"
    }
   ],
   "source": [
    "X_train_pca.shape"
   ]
  },
  {
   "cell_type": "code",
   "execution_count": null,
   "metadata": {},
   "outputs": [],
   "source": []
  }
 ],
 "metadata": {
  "kernelspec": {
   "display_name": "Python 3",
   "language": "python",
   "name": "python3"
  },
  "language_info": {
   "codemirror_mode": {
    "name": "ipython",
    "version": 3
   },
   "file_extension": ".py",
   "mimetype": "text/x-python",
   "name": "python",
   "nbconvert_exporter": "python",
   "pygments_lexer": "ipython3",
   "version": "3.7.6"
  }
 },
 "nbformat": 4,
 "nbformat_minor": 5
}
