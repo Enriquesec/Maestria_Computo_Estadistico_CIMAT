{
 "cells": [
  {
   "cell_type": "code",
   "execution_count": 2,
   "metadata": {},
   "outputs": [],
   "source": [
    "import pandas as pd\n",
    "import numpy as np"
   ]
  },
  {
   "cell_type": "markdown",
   "metadata": {},
   "source": [
    "### Creamos el dataframe a trabajar"
   ]
  },
  {
   "cell_type": "code",
   "execution_count": 7,
   "metadata": {},
   "outputs": [
    {
     "data": {
      "text/html": [
       "<div>\n",
       "<style scoped>\n",
       "    .dataframe tbody tr th:only-of-type {\n",
       "        vertical-align: middle;\n",
       "    }\n",
       "\n",
       "    .dataframe tbody tr th {\n",
       "        vertical-align: top;\n",
       "    }\n",
       "\n",
       "    .dataframe thead th {\n",
       "        text-align: right;\n",
       "    }\n",
       "</style>\n",
       "<table border=\"1\" class=\"dataframe\">\n",
       "  <thead>\n",
       "    <tr style=\"text-align: right;\">\n",
       "      <th></th>\n",
       "      <th>estado</th>\n",
       "      <th>ciudades</th>\n",
       "    </tr>\n",
       "  </thead>\n",
       "  <tbody>\n",
       "    <tr>\n",
       "      <th>0</th>\n",
       "      <td>Aguascalientes</td>\n",
       "      <td>Aguascalientes</td>\n",
       "    </tr>\n",
       "    <tr>\n",
       "      <th>1</th>\n",
       "      <td>Baja California</td>\n",
       "      <td>Tijuana</td>\n",
       "    </tr>\n",
       "    <tr>\n",
       "      <th>2</th>\n",
       "      <td>Baja California</td>\n",
       "      <td>Mexicali</td>\n",
       "    </tr>\n",
       "    <tr>\n",
       "      <th>3</th>\n",
       "      <td>Chiapas</td>\n",
       "      <td>Tuxtla Gutiérrez</td>\n",
       "    </tr>\n",
       "    <tr>\n",
       "      <th>4</th>\n",
       "      <td>Chihuahua</td>\n",
       "      <td>Ciudad Juárez</td>\n",
       "    </tr>\n",
       "  </tbody>\n",
       "</table>\n",
       "</div>"
      ],
      "text/plain": [
       "            estado          ciudades\n",
       "0   Aguascalientes    Aguascalientes\n",
       "1  Baja California           Tijuana\n",
       "2  Baja California          Mexicali\n",
       "3          Chiapas  Tuxtla Gutiérrez\n",
       "4        Chihuahua     Ciudad Juárez"
      ]
     },
     "metadata": {},
     "output_type": "display_data"
    },
    {
     "name": "stdout",
     "output_type": "stream",
     "text": [
      "(41, 2)\n"
     ]
    }
   ],
   "source": [
    "ciudades = pd.read_csv(\"../data/diccionarios/ciudades.csv\")\n",
    "display(ciudades.head())\n",
    "print(ciudades.shape)"
   ]
  },
  {
   "cell_type": "code",
   "execution_count": 33,
   "metadata": {},
   "outputs": [],
   "source": [
    "ciudades.rename(columns={\"ciudades\":\"ciudad\"}, inplace=True)"
   ]
  },
  {
   "cell_type": "code",
   "execution_count": 37,
   "metadata": {},
   "outputs": [
    {
     "data": {
      "text/html": [
       "<div>\n",
       "<style scoped>\n",
       "    .dataframe tbody tr th:only-of-type {\n",
       "        vertical-align: middle;\n",
       "    }\n",
       "\n",
       "    .dataframe tbody tr th {\n",
       "        vertical-align: top;\n",
       "    }\n",
       "\n",
       "    .dataframe thead th {\n",
       "        text-align: right;\n",
       "    }\n",
       "</style>\n",
       "<table border=\"1\" class=\"dataframe\">\n",
       "  <thead>\n",
       "    <tr style=\"text-align: right;\">\n",
       "      <th></th>\n",
       "      <th>estado</th>\n",
       "      <th>ciudad</th>\n",
       "    </tr>\n",
       "  </thead>\n",
       "  <tbody>\n",
       "    <tr>\n",
       "      <th>0</th>\n",
       "      <td>Aguascalientes</td>\n",
       "      <td>Aguascalientes</td>\n",
       "    </tr>\n",
       "    <tr>\n",
       "      <th>1</th>\n",
       "      <td>Baja California</td>\n",
       "      <td>Tijuana</td>\n",
       "    </tr>\n",
       "    <tr>\n",
       "      <th>2</th>\n",
       "      <td>Baja California</td>\n",
       "      <td>Mexicali</td>\n",
       "    </tr>\n",
       "    <tr>\n",
       "      <th>3</th>\n",
       "      <td>Chiapas</td>\n",
       "      <td>Tuxtla Gutiérrez</td>\n",
       "    </tr>\n",
       "    <tr>\n",
       "      <th>4</th>\n",
       "      <td>Chihuahua</td>\n",
       "      <td>Ciudad Juárez</td>\n",
       "    </tr>\n",
       "  </tbody>\n",
       "</table>\n",
       "</div>"
      ],
      "text/plain": [
       "            estado            ciudad\n",
       "0   Aguascalientes    Aguascalientes\n",
       "1  Baja California           Tijuana\n",
       "2  Baja California          Mexicali\n",
       "3          Chiapas  Tuxtla Gutiérrez\n",
       "4        Chihuahua     Ciudad Juárez"
      ]
     },
     "execution_count": 37,
     "metadata": {},
     "output_type": "execute_result"
    }
   ],
   "source": [
    "ciudades.head()"
   ]
  },
  {
   "cell_type": "markdown",
   "metadata": {},
   "source": [
    "### Museos"
   ]
  },
  {
   "cell_type": "code",
   "execution_count": 88,
   "metadata": {},
   "outputs": [],
   "source": [
    "museo_dic = pd.read_csv(\"../data/diccionarios/museos.csv\")\n",
    "museo_dic.rename(columns={\"museos\":\"museo\"}, inplace=True)"
   ]
  },
  {
   "cell_type": "code",
   "execution_count": 89,
   "metadata": {},
   "outputs": [
    {
     "data": {
      "text/html": [
       "<div>\n",
       "<style scoped>\n",
       "    .dataframe tbody tr th:only-of-type {\n",
       "        vertical-align: middle;\n",
       "    }\n",
       "\n",
       "    .dataframe tbody tr th {\n",
       "        vertical-align: top;\n",
       "    }\n",
       "\n",
       "    .dataframe thead th {\n",
       "        text-align: right;\n",
       "    }\n",
       "</style>\n",
       "<table border=\"1\" class=\"dataframe\">\n",
       "  <thead>\n",
       "    <tr style=\"text-align: right;\">\n",
       "      <th></th>\n",
       "      <th>museo</th>\n",
       "      <th>estado</th>\n",
       "      <th>ciudad</th>\n",
       "    </tr>\n",
       "  </thead>\n",
       "  <tbody>\n",
       "    <tr>\n",
       "      <th>0</th>\n",
       "      <td>Museo Regional de Historia de Aguascalientes</td>\n",
       "      <td>Aguascalientes</td>\n",
       "      <td>Aguascalientes</td>\n",
       "    </tr>\n",
       "    <tr>\n",
       "      <th>1</th>\n",
       "      <td>Museo de la Revolución en la Frontera</td>\n",
       "      <td>Chihuahua</td>\n",
       "      <td>Ciudad Juárez</td>\n",
       "    </tr>\n",
       "    <tr>\n",
       "      <th>2</th>\n",
       "      <td>Museo Regional de la Laguna</td>\n",
       "      <td>Coahuila\\n</td>\n",
       "      <td>Torreón</td>\n",
       "    </tr>\n",
       "    <tr>\n",
       "      <th>3</th>\n",
       "      <td>Centro Comunitario Culhuacán, Ex Convento de S...</td>\n",
       "      <td>Ciudad de México</td>\n",
       "      <td>Ciudad de México</td>\n",
       "    </tr>\n",
       "    <tr>\n",
       "      <th>4</th>\n",
       "      <td>Galería de Historia</td>\n",
       "      <td>Ciudad de México</td>\n",
       "      <td>Ciudad de México</td>\n",
       "    </tr>\n",
       "  </tbody>\n",
       "</table>\n",
       "</div>"
      ],
      "text/plain": [
       "                                               museo            estado  \\\n",
       "0       Museo Regional de Historia de Aguascalientes    Aguascalientes   \n",
       "1              Museo de la Revolución en la Frontera         Chihuahua   \n",
       "2                        Museo Regional de la Laguna        Coahuila\\n   \n",
       "3  Centro Comunitario Culhuacán, Ex Convento de S...  Ciudad de México   \n",
       "4                                Galería de Historia  Ciudad de México   \n",
       "\n",
       "             ciudad  \n",
       "0    Aguascalientes  \n",
       "1     Ciudad Juárez  \n",
       "2           Torreón  \n",
       "3  Ciudad de México  \n",
       "4  Ciudad de México  "
      ]
     },
     "execution_count": 89,
     "metadata": {},
     "output_type": "execute_result"
    }
   ],
   "source": [
    "museo_dic.head()"
   ]
  },
  {
   "cell_type": "code",
   "execution_count": 90,
   "metadata": {
    "scrolled": true
   },
   "outputs": [],
   "source": [
    "ciudad_museo = pd.merge(ciudades, museo_dic, on=[\"estado\", \"ciudad\"], how=\"left\")"
   ]
  },
  {
   "cell_type": "markdown",
   "metadata": {},
   "source": [
    "### Datos Museos"
   ]
  },
  {
   "cell_type": "code",
   "execution_count": 130,
   "metadata": {},
   "outputs": [],
   "source": [
    "def juntar(path, col):\n",
    "    df = pd.read_csv(path)\n",
    "    df = df[df[col[0]] !=\"Total Estado\"]\n",
    "    df = df[col+[\"clas_visitantes\"]]\n",
    "    df = df[~df.clas_visitantes.isin([\"Total Visitantes\"])]\n",
    "    df.rename(columns={col[1]:\"visitas\"}, inplace=True)\n",
    "\n",
    "    df_pivot = pd.pivot_table(df, values=[\"visitas\"], index=[col[0]], \n",
    "               columns=[\"clas_visitantes\"], aggfunc=np.sum).reset_index()\n",
    "    \n",
    "    df_pivot.columns = [col[0]]+[\"{}_internacionales\".format(col[0]), \"{}_nacionales\".format(col[0])]\n",
    "    return df_pivot"
   ]
  },
  {
   "cell_type": "code",
   "execution_count": 131,
   "metadata": {},
   "outputs": [],
   "source": [
    "path_museos = \"../data/processed/estado_museo_clas_anual.csv\"\n",
    "museos_pivot = juntar(path_museos, [\"museo\", \"2019\"])"
   ]
  },
  {
   "cell_type": "code",
   "execution_count": 132,
   "metadata": {},
   "outputs": [
    {
     "data": {
      "text/html": [
       "<div>\n",
       "<style scoped>\n",
       "    .dataframe tbody tr th:only-of-type {\n",
       "        vertical-align: middle;\n",
       "    }\n",
       "\n",
       "    .dataframe tbody tr th {\n",
       "        vertical-align: top;\n",
       "    }\n",
       "\n",
       "    .dataframe thead th {\n",
       "        text-align: right;\n",
       "    }\n",
       "</style>\n",
       "<table border=\"1\" class=\"dataframe\">\n",
       "  <thead>\n",
       "    <tr style=\"text-align: right;\">\n",
       "      <th></th>\n",
       "      <th>museo</th>\n",
       "      <th>museo_internacionales</th>\n",
       "      <th>museo_nacionales</th>\n",
       "    </tr>\n",
       "  </thead>\n",
       "  <tbody>\n",
       "    <tr>\n",
       "      <th>0</th>\n",
       "      <td>Capilla Abierta de Tlalmanalco</td>\n",
       "      <td>0.0</td>\n",
       "      <td>14461.0</td>\n",
       "    </tr>\n",
       "    <tr>\n",
       "      <th>1</th>\n",
       "      <td>Capilla Abierta del Templo de Calimaya</td>\n",
       "      <td>4.0</td>\n",
       "      <td>8164.0</td>\n",
       "    </tr>\n",
       "    <tr>\n",
       "      <th>2</th>\n",
       "      <td>Casa de Hidalgo</td>\n",
       "      <td>2349.0</td>\n",
       "      <td>76602.0</td>\n",
       "    </tr>\n",
       "    <tr>\n",
       "      <th>3</th>\n",
       "      <td>Casa de la Palestina</td>\n",
       "      <td>0.0</td>\n",
       "      <td>0.0</td>\n",
       "    </tr>\n",
       "    <tr>\n",
       "      <th>4</th>\n",
       "      <td>Casa del Dean</td>\n",
       "      <td>1499.0</td>\n",
       "      <td>14519.0</td>\n",
       "    </tr>\n",
       "  </tbody>\n",
       "</table>\n",
       "</div>"
      ],
      "text/plain": [
       "                                    museo  museo_internacionales  \\\n",
       "0          Capilla Abierta de Tlalmanalco                    0.0   \n",
       "1  Capilla Abierta del Templo de Calimaya                    4.0   \n",
       "2                         Casa de Hidalgo                 2349.0   \n",
       "3                    Casa de la Palestina                    0.0   \n",
       "4                           Casa del Dean                 1499.0   \n",
       "\n",
       "   museo_nacionales  \n",
       "0           14461.0  \n",
       "1            8164.0  \n",
       "2           76602.0  \n",
       "3               0.0  \n",
       "4           14519.0  "
      ]
     },
     "execution_count": 132,
     "metadata": {},
     "output_type": "execute_result"
    }
   ],
   "source": [
    "museos_pivot.head()"
   ]
  },
  {
   "cell_type": "code",
   "execution_count": 133,
   "metadata": {},
   "outputs": [],
   "source": [
    "ciudad_museo_join = pd.merge(ciudad_museo, museos_pivot, on=[\"museo\"], how=\"left\")"
   ]
  },
  {
   "cell_type": "code",
   "execution_count": 151,
   "metadata": {},
   "outputs": [
    {
     "data": {
      "text/plain": [
       "0"
      ]
     },
     "execution_count": 151,
     "metadata": {},
     "output_type": "execute_result"
    }
   ],
   "source": [
    "np.sum(ciudad_museo_join[[\"museo\", \"museo_internacionales\"]].isna().sum(axis=1)==1)"
   ]
  },
  {
   "cell_type": "markdown",
   "metadata": {},
   "source": [
    "### Zonas arqueologicas"
   ]
  },
  {
   "cell_type": "code",
   "execution_count": 155,
   "metadata": {},
   "outputs": [
    {
     "data": {
      "text/html": [
       "<div>\n",
       "<style scoped>\n",
       "    .dataframe tbody tr th:only-of-type {\n",
       "        vertical-align: middle;\n",
       "    }\n",
       "\n",
       "    .dataframe tbody tr th {\n",
       "        vertical-align: top;\n",
       "    }\n",
       "\n",
       "    .dataframe thead th {\n",
       "        text-align: right;\n",
       "    }\n",
       "</style>\n",
       "<table border=\"1\" class=\"dataframe\">\n",
       "  <thead>\n",
       "    <tr style=\"text-align: right;\">\n",
       "      <th></th>\n",
       "      <th>zona_arqueologica</th>\n",
       "      <th>estado</th>\n",
       "      <th>ciudad</th>\n",
       "    </tr>\n",
       "  </thead>\n",
       "  <tbody>\n",
       "    <tr>\n",
       "      <th>0</th>\n",
       "      <td>Z.A. de El Vallecito</td>\n",
       "      <td>Baja California</td>\n",
       "      <td>Tijuana</td>\n",
       "    </tr>\n",
       "    <tr>\n",
       "      <th>1</th>\n",
       "      <td>Z.A. de Izapa</td>\n",
       "      <td>Chiapas</td>\n",
       "      <td>Tuxtla Gutiérrez</td>\n",
       "    </tr>\n",
       "    <tr>\n",
       "      <th>2</th>\n",
       "      <td>Z.A. de Cerro de la Estrella</td>\n",
       "      <td>Ciudad de México</td>\n",
       "      <td>Ciudad de México</td>\n",
       "    </tr>\n",
       "    <tr>\n",
       "      <th>3</th>\n",
       "      <td>Z.A. de Cuicuilco con museo de sitio</td>\n",
       "      <td>Ciudad de México</td>\n",
       "      <td>Ciudad de México</td>\n",
       "    </tr>\n",
       "    <tr>\n",
       "      <th>4</th>\n",
       "      <td>Z. A. de Mixcoac1/</td>\n",
       "      <td>Ciudad de México</td>\n",
       "      <td>Ciudad de México</td>\n",
       "    </tr>\n",
       "  </tbody>\n",
       "</table>\n",
       "</div>"
      ],
      "text/plain": [
       "                      zona_arqueologica            estado            ciudad\n",
       "0                  Z.A. de El Vallecito   Baja California           Tijuana\n",
       "1                         Z.A. de Izapa           Chiapas  Tuxtla Gutiérrez\n",
       "2          Z.A. de Cerro de la Estrella  Ciudad de México  Ciudad de México\n",
       "3  Z.A. de Cuicuilco con museo de sitio  Ciudad de México  Ciudad de México\n",
       "4                    Z. A. de Mixcoac1/  Ciudad de México  Ciudad de México"
      ]
     },
     "metadata": {},
     "output_type": "display_data"
    },
    {
     "name": "stdout",
     "output_type": "stream",
     "text": [
      "(51, 3)\n",
      "(51, 3)\n"
     ]
    }
   ],
   "source": [
    "zonas_dic = pd.read_csv(\"../data/diccionarios/zonas_arquelogicas.csv\")\n",
    "display(zonas_dic.head())\n",
    "\n",
    "print(ciudad_zona.shape)\n",
    "ciudad_zona = pd.merge(ciudades, zonas_dic, on=[\"estado\", \"ciudad\"], how=\"left\")\n",
    "print(ciudad_zona.shape)"
   ]
  },
  {
   "cell_type": "markdown",
   "metadata": {},
   "source": [
    "#### Data zonas_arquelogicas"
   ]
  },
  {
   "cell_type": "code",
   "execution_count": 156,
   "metadata": {},
   "outputs": [],
   "source": [
    "paht_zonas = \"../data/processed/estado_zonas_arqueologicas_clas_anual.csv\"\n",
    "\n",
    "zonas_pivot = juntar(paht_zonas, [\"zona_arqueologica\", \"20191\"])"
   ]
  },
  {
   "cell_type": "code",
   "execution_count": 157,
   "metadata": {},
   "outputs": [],
   "source": [
    "ciudad_zona_junto = pd.merge(ciudad_zona, zonas_pivot, how=\"left\", on=\"zona_arqueologica\")"
   ]
  },
  {
   "cell_type": "code",
   "execution_count": 158,
   "metadata": {
    "scrolled": true
   },
   "outputs": [
    {
     "data": {
      "text/plain": [
       "0"
      ]
     },
     "execution_count": 158,
     "metadata": {},
     "output_type": "execute_result"
    }
   ],
   "source": [
    "#### test zona\n",
    "np.sum(ciudad_zona_junto[[\"zona_arqueologica\", \"zona_arqueologica_internacionales\"]].isna().sum(axis=1)==1)"
   ]
  },
  {
   "cell_type": "markdown",
   "metadata": {},
   "source": [
    "### Aeropuerto"
   ]
  },
  {
   "cell_type": "code",
   "execution_count": null,
   "metadata": {},
   "outputs": [],
   "source": [
    "vuelos = pd.read_csv()"
   ]
  }
 ],
 "metadata": {
  "kernelspec": {
   "display_name": "Python 3",
   "language": "python",
   "name": "python3"
  },
  "language_info": {
   "codemirror_mode": {
    "name": "ipython",
    "version": 3
   },
   "file_extension": ".py",
   "mimetype": "text/x-python",
   "name": "python",
   "nbconvert_exporter": "python",
   "pygments_lexer": "ipython3",
   "version": "3.7.6"
  }
 },
 "nbformat": 4,
 "nbformat_minor": 4
}
