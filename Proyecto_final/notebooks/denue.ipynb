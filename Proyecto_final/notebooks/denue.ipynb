{
 "cells": [
  {
   "cell_type": "code",
   "execution_count": 1,
   "metadata": {},
   "outputs": [],
   "source": [
    "import pandas as pd "
   ]
  },
  {
   "cell_type": "markdown",
   "metadata": {},
   "source": [
    "### ciudades"
   ]
  },
  {
   "cell_type": "code",
   "execution_count": 119,
   "metadata": {},
   "outputs": [
    {
     "data": {
      "text/html": [
       "<div>\n",
       "<style scoped>\n",
       "    .dataframe tbody tr th:only-of-type {\n",
       "        vertical-align: middle;\n",
       "    }\n",
       "\n",
       "    .dataframe tbody tr th {\n",
       "        vertical-align: top;\n",
       "    }\n",
       "\n",
       "    .dataframe thead th {\n",
       "        text-align: right;\n",
       "    }\n",
       "</style>\n",
       "<table border=\"1\" class=\"dataframe\">\n",
       "  <thead>\n",
       "    <tr style=\"text-align: right;\">\n",
       "      <th></th>\n",
       "      <th>estado</th>\n",
       "      <th>ciudades</th>\n",
       "    </tr>\n",
       "  </thead>\n",
       "  <tbody>\n",
       "    <tr>\n",
       "      <th>0</th>\n",
       "      <td>Aguascalientes</td>\n",
       "      <td>Aguascalientes</td>\n",
       "    </tr>\n",
       "    <tr>\n",
       "      <th>1</th>\n",
       "      <td>Baja California</td>\n",
       "      <td>Tijuana</td>\n",
       "    </tr>\n",
       "    <tr>\n",
       "      <th>2</th>\n",
       "      <td>Baja California</td>\n",
       "      <td>Mexicali</td>\n",
       "    </tr>\n",
       "    <tr>\n",
       "      <th>3</th>\n",
       "      <td>Chiapas</td>\n",
       "      <td>Tuxtla Gutiérrez</td>\n",
       "    </tr>\n",
       "    <tr>\n",
       "      <th>4</th>\n",
       "      <td>Chihuahua</td>\n",
       "      <td>Ciudad Juárez</td>\n",
       "    </tr>\n",
       "  </tbody>\n",
       "</table>\n",
       "</div>"
      ],
      "text/plain": [
       "            estado          ciudades\n",
       "0   Aguascalientes    Aguascalientes\n",
       "1  Baja California           Tijuana\n",
       "2  Baja California          Mexicali\n",
       "3          Chiapas  Tuxtla Gutiérrez\n",
       "4        Chihuahua     Ciudad Juárez"
      ]
     },
     "execution_count": 119,
     "metadata": {},
     "output_type": "execute_result"
    }
   ],
   "source": [
    "ciudades = pd.read_csv(\"../data/diccionarios/ciudades.csv\")\n",
    "# ciudades.ciudades.replace({\"Cuautla de Morelos\":\"Cuautla\", \"Puebla de Zaragoza\":\"Heroica Puebla de Zaragoza\",\n",
    "#                          \"Culiacán\":\"Culiacán Rosales\", \"Durango\":\"Victoria de Durango\", \n",
    "#                          \"León\":\"León de los Aldama\", \"Acapulco\":\"Acapulco de Juárez\"},inplace=True)\n",
    "ciudades.head()"
   ]
  },
  {
   "cell_type": "markdown",
   "metadata": {},
   "source": [
    "### Localidades"
   ]
  },
  {
   "cell_type": "code",
   "execution_count": null,
   "metadata": {},
   "outputs": [],
   "source": []
  },
  {
   "cell_type": "code",
   "execution_count": 27,
   "metadata": {},
   "outputs": [
    {
     "name": "stderr",
     "output_type": "stream",
     "text": [
      "/home/enrique/anaconda3/lib/python3.7/site-packages/IPython/core/interactiveshell.py:3063: DtypeWarning: Columns (13,15,18) have mixed types.Specify dtype option on import or set low_memory=False.\n",
      "  interactivity=interactivity, compiler=compiler, result=result)\n"
     ]
    }
   ],
   "source": [
    "localidades = pd.read_csv(\"../data/diccionarios/localidades_inegi.csv\")"
   ]
  },
  {
   "cell_type": "code",
   "execution_count": 50,
   "metadata": {},
   "outputs": [
    {
     "data": {
      "text/html": [
       "<div>\n",
       "<style scoped>\n",
       "    .dataframe tbody tr th:only-of-type {\n",
       "        vertical-align: middle;\n",
       "    }\n",
       "\n",
       "    .dataframe tbody tr th {\n",
       "        vertical-align: top;\n",
       "    }\n",
       "\n",
       "    .dataframe thead th {\n",
       "        text-align: right;\n",
       "    }\n",
       "</style>\n",
       "<table border=\"1\" class=\"dataframe\">\n",
       "  <thead>\n",
       "    <tr style=\"text-align: right;\">\n",
       "      <th></th>\n",
       "      <th>Mapa</th>\n",
       "      <th>Cve_Ent</th>\n",
       "      <th>Nom_Ent</th>\n",
       "      <th>Nom_Abr</th>\n",
       "      <th>Cve_Mun</th>\n",
       "      <th>Nom_Mun</th>\n",
       "      <th>Cve_Loc</th>\n",
       "      <th>Nom_Loc</th>\n",
       "      <th>Ámbito</th>\n",
       "      <th>Latitud</th>\n",
       "      <th>Longitud</th>\n",
       "      <th>Lat_Decimal</th>\n",
       "      <th>Lon_Decimal</th>\n",
       "      <th>Altitud</th>\n",
       "      <th>Cve_Carta</th>\n",
       "      <th>Pob_Total</th>\n",
       "      <th>Pob_Masculina</th>\n",
       "      <th>Pob_Femenina</th>\n",
       "      <th>Total De Viviendas Habitadas</th>\n",
       "    </tr>\n",
       "  </thead>\n",
       "  <tbody>\n",
       "    <tr>\n",
       "      <th>0</th>\n",
       "      <td>10010001</td>\n",
       "      <td>1</td>\n",
       "      <td>Aguascalientes</td>\n",
       "      <td>Ags.</td>\n",
       "      <td>1</td>\n",
       "      <td>Aguascalientes</td>\n",
       "      <td>1</td>\n",
       "      <td>Aguascalientes</td>\n",
       "      <td>U</td>\n",
       "      <td>21°52´47.362N\"</td>\n",
       "      <td>102°17´45.768W\"</td>\n",
       "      <td>21.879823</td>\n",
       "      <td>-102.296047</td>\n",
       "      <td>1878</td>\n",
       "      <td>F13D19</td>\n",
       "      <td>863893</td>\n",
       "      <td>419168</td>\n",
       "      <td>444725</td>\n",
       "      <td>246259</td>\n",
       "    </tr>\n",
       "    <tr>\n",
       "      <th>1</th>\n",
       "      <td>10010094</td>\n",
       "      <td>1</td>\n",
       "      <td>Aguascalientes</td>\n",
       "      <td>Ags.</td>\n",
       "      <td>1</td>\n",
       "      <td>Aguascalientes</td>\n",
       "      <td>94</td>\n",
       "      <td>Granja Adelita</td>\n",
       "      <td>R</td>\n",
       "      <td>21°52´18.749N\"</td>\n",
       "      <td>102°22´24.710W\"</td>\n",
       "      <td>21.871875</td>\n",
       "      <td>-102.373531</td>\n",
       "      <td>1902</td>\n",
       "      <td>F13D18</td>\n",
       "      <td>5</td>\n",
       "      <td>*</td>\n",
       "      <td>*</td>\n",
       "      <td>2</td>\n",
       "    </tr>\n",
       "    <tr>\n",
       "      <th>2</th>\n",
       "      <td>10010096</td>\n",
       "      <td>1</td>\n",
       "      <td>Aguascalientes</td>\n",
       "      <td>Ags.</td>\n",
       "      <td>1</td>\n",
       "      <td>Aguascalientes</td>\n",
       "      <td>96</td>\n",
       "      <td>Agua Azul</td>\n",
       "      <td>R</td>\n",
       "      <td>21°53´01.522N\"</td>\n",
       "      <td>102°21´25.639W\"</td>\n",
       "      <td>21.883756</td>\n",
       "      <td>-102.357122</td>\n",
       "      <td>1861</td>\n",
       "      <td>F13D18</td>\n",
       "      <td>41</td>\n",
       "      <td>24</td>\n",
       "      <td>17</td>\n",
       "      <td>12</td>\n",
       "    </tr>\n",
       "    <tr>\n",
       "      <th>3</th>\n",
       "      <td>10010100</td>\n",
       "      <td>1</td>\n",
       "      <td>Aguascalientes</td>\n",
       "      <td>Ags.</td>\n",
       "      <td>1</td>\n",
       "      <td>Aguascalientes</td>\n",
       "      <td>100</td>\n",
       "      <td>Rancho Alegre</td>\n",
       "      <td>R</td>\n",
       "      <td>21°51´16.556N\"</td>\n",
       "      <td>102°22´21.884W\"</td>\n",
       "      <td>21.854599</td>\n",
       "      <td>-102.372746</td>\n",
       "      <td>1879</td>\n",
       "      <td>F13D18</td>\n",
       "      <td>0</td>\n",
       "      <td>0</td>\n",
       "      <td>0</td>\n",
       "      <td>0</td>\n",
       "    </tr>\n",
       "    <tr>\n",
       "      <th>4</th>\n",
       "      <td>10010102</td>\n",
       "      <td>1</td>\n",
       "      <td>Aguascalientes</td>\n",
       "      <td>Ags.</td>\n",
       "      <td>1</td>\n",
       "      <td>Aguascalientes</td>\n",
       "      <td>102</td>\n",
       "      <td>Los Arbolitos [Rancho]</td>\n",
       "      <td>R</td>\n",
       "      <td>21°46´48.650N\"</td>\n",
       "      <td>102°21´26.261W\"</td>\n",
       "      <td>21.780181</td>\n",
       "      <td>-102.357295</td>\n",
       "      <td>1861</td>\n",
       "      <td>F13D18</td>\n",
       "      <td>8</td>\n",
       "      <td>*</td>\n",
       "      <td>*</td>\n",
       "      <td>2</td>\n",
       "    </tr>\n",
       "  </tbody>\n",
       "</table>\n",
       "</div>"
      ],
      "text/plain": [
       "       Mapa  Cve_Ent         Nom_Ent Nom_Abr  Cve_Mun         Nom_Mun  \\\n",
       "0  10010001        1  Aguascalientes    Ags.        1  Aguascalientes   \n",
       "1  10010094        1  Aguascalientes    Ags.        1  Aguascalientes   \n",
       "2  10010096        1  Aguascalientes    Ags.        1  Aguascalientes   \n",
       "3  10010100        1  Aguascalientes    Ags.        1  Aguascalientes   \n",
       "4  10010102        1  Aguascalientes    Ags.        1  Aguascalientes   \n",
       "\n",
       "   Cve_Loc                 Nom_Loc Ámbito         Latitud         Longitud  \\\n",
       "0        1          Aguascalientes      U  21°52´47.362N\"  102°17´45.768W\"   \n",
       "1       94          Granja Adelita      R  21°52´18.749N\"  102°22´24.710W\"   \n",
       "2       96               Agua Azul      R  21°53´01.522N\"  102°21´25.639W\"   \n",
       "3      100           Rancho Alegre      R  21°51´16.556N\"  102°22´21.884W\"   \n",
       "4      102  Los Arbolitos [Rancho]      R  21°46´48.650N\"  102°21´26.261W\"   \n",
       "\n",
       "   Lat_Decimal  Lon_Decimal Altitud Cve_Carta Pob_Total Pob_Masculina  \\\n",
       "0    21.879823  -102.296047    1878    F13D19    863893        419168   \n",
       "1    21.871875  -102.373531    1902    F13D18         5             *   \n",
       "2    21.883756  -102.357122    1861    F13D18        41            24   \n",
       "3    21.854599  -102.372746    1879    F13D18         0             0   \n",
       "4    21.780181  -102.357295    1861    F13D18         8             *   \n",
       "\n",
       "  Pob_Femenina Total De Viviendas Habitadas  \n",
       "0       444725                       246259  \n",
       "1            *                            2  \n",
       "2           17                           12  \n",
       "3            0                            0  \n",
       "4            *                            2  "
      ]
     },
     "execution_count": 50,
     "metadata": {},
     "output_type": "execute_result"
    }
   ],
   "source": [
    "localidades.head()"
   ]
  },
  {
   "cell_type": "code",
   "execution_count": 52,
   "metadata": {},
   "outputs": [
    {
     "data": {
      "text/plain": [
       "0"
      ]
     },
     "execution_count": 52,
     "metadata": {},
     "output_type": "execute_result"
    }
   ],
   "source": [
    "sum(localidades.Mapa==111629)"
   ]
  },
  {
   "cell_type": "code",
   "execution_count": 31,
   "metadata": {},
   "outputs": [],
   "source": [
    "localidades_unique = localidades.Nom_Loc.unique()"
   ]
  },
  {
   "cell_type": "code",
   "execution_count": 69,
   "metadata": {},
   "outputs": [
    {
     "data": {
      "text/plain": [
       "(300684, 19)"
      ]
     },
     "execution_count": 69,
     "metadata": {},
     "output_type": "execute_result"
    }
   ],
   "source": [
    "localidades.shape"
   ]
  },
  {
   "cell_type": "code",
   "execution_count": 82,
   "metadata": {},
   "outputs": [
    {
     "name": "stdout",
     "output_type": "stream",
     "text": [
      "Ciudad de México\n",
      "1\n"
     ]
    }
   ],
   "source": [
    "k=0\n",
    "for i in ciudades.ciudades:\n",
    "    if not(i in localidades_unique):\n",
    "        print(i)\n",
    "        k+=1\n",
    "print(k)"
   ]
  },
  {
   "cell_type": "code",
   "execution_count": 38,
   "metadata": {},
   "outputs": [
    {
     "data": {
      "text/plain": [
       "1"
      ]
     },
     "execution_count": 38,
     "metadata": {},
     "output_type": "execute_result"
    }
   ],
   "source": [
    "sum(localidades_unique==\"Cuautla\")"
   ]
  },
  {
   "cell_type": "code",
   "execution_count": 39,
   "metadata": {},
   "outputs": [
    {
     "data": {
      "text/plain": [
       "1"
      ]
     },
     "execution_count": 39,
     "metadata": {},
     "output_type": "execute_result"
    }
   ],
   "source": [
    "sum(localidades_unique==\"Puebla\")"
   ]
  },
  {
   "cell_type": "code",
   "execution_count": 49,
   "metadata": {},
   "outputs": [
    {
     "data": {
      "text/plain": [
       "1"
      ]
     },
     "execution_count": 49,
     "metadata": {},
     "output_type": "execute_result"
    }
   ],
   "source": [
    "sum(localidades_unique==\"Culiacán Rosales\")\n"
   ]
  },
  {
   "cell_type": "code",
   "execution_count": null,
   "metadata": {},
   "outputs": [],
   "source": [
    "localidades[localidades.Nom_Ent==\"Ciudad de México\"]."
   ]
  },
  {
   "cell_type": "code",
   "execution_count": 61,
   "metadata": {},
   "outputs": [
    {
     "data": {
      "text/plain": [
       "array(['U', 'R'], dtype=object)"
      ]
     },
     "execution_count": 61,
     "metadata": {},
     "output_type": "execute_result"
    }
   ],
   "source": [
    "localidades[localidades.Nom_Ent==\"Ciudad de México\"]"
   ]
  },
  {
   "cell_type": "code",
   "execution_count": 105,
   "metadata": {},
   "outputs": [],
   "source": [
    "mexico = localidades[(localidades.Nom_Ent==\"Ciudad de México\") & (localidades[\"Ámbito\"]==\"U\")]\n",
    "\n",
    "\n"
   ]
  },
  {
   "cell_type": "code",
   "execution_count": 109,
   "metadata": {
    "scrolled": true
   },
   "outputs": [
    {
     "name": "stderr",
     "output_type": "stream",
     "text": [
      "/home/enrique/anaconda3/lib/python3.7/site-packages/ipykernel_launcher.py:1: SettingWithCopyWarning: \n",
      "A value is trying to be set on a copy of a slice from a DataFrame.\n",
      "Try using .loc[row_indexer,col_indexer] = value instead\n",
      "\n",
      "See the caveats in the documentation: https://pandas.pydata.org/pandas-docs/stable/user_guide/indexing.html#returning-a-view-versus-a-copy\n",
      "  \"\"\"Entry point for launching an IPython kernel.\n"
     ]
    }
   ],
   "source": [
    "mexico[\"Pob_Total\"] = pd.to_numeric(mexico[\"Pob_Total\"])"
   ]
  },
  {
   "cell_type": "code",
   "execution_count": 115,
   "metadata": {
    "scrolled": true
   },
   "outputs": [],
   "source": [
    "mexico_city = mexico.sort_values(\"Pob_Total\", ascending=False).head(7).Nom_Loc.unique()"
   ]
  },
  {
   "cell_type": "markdown",
   "metadata": {},
   "source": [
    "### Hotel"
   ]
  },
  {
   "cell_type": "code",
   "execution_count": 136,
   "metadata": {},
   "outputs": [
    {
     "name": "stderr",
     "output_type": "stream",
     "text": [
      "/home/enrique/anaconda3/lib/python3.7/site-packages/IPython/core/interactiveshell.py:3063: DtypeWarning: Columns (34) have mixed types.Specify dtype option on import or set low_memory=False.\n",
      "  interactivity=interactivity, compiler=compiler, result=result)\n"
     ]
    }
   ],
   "source": [
    "hotel = pd.read_csv(\"../data/raw/hotel_restaurante/conjunto_de_datos/denue_inegi_71_.csv\", encoding=\"latin-1\")\n",
    "hotel2 = pd.read_csv(\"../data/raw/restaurante/conjunto_de_datos/denue_inegi_72_2.csv\", encoding=\"latin-1\")"
   ]
  },
  {
   "cell_type": "code",
   "execution_count": 138,
   "metadata": {},
   "outputs": [],
   "source": [
    "hotel = pd.concat([hotel, hotel2])"
   ]
  },
  {
   "cell_type": "code",
   "execution_count": 139,
   "metadata": {},
   "outputs": [
    {
     "data": {
      "text/plain": [
       "Index(['id', 'nom_estab', 'raz_social', 'codigo_act', 'nombre_act', 'per_ocu',\n",
       "       'tipo_vial', 'nom_vial', 'tipo_v_e_1', 'nom_v_e_1', 'tipo_v_e_2',\n",
       "       'nom_v_e_2', 'tipo_v_e_3', 'nom_v_e_3', 'numero_ext', 'letra_ext',\n",
       "       'edificio', 'edificio_e', 'numero_int', 'letra_int', 'tipo_asent',\n",
       "       'nomb_asent', 'tipoCenCom', 'nom_CenCom', 'num_local', 'cod_postal',\n",
       "       'cve_ent', 'entidad', 'cve_mun', 'municipio', 'cve_loc', 'localidad',\n",
       "       'ageb', 'manzana', 'telefono', 'correoelec', 'www', 'tipoUniEco',\n",
       "       'latitud', 'longitud', 'fecha_alta'],\n",
       "      dtype='object')"
      ]
     },
     "execution_count": 139,
     "metadata": {},
     "output_type": "execute_result"
    }
   ],
   "source": [
    "hotel.columns"
   ]
  },
  {
   "cell_type": "code",
   "execution_count": 140,
   "metadata": {},
   "outputs": [],
   "source": [
    "hotel.localidad.replace({\"Cuautla\": \"Cuautla de Morelos\", \"Heroica Puebla de Zaragoza\":\"Puebla de Zaragoza\",\n",
    "                        \"Culiacán Rosales\":\"Culiacán\", \"Victoria de Durango\":\"Durango\", \"León de los Aldama\":\"León\",\n",
    "                        \"Acapulco de Juárez\": \"Acapulco\",\n",
    "                        'Iztapalapa':\"Ciudad de México\", 'Gustavo A. Madero':\"Ciudad de México\", \n",
    "                         'Álvaro Obregón':\"Ciudad de México\", 'Coyoacán':\"Ciudad de México\",\n",
    "       'Tlalpan':\"Ciudad de México\", 'Cuauhtémoc':\"Ciudad de México\", 'Venustiano Carranza':\"Ciudad de México\"},inplace=True)"
   ]
  },
  {
   "cell_type": "code",
   "execution_count": 141,
   "metadata": {},
   "outputs": [
    {
     "data": {
      "text/plain": [
       "Index(['id', 'nom_estab', 'raz_social', 'codigo_act', 'nombre_act', 'per_ocu',\n",
       "       'tipo_vial', 'nom_vial', 'tipo_v_e_1', 'nom_v_e_1', 'tipo_v_e_2',\n",
       "       'nom_v_e_2', 'tipo_v_e_3', 'nom_v_e_3', 'numero_ext', 'letra_ext',\n",
       "       'edificio', 'edificio_e', 'numero_int', 'letra_int', 'tipo_asent',\n",
       "       'nomb_asent', 'tipoCenCom', 'nom_CenCom', 'num_local', 'cod_postal',\n",
       "       'cve_ent', 'entidad', 'cve_mun', 'municipio', 'cve_loc', 'localidad',\n",
       "       'ageb', 'manzana', 'telefono', 'correoelec', 'www', 'tipoUniEco',\n",
       "       'latitud', 'longitud', 'fecha_alta'],\n",
       "      dtype='object')"
      ]
     },
     "execution_count": 141,
     "metadata": {},
     "output_type": "execute_result"
    }
   ],
   "source": [
    "hotel.columns"
   ]
  },
  {
   "cell_type": "code",
   "execution_count": 143,
   "metadata": {},
   "outputs": [],
   "source": [
    "hotel.nombre_act.replace({'Campamentos y albergues recreativos':\"hotel\", 'Cabañas, villas y similares':\"hotel\",\n",
    "       'Hoteles con otros servicios integrados':\"hotel\",\n",
    "       'Departamentos y casas amueblados con servicios de hotelería':\"hotel\",'Hoteles sin otros servicios integrados':\"hotel\",\n",
    "                         'Restaurantes con servicio de preparación de antojitos':\"restaurante\",\n",
    "                         'Cafeterías, fuentes de sodas, neverías, refresquerías y similares':\"restaurante\",\n",
    "       'Restaurantes con servicio de preparación de alimentos a la carta o de comida corrida':\"restaurante\",\n",
    "                         }, inplace=True)"
   ]
  },
  {
   "cell_type": "code",
   "execution_count": 153,
   "metadata": {},
   "outputs": [
    {
     "data": {
      "text/plain": [
       "array(['Promotores del sector público de espectáculos artísticos, culturales, deportivos y similares que cuentan con instalaciones para presentarlos',\n",
       "       'Centros de acondicionamiento físico del sector público',\n",
       "       'Casas de juegos electrónicos',\n",
       "       'Promotores del sector privado de espectáculos artísticos, culturales, deportivos y similares que cuentan con instalaciones para presentarlos',\n",
       "       'Otros servicios recreativos prestados por el sector privado',\n",
       "       'Artistas, escritores y técnicos independientes', 'Billares',\n",
       "       'Parques acuáticos y balnearios del sector privado',\n",
       "       'Centros de acondicionamiento físico del sector privado',\n",
       "       'Parques acuáticos y balnearios del sector público',\n",
       "       'Venta de billetes de lotería, pronósticos deportivos y otros boletos de sorteo',\n",
       "       'Grutas, parques naturales y otros sitios del patrimonio cultural de la nación',\n",
       "       'Parques de diversiones y temáticos del sector privado',\n",
       "       'Clubes o ligas de aficionados', 'Otros juegos de azar',\n",
       "       'Museos del sector privado', 'Museos del sector público',\n",
       "       'Otras compañías y grupos de espectáculos artísticos del sector privado',\n",
       "       'Compañías de danza del sector privado'], dtype=object)"
      ]
     },
     "execution_count": 153,
     "metadata": {},
     "output_type": "execute_result"
    }
   ],
   "source": [
    "hotel[hotel.localidad==\"Cuautla de Morelos\"].nombre_act.unique()"
   ]
  },
  {
   "cell_type": "code",
   "execution_count": 147,
   "metadata": {},
   "outputs": [],
   "source": [
    "hotel_ciudades = hotel[hotel.localidad.isin(ciudades.ciudades) & (hotel.nombre_act.isin([\"hotel\", \"restaurante\"]))]"
   ]
  },
  {
   "cell_type": "code",
   "execution_count": 149,
   "metadata": {},
   "outputs": [
    {
     "data": {
      "text/html": [
       "<div>\n",
       "<style scoped>\n",
       "    .dataframe tbody tr th:only-of-type {\n",
       "        vertical-align: middle;\n",
       "    }\n",
       "\n",
       "    .dataframe tbody tr th {\n",
       "        vertical-align: top;\n",
       "    }\n",
       "\n",
       "    .dataframe thead th {\n",
       "        text-align: right;\n",
       "    }\n",
       "</style>\n",
       "<table border=\"1\" class=\"dataframe\">\n",
       "  <thead>\n",
       "    <tr style=\"text-align: right;\">\n",
       "      <th></th>\n",
       "      <th>localidad</th>\n",
       "      <th>nombre_act</th>\n",
       "      <th>id</th>\n",
       "    </tr>\n",
       "  </thead>\n",
       "  <tbody>\n",
       "    <tr>\n",
       "      <th>0</th>\n",
       "      <td>Cancún</td>\n",
       "      <td>hotel</td>\n",
       "      <td>200</td>\n",
       "    </tr>\n",
       "    <tr>\n",
       "      <th>1</th>\n",
       "      <td>Cancún</td>\n",
       "      <td>restaurante</td>\n",
       "      <td>2008</td>\n",
       "    </tr>\n",
       "    <tr>\n",
       "      <th>2</th>\n",
       "      <td>Ciudad de México</td>\n",
       "      <td>hotel</td>\n",
       "      <td>1</td>\n",
       "    </tr>\n",
       "    <tr>\n",
       "      <th>3</th>\n",
       "      <td>Ciudad de México</td>\n",
       "      <td>restaurante</td>\n",
       "      <td>25</td>\n",
       "    </tr>\n",
       "    <tr>\n",
       "      <th>4</th>\n",
       "      <td>Culiacán</td>\n",
       "      <td>hotel</td>\n",
       "      <td>76</td>\n",
       "    </tr>\n",
       "    <tr>\n",
       "      <th>5</th>\n",
       "      <td>Culiacán</td>\n",
       "      <td>restaurante</td>\n",
       "      <td>1479</td>\n",
       "    </tr>\n",
       "    <tr>\n",
       "      <th>6</th>\n",
       "      <td>Hermosillo</td>\n",
       "      <td>hotel</td>\n",
       "      <td>41</td>\n",
       "    </tr>\n",
       "    <tr>\n",
       "      <th>7</th>\n",
       "      <td>Hermosillo</td>\n",
       "      <td>restaurante</td>\n",
       "      <td>1143</td>\n",
       "    </tr>\n",
       "    <tr>\n",
       "      <th>8</th>\n",
       "      <td>Heroica Matamoros</td>\n",
       "      <td>hotel</td>\n",
       "      <td>57</td>\n",
       "    </tr>\n",
       "    <tr>\n",
       "      <th>9</th>\n",
       "      <td>Heroica Matamoros</td>\n",
       "      <td>restaurante</td>\n",
       "      <td>746</td>\n",
       "    </tr>\n",
       "    <tr>\n",
       "      <th>10</th>\n",
       "      <td>Mazatlán</td>\n",
       "      <td>hotel</td>\n",
       "      <td>179</td>\n",
       "    </tr>\n",
       "    <tr>\n",
       "      <th>11</th>\n",
       "      <td>Mazatlán</td>\n",
       "      <td>restaurante</td>\n",
       "      <td>972</td>\n",
       "    </tr>\n",
       "    <tr>\n",
       "      <th>12</th>\n",
       "      <td>Mérida</td>\n",
       "      <td>hotel</td>\n",
       "      <td>218</td>\n",
       "    </tr>\n",
       "    <tr>\n",
       "      <th>13</th>\n",
       "      <td>Mérida</td>\n",
       "      <td>restaurante</td>\n",
       "      <td>2661</td>\n",
       "    </tr>\n",
       "    <tr>\n",
       "      <th>14</th>\n",
       "      <td>Orizaba</td>\n",
       "      <td>hotel</td>\n",
       "      <td>49</td>\n",
       "    </tr>\n",
       "    <tr>\n",
       "      <th>15</th>\n",
       "      <td>Orizaba</td>\n",
       "      <td>restaurante</td>\n",
       "      <td>873</td>\n",
       "    </tr>\n",
       "    <tr>\n",
       "      <th>16</th>\n",
       "      <td>Reynosa</td>\n",
       "      <td>hotel</td>\n",
       "      <td>60</td>\n",
       "    </tr>\n",
       "    <tr>\n",
       "      <th>17</th>\n",
       "      <td>Reynosa</td>\n",
       "      <td>restaurante</td>\n",
       "      <td>521</td>\n",
       "    </tr>\n",
       "    <tr>\n",
       "      <th>18</th>\n",
       "      <td>San Luis Potosí</td>\n",
       "      <td>hotel</td>\n",
       "      <td>104</td>\n",
       "    </tr>\n",
       "    <tr>\n",
       "      <th>19</th>\n",
       "      <td>San Luis Potosí</td>\n",
       "      <td>restaurante</td>\n",
       "      <td>2990</td>\n",
       "    </tr>\n",
       "    <tr>\n",
       "      <th>20</th>\n",
       "      <td>Santiago de Querétaro</td>\n",
       "      <td>hotel</td>\n",
       "      <td>130</td>\n",
       "    </tr>\n",
       "    <tr>\n",
       "      <th>21</th>\n",
       "      <td>Santiago de Querétaro</td>\n",
       "      <td>restaurante</td>\n",
       "      <td>2528</td>\n",
       "    </tr>\n",
       "    <tr>\n",
       "      <th>22</th>\n",
       "      <td>Tampico</td>\n",
       "      <td>hotel</td>\n",
       "      <td>76</td>\n",
       "    </tr>\n",
       "    <tr>\n",
       "      <th>23</th>\n",
       "      <td>Tampico</td>\n",
       "      <td>restaurante</td>\n",
       "      <td>837</td>\n",
       "    </tr>\n",
       "    <tr>\n",
       "      <th>24</th>\n",
       "      <td>Tlaxcala de Xicohténcatl</td>\n",
       "      <td>hotel</td>\n",
       "      <td>15</td>\n",
       "    </tr>\n",
       "    <tr>\n",
       "      <th>25</th>\n",
       "      <td>Tlaxcala de Xicohténcatl</td>\n",
       "      <td>restaurante</td>\n",
       "      <td>209</td>\n",
       "    </tr>\n",
       "    <tr>\n",
       "      <th>26</th>\n",
       "      <td>Veracruz</td>\n",
       "      <td>hotel</td>\n",
       "      <td>198</td>\n",
       "    </tr>\n",
       "    <tr>\n",
       "      <th>27</th>\n",
       "      <td>Veracruz</td>\n",
       "      <td>restaurante</td>\n",
       "      <td>2959</td>\n",
       "    </tr>\n",
       "    <tr>\n",
       "      <th>28</th>\n",
       "      <td>Villahermosa</td>\n",
       "      <td>hotel</td>\n",
       "      <td>106</td>\n",
       "    </tr>\n",
       "    <tr>\n",
       "      <th>29</th>\n",
       "      <td>Villahermosa</td>\n",
       "      <td>restaurante</td>\n",
       "      <td>1488</td>\n",
       "    </tr>\n",
       "    <tr>\n",
       "      <th>30</th>\n",
       "      <td>Xalapa-Enríquez</td>\n",
       "      <td>hotel</td>\n",
       "      <td>93</td>\n",
       "    </tr>\n",
       "    <tr>\n",
       "      <th>31</th>\n",
       "      <td>Xalapa-Enríquez</td>\n",
       "      <td>restaurante</td>\n",
       "      <td>1508</td>\n",
       "    </tr>\n",
       "  </tbody>\n",
       "</table>\n",
       "</div>"
      ],
      "text/plain": [
       "                   localidad   nombre_act    id\n",
       "0                     Cancún        hotel   200\n",
       "1                     Cancún  restaurante  2008\n",
       "2           Ciudad de México        hotel     1\n",
       "3           Ciudad de México  restaurante    25\n",
       "4                   Culiacán        hotel    76\n",
       "5                   Culiacán  restaurante  1479\n",
       "6                 Hermosillo        hotel    41\n",
       "7                 Hermosillo  restaurante  1143\n",
       "8          Heroica Matamoros        hotel    57\n",
       "9          Heroica Matamoros  restaurante   746\n",
       "10                  Mazatlán        hotel   179\n",
       "11                  Mazatlán  restaurante   972\n",
       "12                    Mérida        hotel   218\n",
       "13                    Mérida  restaurante  2661\n",
       "14                   Orizaba        hotel    49\n",
       "15                   Orizaba  restaurante   873\n",
       "16                   Reynosa        hotel    60\n",
       "17                   Reynosa  restaurante   521\n",
       "18           San Luis Potosí        hotel   104\n",
       "19           San Luis Potosí  restaurante  2990\n",
       "20     Santiago de Querétaro        hotel   130\n",
       "21     Santiago de Querétaro  restaurante  2528\n",
       "22                   Tampico        hotel    76\n",
       "23                   Tampico  restaurante   837\n",
       "24  Tlaxcala de Xicohténcatl        hotel    15\n",
       "25  Tlaxcala de Xicohténcatl  restaurante   209\n",
       "26                  Veracruz        hotel   198\n",
       "27                  Veracruz  restaurante  2959\n",
       "28              Villahermosa        hotel   106\n",
       "29              Villahermosa  restaurante  1488\n",
       "30           Xalapa-Enríquez        hotel    93\n",
       "31           Xalapa-Enríquez  restaurante  1508"
      ]
     },
     "execution_count": 149,
     "metadata": {},
     "output_type": "execute_result"
    }
   ],
   "source": [
    "hotel_ciudades.groupby([\"localidad\", \"nombre_act\",], as_index=False).id.count()"
   ]
  },
  {
   "cell_type": "code",
   "execution_count": null,
   "metadata": {},
   "outputs": [],
   "source": []
  },
  {
   "cell_type": "markdown",
   "metadata": {},
   "source": [
    "### Agencias de viaje"
   ]
  },
  {
   "cell_type": "code",
   "execution_count": null,
   "metadata": {},
   "outputs": [],
   "source": [
    "agencias ="
   ]
  },
  {
   "cell_type": "code",
   "execution_count": null,
   "metadata": {},
   "outputs": [],
   "source": []
  },
  {
   "cell_type": "code",
   "execution_count": null,
   "metadata": {},
   "outputs": [],
   "source": []
  },
  {
   "cell_type": "code",
   "execution_count": 142,
   "metadata": {
    "scrolled": true
   },
   "outputs": [
    {
     "data": {
      "text/plain": [
       "array(['Parques de diversiones y temáticos del sector privado',\n",
       "       'Centros de acondicionamiento físico del sector privado',\n",
       "       'Casas de juegos electrónicos',\n",
       "       'Venta de billetes de lotería, pronósticos deportivos y otros boletos de sorteo',\n",
       "       'Centros de acondicionamiento físico del sector público',\n",
       "       'Otros servicios recreativos prestados por el sector privado',\n",
       "       'Parques acuáticos y balnearios del sector privado',\n",
       "       'Clubes o ligas de aficionados',\n",
       "       'Equipos deportivos profesionales',\n",
       "       'Promotores de espectáculos artísticos, culturales, deportivos y similares que no cuentan con instalaciones para presentarlos',\n",
       "       'Clubes deportivos del sector público',\n",
       "       'Promotores del sector público de espectáculos artísticos, culturales, deportivos y similares que cuentan con instalaciones para presentarlos',\n",
       "       'Grupos musicales del sector público',\n",
       "       'Cantantes y grupos musicales del sector privado', 'Billares',\n",
       "       'Boliches', 'Clubes deportivos del sector privado',\n",
       "       'Artistas, escritores y técnicos independientes',\n",
       "       'Promotores del sector privado de espectáculos artísticos, culturales, deportivos y similares que cuentan con instalaciones para presentarlos',\n",
       "       'Parques de diversiones y temáticos del sector público',\n",
       "       'Deportistas profesionales', 'Campos de golf',\n",
       "       'Otros juegos de azar', 'Compañías de danza del sector privado',\n",
       "       'Museos del sector público', 'Museos del sector privado',\n",
       "       'Compañías de teatro del sector público',\n",
       "       'Otros servicios recreativos prestados por el sector público',\n",
       "       'Compañías de teatro del sector privado',\n",
       "       'Otras compañías y grupos de espectáculos artísticos del sector privado',\n",
       "       'Jardines botánicos y zoológicos del sector privado',\n",
       "       'Agentes y representantes de artistas, deportistas y similares',\n",
       "       'Parques acuáticos y balnearios del sector público',\n",
       "       'Marinas turísticas', 'Compañías de danza del sector público',\n",
       "       'Grutas, parques naturales y otros sitios del patrimonio cultural de la nación',\n",
       "       'Jardines botánicos y zoológicos del sector público',\n",
       "       'Sitios históricos',\n",
       "       'Restaurantes con servicio de preparación de antojitos',\n",
       "       'Restaurantes con servicio de preparación de tacos y tortas',\n",
       "       'Restaurantes que preparan otro tipo de alimentos para llevar',\n",
       "       'Restaurantes de autoservicio',\n",
       "       'Cafeterías, fuentes de sodas, neverías, refresquerías y similares',\n",
       "       'Restaurantes con servicio de preparación de alimentos a la carta o de comida corrida',\n",
       "       'Servicios de comedor para empresas e instituciones',\n",
       "       'Restaurantes con servicio de preparación de pizzas, hamburguesas, hot dogs y pollos rostizados para llevar',\n",
       "       'Bares, cantinas y similares',\n",
       "       'Servicios de preparación de otros alimentos para consumo inmediato',\n",
       "       'Moteles', 'Hoteles sin otros servicios integrados',\n",
       "       'Restaurantes con servicio de preparación de pescados y mariscos',\n",
       "       'Servicios de preparación de alimentos para ocasiones especiales',\n",
       "       'Centros nocturnos, discotecas y similares',\n",
       "       'Pensiones y casas de huéspedes',\n",
       "       'Servicios de preparación de alimentos en unidades móviles',\n",
       "       'Cabañas, villas y similares',\n",
       "       'Hoteles con otros servicios integrados',\n",
       "       'Departamentos y casas amueblados con servicios de hotelería',\n",
       "       'Campamentos y albergues recreativos'], dtype=object)"
      ]
     },
     "execution_count": 142,
     "metadata": {},
     "output_type": "execute_result"
    }
   ],
   "source": [
    "hotel.nombre_act.unique()"
   ]
  }
 ],
 "metadata": {
  "kernelspec": {
   "display_name": "Python 3",
   "language": "python",
   "name": "python3"
  },
  "language_info": {
   "codemirror_mode": {
    "name": "ipython",
    "version": 3
   },
   "file_extension": ".py",
   "mimetype": "text/x-python",
   "name": "python",
   "nbconvert_exporter": "python",
   "pygments_lexer": "ipython3",
   "version": "3.7.6"
  }
 },
 "nbformat": 4,
 "nbformat_minor": 4
}
