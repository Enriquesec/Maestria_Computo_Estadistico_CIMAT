{
 "cells": [
  {
   "cell_type": "code",
   "execution_count": 1,
   "metadata": {},
   "outputs": [],
   "source": [
    "from utilis import *\n",
    "import pandas as pd\n",
    "from matplotlib import pyplot as plt\n",
    "from sklearn import linear_model\n",
    "from sklearn import datasets\n",
    "from sklearn.datasets import make_regression\n",
    "from sklearn.model_selection import train_test_split\n",
    "from sklearn.linear_model import LinearRegression\n",
    "\n",
    "from sklearn.preprocessing import StandardScaler\n",
    "estandarizar=StandardScaler()"
   ]
  },
  {
   "cell_type": "markdown",
   "metadata": {},
   "source": [
    "### USO DE DATOS SINTETICOS"
   ]
  },
  {
   "cell_type": "code",
   "execution_count": 9,
   "metadata": {},
   "outputs": [],
   "source": [
    "# creamos el conjunto de datos.\n",
    "X,Y=make_regression(n_samples=20,n_features=100, n_targets=5,n_informative=4,random_state=6)\n",
    "\n",
    "# partimos el conjunto de datos.\n",
    "X_train, X_test, y_train, y_test = train_test_split(X, Y, test_size=0.5, random_state=6)#\n",
    "\n",
    "# estandarizamos.\n",
    "X_train=estandarizar.fit_transform(X_train)\n",
    "X_test=estandarizar.transform(X_test)\n",
    "y_train=estandarizar.fit_transform(y_train)\n",
    "y_test=estandarizar.transform(y_test)"
   ]
  },
  {
   "cell_type": "markdown",
   "metadata": {},
   "source": [
    "###  Regresion Multivariada"
   ]
  },
  {
   "cell_type": "code",
   "execution_count": 6,
   "metadata": {},
   "outputs": [
    {
     "name": "stdout",
     "output_type": "stream",
     "text": [
      "55.8503600914247\n"
     ]
    },
    {
     "data": {
      "text/plain": [
       "500"
      ]
     },
     "execution_count": 6,
     "metadata": {},
     "output_type": "execute_result"
    }
   ],
   "source": [
    "reg = LinearRegression(fit_intercept=False).fit(X_train, y_train)\n",
    "print(np.sum((y_test-reg.predict(X_test))**2))\n",
    "np.sum(np.sum(np.absolute(reg.coef_)!=0,1))"
   ]
  },
  {
   "cell_type": "markdown",
   "metadata": {},
   "source": [
    "### Ejemplo de REMMAP considerando $\\lambda_2$ = 0."
   ]
  },
  {
   "cell_type": "code",
   "execution_count": 7,
   "metadata": {
    "scrolled": false
   },
   "outputs": [
    {
     "name": "stdout",
     "output_type": "stream",
     "text": [
      "26.473709676976966\n"
     ]
    },
    {
     "data": {
      "text/plain": [
       "40"
      ]
     },
     "execution_count": 7,
     "metadata": {},
     "output_type": "execute_result"
    }
   ],
   "source": [
    "# calculamos B usando REMMAP.\n",
    "B=remMap_l1(matrizX=X_train,matrizY=y_train,l_1=0.1,tmax=10)\n",
    "\n",
    "# imprimimos el error MSE.\n",
    "print(np.sum((y_test-(X_test@B))**2))\n",
    "np.sum(np.sum(B!=0,0))"
   ]
  },
  {
   "cell_type": "markdown",
   "metadata": {},
   "source": [
    "### Ejemplo de REMMAP considerando $\\lambda_2\\neq 0.$"
   ]
  },
  {
   "cell_type": "code",
   "execution_count": 8,
   "metadata": {},
   "outputs": [
    {
     "name": "stdout",
     "output_type": "stream",
     "text": [
      "15.645286006291386\n"
     ]
    },
    {
     "data": {
      "text/plain": [
       "25"
      ]
     },
     "execution_count": 8,
     "metadata": {},
     "output_type": "execute_result"
    }
   ],
   "source": [
    "# calculamos B usando REMMAP.\n",
    "B=remMap(matrizX=X_train,matrizY=y_train,l_1=.000000001,l_2=.1,tmax=40)\n",
    "\n",
    "# imprimimos el error MSE.\n",
    "print(np.sum((y_test-(X_test@B))**2))\n",
    "np.sum(np.sum(B!=0,0))"
   ]
  }
 ],
 "metadata": {
  "kernelspec": {
   "display_name": "Python 3",
   "language": "python",
   "name": "python3"
  },
  "language_info": {
   "codemirror_mode": {
    "name": "ipython",
    "version": 3
   },
   "file_extension": ".py",
   "mimetype": "text/x-python",
   "name": "python",
   "nbconvert_exporter": "python",
   "pygments_lexer": "ipython3",
   "version": "3.7.6"
  }
 },
 "nbformat": 4,
 "nbformat_minor": 4
}
