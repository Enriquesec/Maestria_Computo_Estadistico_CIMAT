{
 "cells": [
  {
   "cell_type": "code",
   "execution_count": 1,
   "metadata": {},
   "outputs": [],
   "source": [
    "import numpy as np\n",
    "import pandas as pd"
   ]
  },
  {
   "cell_type": "code",
   "execution_count": 159,
   "metadata": {},
   "outputs": [],
   "source": [
    "def mrce(X, Y, lambda_1, lambda_2, epsilon):\n",
    "    # initialize B and Gamma (matrix cov)\n",
    "    B_t = np.zeros([X.shape[1], Y.shape[1]])\n",
    "    Gamma_t = graphic_lasso(X, B_t, Y, lambda_1)\n",
    "    Beta_ridge = np.abs(np.linalg.inv(X.T@X+lambda_2*np.diag(np.repeat(1,X.shape[1])))@(X.T@Y))\n",
    "    B_t_new = coordinate_descent(X, Y, B_t, Gamma_t, lambda_2, epsilon)\n",
    "    n = X.shape[1]\n",
    "    k=0\n",
    "    while np.sum(np.abs(B_t_new-B_t))>epsilon*np.sum(Beta_ridge):\n",
    "        k+=1\n",
    "        # print(k)\n",
    "        B_t_new = coordinate_descent(X, Y, B_t, Gamma_t, lambda_2)\n",
    "        Gamma_t = graphic_lasso(X, B_t_new, Y, lambda_1)\n",
    "        #print(np.sum(np.abs(B_t_new-B_t)))\n",
    "        #print(epsilon*np.sum(Beta_ridge))\n",
    "    return B_t_new"
   ]
  },
  {
   "cell_type": "code",
   "execution_count": 160,
   "metadata": {},
   "outputs": [],
   "source": [
    "def eliminar_fila_columna(X, i):\n",
    "    n = X.shape[1]\n",
    "    ind = np.arange(n)\n",
    "    ind_new = ind[ind!=i]\n",
    "    \n",
    "    W = X[ind_new, :][:,ind_new]\n",
    "    w = X[i,ind_new]\n",
    "    w2 = X[i,i]\n",
    "    return W, w, w2\n",
    "\n",
    "\n",
    "def soft_threshold_operator(x, t, lim_sup=0):\n",
    "    return np.sign(x)*np.max([lim_sup,np.abs(x)-t])"
   ]
  },
  {
   "cell_type": "code",
   "execution_count": 161,
   "metadata": {},
   "outputs": [],
   "source": [
    "def coordinate_descent(X, Y, B_t, Gamma_t, lambda_2, epsilon=1e-5):\n",
    "    n, p = X.shape\n",
    "    Beta_ridge = np.abs(np.linalg.inv(X.T@X+lambda_2*np.diag(np.repeat(1,X.shape[1])))@(X.T@Y))\n",
    "    \n",
    "    S = X.T@X\n",
    "    H = X.T@Y@Gamma_t\n",
    "    #print(Gamma_t)\n",
    "    B_t_new = np.copy(B_t)\n",
    "    for r in range(B_t.shape[0]):\n",
    "        for c in range(B_t.shape[1]):\n",
    "            mu = 0\n",
    "            for j in range(B_t.shape[0]):\n",
    "                for k in range(B_t.shape[1]):\n",
    "                    mu += B_t[j,k]*S[r,j]*Gamma_t[k,c]\n",
    "            B_t_new[r,c] = soft_threshold_operator(B_t[r,c]+(H[r,c]-mu)/(S[r,r]*Gamma_t[c,c]), \n",
    "                                                   n*lambda_2/(S[r,r]*Gamma_t[c,c]),0)\n",
    "\n",
    "    while np.sum(np.abs(B_t_new-B_t))>epsilon*np.sum(Beta_ridge):\n",
    "        B_t = B_t_new\n",
    "        for r in range(B_t.shape[0]):\n",
    "            for c in range(B_t.shape[1]):\n",
    "                mu = 0\n",
    "                for j in range(B_t.shape[0]):\n",
    "                    for k in range(B_t.shape[1]):\n",
    "                        mu += B_t[j,k]*S[r,j]*Gamma_t[k,c]\n",
    "                B_t_new[r,c] = B_t_new[r,c] = soft_threshold_operator(B_t[r,c]+(H[r,c]-mu)/(S[r,r]*Gamma_t[c,c]), \n",
    "                                                   n*lambda_2/(S[r,r]*Gamma_t[c,c]))\n",
    "    return B_t_new\n",
    "\n",
    "def graphic_lasso(X, B, Y, lambda_2, tol_sigma=1e-3, tol_beta=1e-3, max_iter=100):\n",
    "    n, p = (Y-X@B).shape\n",
    "    S = (Y-X@B).T@(Y-X@B)/n\n",
    "    #S_datos = X.T@X\n",
    "    Sigma = np.linalg.inv(S)\n",
    "    Sigma_pre = np.zeros(Sigma.shape)\n",
    "    Sigma_inv = np.copy(Sigma)\n",
    "    count = 0\n",
    "    while np.linalg.norm(Sigma - Sigma_pre) <= tol_sigma:\n",
    "        Sigma_pre = np.copy(Sigma)\n",
    "        for i in range(p):\n",
    "            W, w, w2  = eliminar_fila_columna(Sigma_inv, i)\n",
    "            _, s, s_ii = eliminar_fila_columna(S, i)\n",
    "            \n",
    "            beta = np.linalg.inv(W)@w\n",
    "            beta_prev = np.zeros((p-1,1))\n",
    "            while np.linalg.norm(beta - beta_prev) <= tol_beta:\n",
    "                beta_prev = np.copy(beta)\n",
    "                for j in range(p-1):\n",
    "                    W_k = W[j, np.arange(p -1) != j][:,np.newaxis]\n",
    "                    beta_k = beta[np.arange(p -1)!= j]\n",
    "                    beta[j] = soft_threshold_operator(s[j]-W_k.T@beta_k, lambda_2)/W[j,j]\n",
    "                    #print(np.linalg.norm(beta - beta_prev))\n",
    "            ind = np.arange(p)\n",
    "            ind_new = ind[ind!=i]\n",
    "            #print(beta)\n",
    "            w = W@beta\n",
    "            w2 = s_ii+lambda_2\n",
    "            Sigma_inv[i,ind_new] = w.T\n",
    "            Sigma_inv[ind_new, i] = w.T\n",
    "            Sigma_inv[i,i] = w2\n",
    "            \n",
    "\n",
    "            theta22 = 1.0 /(w2-w.T@beta)\n",
    "            theta12 = -beta*theta22\n",
    "            # print(theta12)\n",
    "            \n",
    "            \n",
    "        count += 1\n",
    "        if count>= max_iter:\n",
    "            print(\"Maximo iteraciones\")\n",
    "            break\n",
    "    Sigma = np.linalg.inv(Sigma_inv)\n",
    "\n",
    "    return Sigma\n",
    "    "
   ]
  },
  {
   "cell_type": "code",
   "execution_count": 162,
   "metadata": {
    "scrolled": true
   },
   "outputs": [
    {
     "data": {
      "text/plain": [
       "array([[ 8.44603176e+01, -9.13548495e+01, -5.77989411e+01,\n",
       "        -6.97990239e+01,  4.37261727e+01],\n",
       "       [ 1.82504973e+02, -5.23032331e+01, -2.59590314e+01,\n",
       "         8.47965882e+00,  8.29518766e+00],\n",
       "       [-2.04015770e+01,  4.72709965e+01,  2.09042842e+00,\n",
       "         5.96384613e+01, -8.93615966e+00],\n",
       "       [ 4.12438311e+01,  9.79200405e+00, -2.13221513e+01,\n",
       "         3.49116507e+01,  1.21356625e+01],\n",
       "       [-1.88188593e+02,  7.89651739e+01,  3.90837490e+01,\n",
       "         1.13991240e+02, -2.59325842e+01],\n",
       "       [-3.09424623e+02,  1.13890833e+02,  7.17843351e+01,\n",
       "         2.34405567e+02, -6.81499051e+01],\n",
       "       [ 7.41044127e+00, -4.77909110e+00,  1.38032979e+01,\n",
       "        -6.92552033e+00, -9.63334297e+00],\n",
       "       [ 3.76617973e+01, -3.26997103e+01, -5.91899584e+01,\n",
       "         2.35597139e+01,  3.17177369e+01],\n",
       "       [ 7.61894188e+01, -1.92650378e+01,  1.26451658e+00,\n",
       "        -4.25202699e+01,  1.11598590e+01],\n",
       "       [ 4.86206451e+00, -1.52242335e+01,  1.32160727e+01,\n",
       "        -2.83703919e+01, -1.80282721e+01],\n",
       "       [-3.39074103e+01,  2.46902824e+01,  1.20764324e+01,\n",
       "         4.74045041e+01, -4.02723138e+00],\n",
       "       [ 1.59919127e+02, -3.38539811e+01,  4.35411992e+01,\n",
       "        -9.76956512e+01, -2.70078912e+01],\n",
       "       [ 3.57746441e+01,  8.20568921e+00,  1.69560258e+01,\n",
       "         4.72128095e+01, -5.05815759e+00],\n",
       "       [ 4.65890817e+01, -1.33357425e+01,  2.27891737e+00,\n",
       "        -3.42400123e+01,  5.29628172e+00],\n",
       "       [ 1.85032024e+01, -2.81370416e+01, -1.59086763e+01,\n",
       "        -7.50329889e+01,  3.57691204e+00],\n",
       "       [ 1.01994335e+02, -2.40104864e+01, -4.42796521e+01,\n",
       "         7.21060295e+01,  3.55626032e+01],\n",
       "       [-6.31763318e+01,  3.43263867e+01,  3.27675831e+01,\n",
       "         2.00269840e+01, -2.86904631e+01],\n",
       "       [ 2.59276375e+00, -1.01293498e+01,  3.57728908e+00,\n",
       "         2.83406830e+00, -2.58770641e+00],\n",
       "       [ 1.04071305e+01,  8.61778419e-03,  7.22523234e-01,\n",
       "         2.04028935e+01,  8.33278165e+00],\n",
       "       [ 3.34388120e+01, -5.28626240e+00,  2.35120506e+00,\n",
       "         5.57093048e+00,  1.19570975e+01]])"
      ]
     },
     "execution_count": 162,
     "metadata": {},
     "output_type": "execute_result"
    }
   ],
   "source": [
    "from sklearn.datasets import make_regression\n",
    "X,Y=make_regression(n_samples=100,n_features=20, n_targets=5,effective_rank=2,random_state=10)\n",
    "#X_estandarizado=estandarizar.fit_transform(X)\n",
    "#X=X_estandarizado\n",
    "B_t = np.zeros([X.shape[1], Y.shape[1]])\n",
    "\n",
    "mrce(X, Y, .002, 0.01, 2)"
   ]
  },
  {
   "cell_type": "code",
   "execution_count": 6,
   "metadata": {},
   "outputs": [],
   "source": [
    "from sklearn.preprocessing import StandardScaler\n",
    "from sklearn.covariance import GraphicalLasso\n"
   ]
  },
  {
   "cell_type": "code",
   "execution_count": 82,
   "metadata": {},
   "outputs": [],
   "source": [
    "X_new = (Y-X@B_t)"
   ]
  },
  {
   "cell_type": "code",
   "execution_count": 125,
   "metadata": {},
   "outputs": [],
   "source": [
    "true_cov = np.array([[0.8, 0.0, 0.2, 0.0],\n",
    "                      [0.0, 0.4, 0.0, 0.0],\n",
    "                      [0.2, 0.0, 0.3, 0.1],\n",
    "                      [0.0, 0.0, 0.1, 0.7]])\n",
    "np.random.seed(0)\n",
    "X = np.random.multivariate_normal(mean=[0, 0, 0, 0],\n",
    "                                   cov=true_cov,\n",
    "                                   size=200) \n",
    "cov = GraphicalLasso(alpha=0.01,mode=\"cd\").fit(X)"
   ]
  },
  {
   "cell_type": "code",
   "execution_count": 126,
   "metadata": {},
   "outputs": [
    {
     "data": {
      "text/plain": [
       "array([[0.816, 0.049, 0.218, 0.019],\n",
       "       [0.049, 0.364, 0.017, 0.034],\n",
       "       [0.218, 0.017, 0.322, 0.093],\n",
       "       [0.019, 0.034, 0.093, 0.69 ]])"
      ]
     },
     "execution_count": 126,
     "metadata": {},
     "output_type": "execute_result"
    }
   ],
   "source": [
    "np.around(cov.covariance_, decimals=3)"
   ]
  },
  {
   "cell_type": "code",
   "execution_count": 59,
   "metadata": {
    "scrolled": true
   },
   "outputs": [
    {
     "data": {
      "text/plain": [
       "(200, 4)"
      ]
     },
     "execution_count": 59,
     "metadata": {},
     "output_type": "execute_result"
    }
   ],
   "source": [
    "X.shape"
   ]
  },
  {
   "cell_type": "code",
   "execution_count": 56,
   "metadata": {},
   "outputs": [
    {
     "data": {
      "text/plain": [
       "(20, 5)"
      ]
     },
     "execution_count": 56,
     "metadata": {},
     "output_type": "execute_result"
    }
   ],
   "source": [
    "B_t.shape"
   ]
  },
  {
   "cell_type": "code",
   "execution_count": 57,
   "metadata": {},
   "outputs": [
    {
     "data": {
      "text/plain": [
       "(100, 5)"
      ]
     },
     "execution_count": 57,
     "metadata": {},
     "output_type": "execute_result"
    }
   ],
   "source": [
    "Y.shape"
   ]
  },
  {
   "cell_type": "code",
   "execution_count": 127,
   "metadata": {},
   "outputs": [
    {
     "name": "stdout",
     "output_type": "stream",
     "text": [
      "[[[ 0.821  0.062  0.231  0.02 ]\n",
      "  [ 0.062  0.366  0.027  0.05 ]\n",
      "  [ 0.231  0.027  0.324  0.108]\n",
      "  [ 0.02   0.05   0.108  0.711]]\n",
      "\n",
      " [[ 1.55  -0.198 -1.138  0.144]\n",
      "  [-0.198  2.795 -0.029 -0.186]\n",
      "  [-1.138 -0.029  4.102 -0.59 ]\n",
      "  [ 0.144 -0.186 -0.59   1.505]]]\n"
     ]
    }
   ],
   "source": [
    "sigma = graphic_lasso(-X, np.diag(np.repeat(1,4)), np.zeros([200,4]), 0.01)\n",
    "print(np.around(sigma, decimals=3))"
   ]
  },
  {
   "cell_type": "code",
   "execution_count": 128,
   "metadata": {},
   "outputs": [
    {
     "name": "stdout",
     "output_type": "stream",
     "text": [
      "[[[ 1.5 -0.2 -1.   0.1]\n",
      "  [-0.2  2.7 -0.  -0.1]\n",
      "  [-1.  -0.   3.8 -0.5]\n",
      "  [ 0.1 -0.1 -0.5  1.5]]\n",
      "\n",
      " [[ 0.8  0.1  0.2  0. ]\n",
      "  [ 0.1  0.4  0.   0. ]\n",
      "  [ 0.2  0.   0.3  0.1]\n",
      "  [ 0.   0.   0.1  0.7]]]\n"
     ]
    }
   ],
   "source": [
    "sigma = graphic_lasso2(X, 0.01)\n",
    "print(np.around(sigma, decimals=1))"
   ]
  },
  {
   "cell_type": "code",
   "execution_count": null,
   "metadata": {},
   "outputs": [],
   "source": []
  },
  {
   "cell_type": "code",
   "execution_count": null,
   "metadata": {},
   "outputs": [],
   "source": []
  },
  {
   "cell_type": "code",
   "execution_count": null,
   "metadata": {},
   "outputs": [],
   "source": []
  }
 ],
 "metadata": {
  "kernelspec": {
   "display_name": "Python 3",
   "language": "python",
   "name": "python3"
  },
  "language_info": {
   "codemirror_mode": {
    "name": "ipython",
    "version": 3
   },
   "file_extension": ".py",
   "mimetype": "text/x-python",
   "name": "python",
   "nbconvert_exporter": "python",
   "pygments_lexer": "ipython3",
   "version": "3.7.6"
  }
 },
 "nbformat": 4,
 "nbformat_minor": 4
}
