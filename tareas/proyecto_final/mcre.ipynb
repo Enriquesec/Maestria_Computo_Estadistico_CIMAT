{
 "cells": [
  {
   "cell_type": "code",
   "execution_count": 1,
   "metadata": {},
   "outputs": [],
   "source": [
    "import numpy as np\n",
    "import pandas as pd\n",
    "from sklearn.preprocessing import StandardScaler\n",
    "from sklearn.covariance import GraphicalLasso\n",
    "from sklearn.linear_model import LinearRegression, Lasso"
   ]
  },
  {
   "cell_type": "code",
   "execution_count": 300,
   "metadata": {},
   "outputs": [],
   "source": [
    "def mrce(X, Y, lambda_1, lambda_2, epsilon, max_iter=1000):\n",
    "    # initialize B and Gamma (matrix cov)\n",
    "    B_t = np.zeros([X.shape[1], Y.shape[1]])\n",
    "    Gamma_t = graphic_lasso(X, Y, B_t, lambda_1)\n",
    "    #X_new = Y-X@B_t\n",
    "    #Gamma_t= np.linalg.inv(GraphicalLasso(alpha=lambda_1, mode=\"cd\", max_iter=1000).fit(X_new).covariance_)\n",
    "    Beta_ridge = np.abs(np.linalg.pinv(X.T@X+lambda_2*np.identity(X.shape[1]))@(X.T@Y))\n",
    "    B_t_new = coordinate_descent(X, Y, B_t, Gamma_t, lambda_2, epsilon)\n",
    "    n = X.shape[1]\n",
    "    k=0\n",
    "    while (np.linalg.norm(B_t_new-B_t)>(epsilon*np.sum(Beta_ridge))) & (k<max_iter):\n",
    "        k+=1\n",
    "        B_t = np.copy(B_t_new)\n",
    "        B_t_new = coordinate_descent(X, Y, B_t, Gamma_t, lambda_2)\n",
    "        Gamma_t = graphic_lasso(X, Y, B_t_new, lambda_1)\n",
    "        #X_new = Y-X@B_t_new\n",
    "        #Gamma_t= np.linalg.inv(GraphicalLasso(alpha=lambda_1 ,mode=\"cd\", max_iter=1000).fit(X_new).covariance_)\n",
    "\n",
    "        if k%1000==0:\n",
    "            print(k)\n",
    "    return B_t_new"
   ]
  },
  {
   "cell_type": "code",
   "execution_count": 60,
   "metadata": {},
   "outputs": [],
   "source": [
    "def submatriz_i(X, i):\n",
    "    n = X.shape[1]\n",
    "    W = X[np.arange(n)!=i, :][:,np.arange(n)!=i]\n",
    "    w = X[i,np.arange(n)!=i]\n",
    "    w2 = X[i,i]\n",
    "    return W, w, w2\n",
    "\n",
    "\n",
    "def soft_threshold_operator(x, t, lim_sup=0):\n",
    "    return np.sign(x)*np.max([lim_sup,np.abs(x)-t])"
   ]
  },
  {
   "cell_type": "code",
   "execution_count": 323,
   "metadata": {},
   "outputs": [],
   "source": [
    "def coordinate_descent(X, Y, B_t, Gamma_t, lambda_2, epsilon=1e-5):\n",
    "    n, p = X.shape\n",
    "    Beta_ridge = np.abs(np.linalg.pinv(X.T@X+lambda_2*np.identity(X.shape[1]))@(X.T@Y))\n",
    "    \n",
    "    S = X.T@X\n",
    "    H = X.T@Y@Gamma_t\n",
    "    B_t_new = np.copy(B_t)\n",
    "    for r in range(B_t.shape[0]):\n",
    "        for c in range(B_t.shape[1]):\n",
    "            mu = 0\n",
    "            for j in range(B_t.shape[0]):\n",
    "                for k in range(B_t.shape[1]):\n",
    "                    mu += B_t[j,k]*S[r,j]*Gamma_t[k,c]\n",
    "            B_t_new[r,c] = soft_threshold_operator(B_t[r,c]+(H[r,c]-mu)/(S[r,r]*Gamma_t[c,c]), \n",
    "                                                   n*lambda_2/(S[r,r]*Gamma_t[c,c]),0)\n",
    "\n",
    "    while np.linalg.norm(B_t_new-B_t)>(epsilon*np.sum(Beta_ridge)):\n",
    "        B_t = B_t_new\n",
    "        for r in range(B_t.shape[0]):\n",
    "            for c in range(B_t.shape[1]):\n",
    "                mu = 0\n",
    "                for j in range(B_t.shape[0]):\n",
    "                    for k in range(B_t.shape[1]):\n",
    "                        mu += B_t[j,k]*S[r,j]*Gamma_t[k,c]\n",
    "                B_t_new[r,c] = B_t_new[r,c] = soft_threshold_operator(B_t[r,c]+(H[r,c]-mu)/(S[r,r]*Gamma_t[c,c]), \n",
    "                                                   n*lambda_2/(S[r,r]*Gamma_t[c,c]))\n",
    "    return B_t_new\n",
    "\n",
    "def graphic_lasso(X, Y, B, lambda_1, tol_sigma=1e-10, tol_beta=1e-10, max_iter=1000):\n",
    "    n, p = (Y-X@B).shape\n",
    "    S = (Y-X@B).T@(Y-X@B)/n\n",
    "    Sigma = np.linalg.inv(S)\n",
    "    Sigma_pre = np.zeros(Sigma.shape)\n",
    "    Sigma_inv = np.copy(Sigma)\n",
    "    if lambda_1 == 0:\n",
    "        return S\n",
    "    else:\n",
    "        count = 0\n",
    "        while np.linalg.norm(Sigma - Sigma_pre) >= tol_sigma:\n",
    "            Sigma_pre = np.copy(Sigma)\n",
    "            for i in range(p):\n",
    "                W, w, w2  = submatriz_i(Sigma_inv, i)\n",
    "                _, s, s_ii = submatriz_i(S, i)\n",
    "\n",
    "                beta = np.linalg.inv(W)@w\n",
    "                beta_prev = np.zeros((p-1,1))\n",
    "                while np.linalg.norm(beta - beta_prev) >= tol_beta:\n",
    "                    beta_prev = np.copy(beta)\n",
    "                    for j in range(p-1):\n",
    "                        W_k = W[j, np.arange(p -1) != j][:,np.newaxis]\n",
    "                        beta_k = beta[np.arange(p -1)!= j]\n",
    "                        #print(W_k)\n",
    "                        #print(beta_k)\n",
    "                        beta[j] = soft_threshold_operator(s[j]-W_k.T@beta_k, lambda_1)/W[j,j]\n",
    "                #print(beta)\n",
    "                w = W@beta\n",
    "                w2 = s_ii+lambda_1\n",
    "                Sigma_inv[i,np.arange(p)!=i] = w.T\n",
    "                Sigma_inv[np.arange(p)!=i, i] = w.T\n",
    "                Sigma_inv[i,i] = w2\n",
    "\n",
    "                theta22 = 1.0 /(w2-w.T@beta)\n",
    "                theta12 = -beta*theta22            \n",
    "\n",
    "            count += 1\n",
    "            if count>= max_iter:\n",
    "                return np.linalg.inv(Sigma_inv)\n",
    "        return np.linalg.inv(Sigma_inv)\n",
    "    "
   ]
  },
  {
   "cell_type": "code",
   "execution_count": 356,
   "metadata": {
    "scrolled": true
   },
   "outputs": [
    {
     "name": "stderr",
     "output_type": "stream",
     "text": [
      "/home/enrique/anaconda3/lib/python3.7/site-packages/numpy/core/fromnumeric.py:87: VisibleDeprecationWarning: Creating an ndarray from ragged nested sequences (which is a list-or-tuple of lists-or-tuples-or ndarrays with different lengths or shapes) is deprecated. If you meant to do this, you must specify 'dtype=object' when creating the ndarray\n",
      "  return ufunc.reduce(obj, axis, dtype, out, **passkwargs)\n"
     ]
    },
    {
     "name": "stdout",
     "output_type": "stream",
     "text": [
      "1000\n",
      "179.5337801322157\n"
     ]
    }
   ],
   "source": [
    "from sklearn.datasets import make_regression\n",
    "from sklearn.model_selection import train_test_split\n",
    "\n",
    "X, Y = make_regression(n_samples=100, n_features=20, n_targets=2, n_informative=4, random_state=6)\n",
    "X_train, X_test, Y_train, Y_test = train_test_split(X, Y, train_size=0.5, random_state=6)\n",
    "std = StandardScaler()\n",
    "X_train = std.fit_transform(X_train)\n",
    "B_t = np.zeros([X_train.shape[1], Y_train.shape[1]])\n",
    "B_t = mrce(X=X_train, Y=Y_train, lambda_1=0.01, lambda_2=0.01, epsilon=1e-10)\n",
    "print(np.sum(np.abs(Y_test-std.transform(X_test)@B_t)**2)/(100*20))"
   ]
  },
  {
   "cell_type": "code",
   "execution_count": 357,
   "metadata": {},
   "outputs": [
    {
     "data": {
      "text/plain": [
       "array([[  5.4,  56.9],\n",
       "       [  5.4,  30.8],\n",
       "       [ -6.7, -38.1],\n",
       "       [ -8.3, -47.4],\n",
       "       [ 56.5,   0. ],\n",
       "       [ -2.1, -12.1],\n",
       "       [  0. ,  -0. ],\n",
       "       [  0.4,   2.4],\n",
       "       [ -0. ,   0. ],\n",
       "       [  1.4,   8.1],\n",
       "       [ -0. ,   0. ],\n",
       "       [  0.4,   2.1],\n",
       "       [  0.1,   0.8],\n",
       "       [ -0. ,   0. ],\n",
       "       [  6.5,  -5.9],\n",
       "       [ -0. ,  -0. ],\n",
       "       [ 26.3,   0. ],\n",
       "       [ -0. ,   0. ],\n",
       "       [ -0. ,  -0. ],\n",
       "       [  0. ,   0. ]])"
      ]
     },
     "execution_count": 357,
     "metadata": {},
     "output_type": "execute_result"
    }
   ],
   "source": [
    "np.round(B_t,1)"
   ]
  },
  {
   "cell_type": "code",
   "execution_count": 333,
   "metadata": {},
   "outputs": [
    {
     "name": "stdout",
     "output_type": "stream",
     "text": [
      "7.431199128945924\n"
     ]
    }
   ],
   "source": [
    "reg = Lasso(alpha=1, fit_intercept=False)\n",
    "B_lasso = np.zeros([X_train.shape[1],Y_train.shape[1]])\n",
    "for i in range(Y.shape[1]):\n",
    "    y = Y_train[:,i]\n",
    "    reg.fit(X_train, y)\n",
    "    B_lasso[:,i] = reg.coef_\n",
    "    \n",
    "print(np.sum(np.abs(Y_test-std.transform(X_test)@B_lasso)**2)/(100*20))"
   ]
  },
  {
   "cell_type": "code",
   "execution_count": 334,
   "metadata": {},
   "outputs": [
    {
     "data": {
      "text/plain": [
       "array([[ 7.5, 75.4],\n",
       "       [-0. , -0. ],\n",
       "       [ 0. ,  0. ],\n",
       "       [ 0. ,  0. ],\n",
       "       [58. , 13.3],\n",
       "       [ 0. ,  0. ],\n",
       "       [-0. , -0. ],\n",
       "       [ 0. ,  0. ],\n",
       "       [ 0. ,  0. ],\n",
       "       [-0. , -0. ],\n",
       "       [ 0. ,  0. ],\n",
       "       [-0. , -0. ],\n",
       "       [-0. , -0. ],\n",
       "       [ 0. ,  0. ],\n",
       "       [13.3, 40.2],\n",
       "       [-0.1, -0.1],\n",
       "       [29.4, 26. ],\n",
       "       [-0. , -0. ],\n",
       "       [-0. , -0. ],\n",
       "       [ 0. ,  0. ]])"
      ]
     },
     "execution_count": 334,
     "metadata": {},
     "output_type": "execute_result"
    }
   ],
   "source": [
    "np.round(B_lasso,1)"
   ]
  },
  {
   "cell_type": "code",
   "execution_count": 88,
   "metadata": {},
   "outputs": [
    {
     "data": {
      "text/plain": [
       "array([7, 7])"
      ]
     },
     "execution_count": 88,
     "metadata": {},
     "output_type": "execute_result"
    }
   ],
   "source": [
    "np.sum(B_lasso==0, 0)"
   ]
  },
  {
   "cell_type": "code",
   "execution_count": 7,
   "metadata": {},
   "outputs": [],
   "source": [
    "?GraphicalLasso"
   ]
  },
  {
   "cell_type": "code",
   "execution_count": 250,
   "metadata": {},
   "outputs": [
    {
     "name": "stderr",
     "output_type": "stream",
     "text": [
      "/home/enrique/anaconda3/lib/python3.7/site-packages/numpy/core/fromnumeric.py:87: VisibleDeprecationWarning: Creating an ndarray from ragged nested sequences (which is a list-or-tuple of lists-or-tuples-or ndarrays with different lengths or shapes) is deprecated. If you meant to do this, you must specify 'dtype=object' when creating the ndarray\n",
      "  return ufunc.reduce(obj, axis, dtype, out, **passkwargs)\n"
     ]
    },
    {
     "name": "stdout",
     "output_type": "stream",
     "text": [
      "[[ 7.43093377 -3.71181475 -6.7655532   2.25950839]\n",
      " [-3.71181475  3.27113417  2.48507913 -1.53655418]\n",
      " [-6.7655532   2.48507913 10.66675972 -4.72081777]\n",
      " [ 2.25950839 -1.53655418 -4.72081777  3.70979879]]\n",
      "[[ 7.64972635 -3.56830393 -7.56229763  2.5484514 ]\n",
      " [-3.56830393  3.11628494  2.5727636  -1.59304485]\n",
      " [-7.56229763  2.5727636  12.367688   -5.38834367]\n",
      " [ 2.5484514  -1.59304485 -5.38834367  4.04816329]]\n",
      "Correct\n",
      "[[ 9.39256689 -4.76548447  3.21338846 -8.95107297]\n",
      " [-4.76548447  9.34427402 -7.67736351  4.93529297]\n",
      " [ 3.21338846 -7.67736351  8.16159053 -4.94323714]\n",
      " [-8.95107297  4.93529297 -4.94323714 11.30543454]]\n",
      "[[10.3023911  -4.35380109  2.62979858 -9.77120027]\n",
      " [-4.35380109  9.96644071 -8.22433318  4.66135284]\n",
      " [ 2.62979858 -8.22433318  8.791729   -4.5912356 ]\n",
      " [-9.77120027  4.66135284 -4.5912356  12.1669895 ]]\n",
      "Correct\n"
     ]
    },
    {
     "name": "stderr",
     "output_type": "stream",
     "text": [
      "/home/enrique/anaconda3/lib/python3.7/site-packages/numpy/core/fromnumeric.py:87: VisibleDeprecationWarning: Creating an ndarray from ragged nested sequences (which is a list-or-tuple of lists-or-tuples-or ndarrays with different lengths or shapes) is deprecated. If you meant to do this, you must specify 'dtype=object' when creating the ndarray\n",
      "  return ufunc.reduce(obj, axis, dtype, out, **passkwargs)\n",
      "/home/enrique/anaconda3/lib/python3.7/site-packages/sklearn/covariance/_graph_lasso.py:269: ConvergenceWarning: graphical_lasso: did not converge after 10000 iteration: dual gap: 3.162e-02\n",
      "  % (max_iter, d_gap), ConvergenceWarning)\n",
      "/home/enrique/anaconda3/lib/python3.7/site-packages/numpy/core/fromnumeric.py:87: VisibleDeprecationWarning: Creating an ndarray from ragged nested sequences (which is a list-or-tuple of lists-or-tuples-or ndarrays with different lengths or shapes) is deprecated. If you meant to do this, you must specify 'dtype=object' when creating the ndarray\n",
      "  return ufunc.reduce(obj, axis, dtype, out, **passkwargs)\n"
     ]
    },
    {
     "name": "stdout",
     "output_type": "stream",
     "text": [
      "[[  3.52938812  -0.06187245   1.99754268  -4.93361819]\n",
      " [ -0.06187245   6.49006997   2.58076393  -8.88365313]\n",
      " [  1.99754268   2.58076393  10.80673118 -16.45483465]\n",
      " [ -4.93361819  -8.88365313 -16.45483465  31.72587951]]\n",
      "[[ 3.68411704e+00  2.29120714e-02  2.17397283e+00 -5.38182115e+00]\n",
      " [ 2.29120714e-02  7.17070595e+00  2.89655263e+00 -1.00141786e+01]\n",
      " [ 2.17397283e+00  2.89655263e+00  1.32994049e+01 -1.99226107e+01]\n",
      " [-5.38182115e+00 -1.00141786e+01 -1.99226107e+01  3.74205126e+01]]\n",
      "Correct\n"
     ]
    },
    {
     "ename": "KeyboardInterrupt",
     "evalue": "",
     "output_type": "error",
     "traceback": [
      "\u001b[0;31m--------------------------------------------------------\u001b[0m",
      "\u001b[0;31mKeyboardInterrupt\u001b[0m      Traceback (most recent call last)",
      "\u001b[0;32m<ipython-input-250-69bb9632c200>\u001b[0m in \u001b[0;36m<module>\u001b[0;34m\u001b[0m\n\u001b[1;32m      5\u001b[0m     \u001b[0mX\u001b[0m \u001b[0;34m=\u001b[0m \u001b[0mnp\u001b[0m\u001b[0;34m.\u001b[0m\u001b[0mrandom\u001b[0m\u001b[0;34m.\u001b[0m\u001b[0mmultivariate_normal\u001b[0m\u001b[0;34m(\u001b[0m\u001b[0mmean\u001b[0m\u001b[0;34m=\u001b[0m\u001b[0;34m[\u001b[0m\u001b[0;36m0\u001b[0m\u001b[0;34m,\u001b[0m \u001b[0;36m0\u001b[0m\u001b[0;34m,\u001b[0m \u001b[0;36m0\u001b[0m\u001b[0;34m,\u001b[0m \u001b[0;36m0\u001b[0m\u001b[0;34m]\u001b[0m\u001b[0;34m,\u001b[0m \u001b[0mcov\u001b[0m\u001b[0;34m=\u001b[0m\u001b[0mtrue_cov\u001b[0m\u001b[0;34m,\u001b[0m \u001b[0msize\u001b[0m\u001b[0;34m=\u001b[0m\u001b[0;36m100\u001b[0m\u001b[0;34m)\u001b[0m\u001b[0;34m\u001b[0m\u001b[0;34m\u001b[0m\u001b[0m\n\u001b[1;32m      6\u001b[0m \u001b[0;34m\u001b[0m\u001b[0m\n\u001b[0;32m----> 7\u001b[0;31m     \u001b[0mcov\u001b[0m \u001b[0;34m=\u001b[0m \u001b[0mGraphicalLasso\u001b[0m\u001b[0;34m(\u001b[0m\u001b[0malpha\u001b[0m\u001b[0;34m=\u001b[0m\u001b[0;36m0.01\u001b[0m\u001b[0;34m,\u001b[0m\u001b[0mmode\u001b[0m\u001b[0;34m=\u001b[0m\u001b[0;34m\"cd\"\u001b[0m\u001b[0;34m,\u001b[0m \u001b[0mmax_iter\u001b[0m\u001b[0;34m=\u001b[0m\u001b[0;36m10000\u001b[0m\u001b[0;34m)\u001b[0m\u001b[0;34m.\u001b[0m\u001b[0mfit\u001b[0m\u001b[0;34m(\u001b[0m\u001b[0mX\u001b[0m\u001b[0;34m)\u001b[0m\u001b[0;34m\u001b[0m\u001b[0;34m\u001b[0m\u001b[0m\n\u001b[0m\u001b[1;32m      8\u001b[0m     \u001b[0msigma\u001b[0m \u001b[0;34m=\u001b[0m \u001b[0mgraphic_lasso\u001b[0m\u001b[0;34m(\u001b[0m\u001b[0;34m-\u001b[0m\u001b[0mX\u001b[0m\u001b[0;34m,\u001b[0m  \u001b[0mnp\u001b[0m\u001b[0;34m.\u001b[0m\u001b[0mzeros\u001b[0m\u001b[0;34m(\u001b[0m\u001b[0;34m[\u001b[0m\u001b[0;36m100\u001b[0m\u001b[0;34m,\u001b[0m\u001b[0;36m4\u001b[0m\u001b[0;34m]\u001b[0m\u001b[0;34m)\u001b[0m\u001b[0;34m,\u001b[0m \u001b[0mnp\u001b[0m\u001b[0;34m.\u001b[0m\u001b[0midentity\u001b[0m\u001b[0;34m(\u001b[0m\u001b[0;36m4\u001b[0m\u001b[0;34m)\u001b[0m\u001b[0;34m,\u001b[0m\u001b[0;36m0.01\u001b[0m\u001b[0;34m)\u001b[0m\u001b[0;34m\u001b[0m\u001b[0;34m\u001b[0m\u001b[0m\n\u001b[1;32m      9\u001b[0m     \u001b[0merror\u001b[0m \u001b[0;34m=\u001b[0m  \u001b[0;34m(\u001b[0m\u001b[0mnp\u001b[0m\u001b[0;34m.\u001b[0m\u001b[0msum\u001b[0m\u001b[0;34m(\u001b[0m\u001b[0mnp\u001b[0m\u001b[0;34m.\u001b[0m\u001b[0mlinalg\u001b[0m\u001b[0;34m.\u001b[0m\u001b[0minv\u001b[0m\u001b[0;34m(\u001b[0m\u001b[0mcov\u001b[0m\u001b[0;34m.\u001b[0m\u001b[0mcovariance_\u001b[0m\u001b[0;34m)\u001b[0m\u001b[0;34m-\u001b[0m\u001b[0msigma\u001b[0m\u001b[0;34m)\u001b[0m\u001b[0;34m)\u001b[0m\u001b[0;34m\u001b[0m\u001b[0;34m\u001b[0m\u001b[0m\n",
      "\u001b[0;32m~/anaconda3/lib/python3.7/site-packages/sklearn/covariance/_graph_lasso.py\u001b[0m in \u001b[0;36mfit\u001b[0;34m(self, X, y)\u001b[0m\n\u001b[1;32m    406\u001b[0m             \u001b[0memp_cov\u001b[0m\u001b[0;34m,\u001b[0m \u001b[0malpha\u001b[0m\u001b[0;34m=\u001b[0m\u001b[0mself\u001b[0m\u001b[0;34m.\u001b[0m\u001b[0malpha\u001b[0m\u001b[0;34m,\u001b[0m \u001b[0mmode\u001b[0m\u001b[0;34m=\u001b[0m\u001b[0mself\u001b[0m\u001b[0;34m.\u001b[0m\u001b[0mmode\u001b[0m\u001b[0;34m,\u001b[0m \u001b[0mtol\u001b[0m\u001b[0;34m=\u001b[0m\u001b[0mself\u001b[0m\u001b[0;34m.\u001b[0m\u001b[0mtol\u001b[0m\u001b[0;34m,\u001b[0m\u001b[0;34m\u001b[0m\u001b[0;34m\u001b[0m\u001b[0m\n\u001b[1;32m    407\u001b[0m             \u001b[0menet_tol\u001b[0m\u001b[0;34m=\u001b[0m\u001b[0mself\u001b[0m\u001b[0;34m.\u001b[0m\u001b[0menet_tol\u001b[0m\u001b[0;34m,\u001b[0m \u001b[0mmax_iter\u001b[0m\u001b[0;34m=\u001b[0m\u001b[0mself\u001b[0m\u001b[0;34m.\u001b[0m\u001b[0mmax_iter\u001b[0m\u001b[0;34m,\u001b[0m\u001b[0;34m\u001b[0m\u001b[0;34m\u001b[0m\u001b[0m\n\u001b[0;32m--> 408\u001b[0;31m             verbose=self.verbose, return_n_iter=True)\n\u001b[0m\u001b[1;32m    409\u001b[0m         \u001b[0;32mreturn\u001b[0m \u001b[0mself\u001b[0m\u001b[0;34m\u001b[0m\u001b[0;34m\u001b[0m\u001b[0m\n\u001b[1;32m    410\u001b[0m \u001b[0;34m\u001b[0m\u001b[0m\n",
      "\u001b[0;32m~/anaconda3/lib/python3.7/site-packages/sklearn/utils/validation.py\u001b[0m in \u001b[0;36minner_f\u001b[0;34m(*args, **kwargs)\u001b[0m\n\u001b[1;32m     61\u001b[0m             \u001b[0mextra_args\u001b[0m \u001b[0;34m=\u001b[0m \u001b[0mlen\u001b[0m\u001b[0;34m(\u001b[0m\u001b[0margs\u001b[0m\u001b[0;34m)\u001b[0m \u001b[0;34m-\u001b[0m \u001b[0mlen\u001b[0m\u001b[0;34m(\u001b[0m\u001b[0mall_args\u001b[0m\u001b[0;34m)\u001b[0m\u001b[0;34m\u001b[0m\u001b[0;34m\u001b[0m\u001b[0m\n\u001b[1;32m     62\u001b[0m             \u001b[0;32mif\u001b[0m \u001b[0mextra_args\u001b[0m \u001b[0;34m<=\u001b[0m \u001b[0;36m0\u001b[0m\u001b[0;34m:\u001b[0m\u001b[0;34m\u001b[0m\u001b[0;34m\u001b[0m\u001b[0m\n\u001b[0;32m---> 63\u001b[0;31m                 \u001b[0;32mreturn\u001b[0m \u001b[0mf\u001b[0m\u001b[0;34m(\u001b[0m\u001b[0;34m*\u001b[0m\u001b[0margs\u001b[0m\u001b[0;34m,\u001b[0m \u001b[0;34m**\u001b[0m\u001b[0mkwargs\u001b[0m\u001b[0;34m)\u001b[0m\u001b[0;34m\u001b[0m\u001b[0;34m\u001b[0m\u001b[0m\n\u001b[0m\u001b[1;32m     64\u001b[0m \u001b[0;34m\u001b[0m\u001b[0m\n\u001b[1;32m     65\u001b[0m             \u001b[0;31m# extra_args > 0\u001b[0m\u001b[0;34m\u001b[0m\u001b[0;34m\u001b[0m\u001b[0;34m\u001b[0m\u001b[0m\n",
      "\u001b[0;32m~/anaconda3/lib/python3.7/site-packages/sklearn/covariance/_graph_lasso.py\u001b[0m in \u001b[0;36mgraphical_lasso\u001b[0;34m(emp_cov, alpha, cov_init, mode, tol, enet_tol, max_iter, verbose, return_costs, eps, return_n_iter)\u001b[0m\n\u001b[1;32m    230\u001b[0m                             \u001b[0mcoefs\u001b[0m\u001b[0;34m,\u001b[0m \u001b[0malpha\u001b[0m\u001b[0;34m,\u001b[0m \u001b[0;36m0\u001b[0m\u001b[0;34m,\u001b[0m \u001b[0msub_covariance\u001b[0m\u001b[0;34m,\u001b[0m\u001b[0;34m\u001b[0m\u001b[0;34m\u001b[0m\u001b[0m\n\u001b[1;32m    231\u001b[0m                             \u001b[0mrow\u001b[0m\u001b[0;34m,\u001b[0m \u001b[0mrow\u001b[0m\u001b[0;34m,\u001b[0m \u001b[0mmax_iter\u001b[0m\u001b[0;34m,\u001b[0m \u001b[0menet_tol\u001b[0m\u001b[0;34m,\u001b[0m\u001b[0;34m\u001b[0m\u001b[0;34m\u001b[0m\u001b[0m\n\u001b[0;32m--> 232\u001b[0;31m                             check_random_state(None), False)\n\u001b[0m\u001b[1;32m    233\u001b[0m                     \u001b[0;32melse\u001b[0m\u001b[0;34m:\u001b[0m\u001b[0;34m\u001b[0m\u001b[0;34m\u001b[0m\u001b[0m\n\u001b[1;32m    234\u001b[0m                         \u001b[0;31m# Use LARS\u001b[0m\u001b[0;34m\u001b[0m\u001b[0;34m\u001b[0m\u001b[0;34m\u001b[0m\u001b[0m\n",
      "\u001b[0;31mKeyboardInterrupt\u001b[0m: "
     ]
    }
   ],
   "source": [
    "for i in range(5):\n",
    "    np.random.seed(i*303)\n",
    "    true_cov = np.random.rand(4,4)\n",
    "    true_cov = true_cov.T@true_cov\n",
    "    X = np.random.multivariate_normal(mean=[0, 0, 0, 0], cov=true_cov, size=100) \n",
    "\n",
    "    cov = GraphicalLasso(alpha=0.01,mode=\"cd\", max_iter=10000).fit(X)\n",
    "    sigma = graphic_lasso(-X,  np.zeros([100,4]), np.identity(4),0.01)\n",
    "    error =  (np.sum(np.linalg.inv(cov.covariance_)-sigma))\n",
    "    if error>1:\n",
    "        print(error)\n",
    "        print(\"Error\")\n",
    "    else:\n",
    "        print(sigma)\n",
    "        print(np.linalg.inv(cov.covariance_))\n",
    "        print(\"Correct\")"
   ]
  },
  {
   "cell_type": "code",
   "execution_count": 203,
   "metadata": {},
   "outputs": [
    {
     "ename": "ValueError",
     "evalue": "matmul: Input operand 1 has a mismatch in its core dimension 0, with gufunc signature (n?,k),(k,m?)->(n?,m?) (size 2 is different from 4)",
     "output_type": "error",
     "traceback": [
      "\u001b[0;31m--------------------------------------------------------\u001b[0m",
      "\u001b[0;31mValueError\u001b[0m             Traceback (most recent call last)",
      "\u001b[0;32m<ipython-input-203-09be5308d7bb>\u001b[0m in \u001b[0;36m<module>\u001b[0;34m\u001b[0m\n\u001b[0;32m----> 1\u001b[0;31m \u001b[0mX_new\u001b[0m \u001b[0;34m=\u001b[0m \u001b[0mY\u001b[0m\u001b[0;34m-\u001b[0m\u001b[0mX\u001b[0m\u001b[0;34m@\u001b[0m\u001b[0mB_t\u001b[0m\u001b[0;34m\u001b[0m\u001b[0;34m\u001b[0m\u001b[0m\n\u001b[0m\u001b[1;32m      2\u001b[0m \u001b[0mcov\u001b[0m \u001b[0;34m=\u001b[0m \u001b[0mGraphicalLasso\u001b[0m\u001b[0;34m(\u001b[0m\u001b[0malpha\u001b[0m\u001b[0;34m=\u001b[0m\u001b[0;36m0.01\u001b[0m\u001b[0;34m,\u001b[0m\u001b[0mmode\u001b[0m\u001b[0;34m=\u001b[0m\u001b[0;34m\"cd\"\u001b[0m\u001b[0;34m)\u001b[0m\u001b[0;34m.\u001b[0m\u001b[0mfit\u001b[0m\u001b[0;34m(\u001b[0m\u001b[0mX_new\u001b[0m\u001b[0;34m)\u001b[0m\u001b[0;34m\u001b[0m\u001b[0;34m\u001b[0m\u001b[0m\n\u001b[1;32m      3\u001b[0m \u001b[0msigma\u001b[0m \u001b[0;34m=\u001b[0m \u001b[0mgraphic_lasso\u001b[0m\u001b[0;34m(\u001b[0m\u001b[0mX\u001b[0m\u001b[0;34m,\u001b[0m \u001b[0mB_t\u001b[0m\u001b[0;34m,\u001b[0m \u001b[0mY\u001b[0m\u001b[0;34m,\u001b[0m \u001b[0;36m0.01\u001b[0m\u001b[0;34m)\u001b[0m\u001b[0;34m\u001b[0m\u001b[0;34m\u001b[0m\u001b[0m\n\u001b[1;32m      4\u001b[0m \u001b[0mprint\u001b[0m\u001b[0;34m(\u001b[0m\u001b[0mcov\u001b[0m\u001b[0;34m.\u001b[0m\u001b[0mcovariance_\u001b[0m\u001b[0;34m)\u001b[0m\u001b[0;34m\u001b[0m\u001b[0;34m\u001b[0m\u001b[0m\n\u001b[1;32m      5\u001b[0m \u001b[0mprint\u001b[0m\u001b[0;34m(\u001b[0m\u001b[0msigma\u001b[0m\u001b[0;34m)\u001b[0m\u001b[0;34m\u001b[0m\u001b[0;34m\u001b[0m\u001b[0m\n",
      "\u001b[0;31mValueError\u001b[0m: matmul: Input operand 1 has a mismatch in its core dimension 0, with gufunc signature (n?,k),(k,m?)->(n?,m?) (size 2 is different from 4)"
     ]
    }
   ],
   "source": [
    "X_new = Y-X@B_t\n",
    "cov = GraphicalLasso(alpha=0.01,mode=\"cd\").fit(X_new)\n",
    "sigma = graphic_lasso(X, B_t, Y, 0.01)\n",
    "print(cov.covariance_)\n",
    "print(sigma)"
   ]
  }
 ],
 "metadata": {
  "kernelspec": {
   "display_name": "Python 3",
   "language": "python",
   "name": "python3"
  },
  "language_info": {
   "codemirror_mode": {
    "name": "ipython",
    "version": 3
   },
   "file_extension": ".py",
   "mimetype": "text/x-python",
   "name": "python",
   "nbconvert_exporter": "python",
   "pygments_lexer": "ipython3",
   "version": "3.7.6"
  }
 },
 "nbformat": 4,
 "nbformat_minor": 4
}
