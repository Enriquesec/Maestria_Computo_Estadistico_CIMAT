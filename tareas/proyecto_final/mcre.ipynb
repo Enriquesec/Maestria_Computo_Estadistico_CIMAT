{
 "cells": [
  {
   "cell_type": "code",
   "execution_count": 5,
   "metadata": {},
   "outputs": [],
   "source": [
    "import numpy as np\n",
    "import pandas as pd"
   ]
  },
  {
   "cell_type": "code",
   "execution_count": 6,
   "metadata": {},
   "outputs": [],
   "source": [
    "def eliminar_fila_columna(data, i):\n",
    "    n = data.shape[1]\n",
    "    ind = np.arange(n)\n",
    "    ind_new = ind[ind!=i]\n",
    "    \n",
    "    W = X[ind_new, :][:,ind_new]\n",
    "    w = X[i,ind_new]\n",
    "    w2 = X[i,i]\n",
    "    return W, w, w2\n",
    "\n",
    "\n",
    "def soft_threshold_operator(x, t, lim_sup=0):\n",
    "    return np.sign(x)*np.max([lim_sup,np.abs(x)-t])\n"
   ]
  },
  {
   "cell_type": "code",
   "execution_count": 74,
   "metadata": {},
   "outputs": [],
   "source": []
  },
  {
   "cell_type": "code",
   "execution_count": 318,
   "metadata": {},
   "outputs": [],
   "source": [
    "def coordinate_descent(X, Y, B_t, Gamma_t, lambda_2, epsilon=1e-5):\n",
    "    n, p = X.shape\n",
    "    Beta_ridge = np.abs(np.linalg.inv(X.T@X+lambda_2*np.diag(np.repeat(1,X.shape[1])))@(X.T@Y))\n",
    "    \n",
    "    S = X.T@X\n",
    "    H = X.T@Y@Gamma_t\n",
    "    \n",
    "    B_t_new = np.copy(B_t)\n",
    "    for r in range(B_t.shape[0]):\n",
    "        for c in range(B_t.shape[1]):\n",
    "            mu = 0\n",
    "            for j in range(B_t.shape[0]):\n",
    "                for k in range(B_t.shape[1]):\n",
    "                    mu += B_t[j,k]*S[r,j]*Gamma_t[k,c]\n",
    "            #print(B_t[r,c]+(H[r,c]-mu)/(S[r,r]*Gamma_t[c,c]))\n",
    "            B_t_new[r,c] = soft_threshold_operator(B_t[r,c]+(H[r,c]-mu)/(S[r,r]*Gamma_t[c,c]), \n",
    "                                                   n*lambda_2/(S[r,r]*Gamma_t[c,c]))\n",
    "    #print(\"rid_dento\",np.sum(Beta_ridge))\n",
    "    while np.sum(np.abs(B_t_new-B_t))>epsilon*np.sum(Beta_ridge):\n",
    "        #print(\"dentro\", np.sum(np.abs(B_t_new-B_t)))\n",
    "        B_t = B_t_new\n",
    "        for r in range(B_t.shape[0]):\n",
    "            for c in range(B_t.shape[1]):\n",
    "                mu = 0\n",
    "                for j in range(B_t.shape[0]):\n",
    "                    for k in range(B_t.shape[1]):\n",
    "                        #print(r,c,j,k)\n",
    "                        mu += B_t[j,k]*S[r,j]*Gamma_t[k,c]\n",
    "                B_t_new[r,c] = B_t_new[r,c] = soft_threshold_operator(B_t[r,c]+(H[r,c]-mu)/(S[r,r]*Gamma_t[c,c]), \n",
    "                                                   n*lambda_2/(S[r,r]*Gamma_t[c,c]))\n",
    "    return B_t_new"
   ]
  },
  {
   "cell_type": "code",
   "execution_count": 303,
   "metadata": {},
   "outputs": [],
   "source": [
    "i = 1\n",
    "while i >5:\n",
    "    print(i)\n",
    "    i+=1"
   ]
  },
  {
   "cell_type": "code",
   "execution_count": 325,
   "metadata": {},
   "outputs": [
    {
     "name": "stdout",
     "output_type": "stream",
     "text": [
      "1376.0605055535482\n",
      "ridg, [[2.00762497e-03 1.18359118e-03 3.52537807e-04 1.34638706e-05\n",
      "  1.16548089e-04]\n",
      " [9.24229689e+01 5.10028342e+01 6.47755267e+01 5.90976952e+01\n",
      "  3.67095095e+01]\n",
      " [2.46003529e-03 8.51026411e-04 3.49039452e-03 1.07470466e-03\n",
      "  5.56295288e-04]\n",
      " [2.64190024e+01 8.29699758e+01 2.89592459e+00 7.18544026e+01\n",
      "  5.38742581e+01]\n",
      " [3.28015437e-03 6.57395158e-03 4.52184519e-03 6.30510321e-03\n",
      "  6.31499065e-03]\n",
      " [6.29348803e+01 6.41552745e+01 3.11513518e+00 8.05079356e+01\n",
      "  1.04114352e+01]\n",
      " [6.94612576e-04 2.78534806e-03 1.76282113e-04 3.87377873e-03\n",
      "  8.03043422e-04]\n",
      " [1.27653339e+01 4.83527261e+00 9.79939938e-01 5.39372082e+01\n",
      "  1.81560234e+01]\n",
      " [4.75789627e-03 5.16538789e-03 5.51743671e-03 1.78456498e-04\n",
      "  2.15341719e-03]\n",
      " [3.43752193e-03 5.47911054e-05 1.25763245e-03 2.24006914e-04\n",
      "  1.83161233e-03]\n",
      " [3.10769848e-03 6.48988345e-03 3.95610877e-03 4.33802869e-03\n",
      "  2.96808245e-03]\n",
      " [7.18719883e+01 9.41419009e+01 8.75001187e+01 2.81923471e+01\n",
      "  2.51711722e+01]\n",
      " [6.90939298e+01 7.77734311e+01 9.73201908e+01 4.72260389e+01\n",
      "  8.27421587e+01]\n",
      " [6.77136290e-04 6.36379404e-04 1.02652975e-03 1.37287280e-03\n",
      "  5.96729660e-04]\n",
      " [2.84081691e-03 5.11737087e-03 2.20697896e-03 4.25661507e-03\n",
      "  3.63548943e-03]\n",
      " [2.54881829e+01 8.03718223e+01 1.04852457e+01 8.04159884e+01\n",
      "  6.84301684e+01]\n",
      " [3.03590379e-03 1.00082715e-03 7.57406211e-04 3.03582113e-04\n",
      "  6.92154740e-04]\n",
      " [6.41933015e+01 4.81424160e+01 5.46013996e+01 6.38700656e+00\n",
      "  8.67506262e+01]\n",
      " [1.86537353e+00 8.35554042e+01 9.54314223e+01 6.80398439e+01\n",
      "  8.99631308e+01]\n",
      " [6.54420102e+01 7.56592869e+01 6.40832712e+01 1.63112365e+00\n",
      "  6.40722663e+01]]\n"
     ]
    },
    {
     "data": {
      "text/plain": [
       "array([[ 22.95121996, -10.39591337,   7.58892684,   6.51845485,\n",
       "          3.13510637],\n",
       "       [ 26.6133136 , -19.58089042,  32.13845952,  50.99805454,\n",
       "        -14.36644456],\n",
       "       [-11.20401434,   0.06383404, -14.49104617,  10.13731196,\n",
       "          5.28385887],\n",
       "       [-16.24762415,  10.04660936, -17.48848977,   1.0793872 ,\n",
       "         -3.47665984],\n",
       "       [-18.95252146,   2.14474262,  -3.79217505,   8.71832897,\n",
       "          9.74397615],\n",
       "       [ 34.31076095,   8.79618384, -29.13711603,   7.33686825,\n",
       "         -8.42162216],\n",
       "       [ 18.72660029,  -5.83105712,   3.22284541,  -7.17940533,\n",
       "          5.9325067 ],\n",
       "       [ -3.81541092, -15.53004128,   8.12568107,  43.63307776,\n",
       "          5.52853875],\n",
       "       [ -1.5159772 ,  15.19868111, -14.07647528, -33.68278706,\n",
       "         -3.79605288],\n",
       "       [ 24.1986564 ,  -9.0065611 ,  16.35134595,  10.87275695,\n",
       "        -11.6557053 ],\n",
       "       [-21.28827816,  11.73784618,   1.41764915,   4.38225834,\n",
       "        -10.51845677],\n",
       "       [ -8.05875705,  15.99985002,  39.17062051, -12.08725892,\n",
       "        -44.92337018],\n",
       "       [ 11.63375806,  -1.35644907,  -2.68248536,  -9.65955369,\n",
       "         12.87135785],\n",
       "       [ -9.21601277,   6.25672491,   1.88836016, -17.19860501,\n",
       "          0.44585925],\n",
       "       [ -4.37018964,  -5.82205466,  14.2406283 ,   8.90044435,\n",
       "         -8.50010664],\n",
       "       [  2.58586908,   2.66766883, -17.86184892,   4.01710498,\n",
       "         12.75241354],\n",
       "       [-11.22031754,  -6.77721674,  25.65066971,  21.51544946,\n",
       "         -6.37109467],\n",
       "       [ 26.76097504, -10.60304096,  -7.39703441, -16.01866889,\n",
       "         22.71814001],\n",
       "       [-61.6575598 ,  -1.53128903,  52.49665828,  36.44725311,\n",
       "         -4.54340697],\n",
       "       [  0.10685773,  11.50300185, -17.51756821, -29.66243077,\n",
       "          8.00995296]])"
      ]
     },
     "execution_count": 325,
     "metadata": {},
     "output_type": "execute_result"
    }
   ],
   "source": [
    "mrce(X, Y, .002, 0.00001, 2)"
   ]
  },
  {
   "cell_type": "code",
   "execution_count": 309,
   "metadata": {},
   "outputs": [],
   "source": [
    "def mrce(X, Y, lambda_1, lambda_2, epsilon):\n",
    "    # initialize B and Gamma (matrix cov)\n",
    "    B_t = np.zeros([X.shape[1], Y.shape[1]])\n",
    "    Gamma_t = graphic_lasso(X, B_t, Y, lambda_1)\n",
    "    Beta_ridge = np.abs(np.linalg.inv(X.T@X+lambda_2*np.diag(np.repeat(1,X.shape[1])))@(X.T@Y))\n",
    "    B_t_new = coordinate_descent(X, Y, B_t, Gamma_t, lambda_2, epsilon)\n",
    "    n = X.shape[1]\n",
    "    k=0\n",
    "    print(np.sum(np.abs(B_t_new-B_t)))\n",
    "    print(\"ridg,\", Beta_ridge)\n",
    "    while np.sum(np.abs(B_t_new-B_t))>epsilon*np.sum(Beta_ridge):\n",
    "        k+=1\n",
    "        print(k)\n",
    "        B_t_new = coordinate_descent(X, Y, B_t, Gamma_t, lambda_2)\n",
    "        Gamma_t = graphic_lasso(X, B_t_new, Y, lambda_1)\n",
    "    return B_t_new"
   ]
  },
  {
   "cell_type": "code",
   "execution_count": 198,
   "metadata": {},
   "outputs": [],
   "source": [
    "from sklearn.datasets import make_regression\n",
    "X,Y=make_regression(n_samples=100,n_features=20, n_targets=5,effective_rank=2,random_state=10)\n",
    "#X_estandarizado=estandarizar.fit_transform(X)\n",
    "#X=X_estandarizado\n",
    "B_t = np.zeros([X.shape[1], Y.shape[1]])"
   ]
  },
  {
   "cell_type": "code",
   "execution_count": 199,
   "metadata": {},
   "outputs": [
    {
     "data": {
      "text/plain": [
       "(100, 5)"
      ]
     },
     "execution_count": 199,
     "metadata": {},
     "output_type": "execute_result"
    }
   ],
   "source": [
    "Y.shape"
   ]
  },
  {
   "cell_type": "code",
   "execution_count": 237,
   "metadata": {},
   "outputs": [
    {
     "data": {
      "text/plain": [
       "(100, 20)"
      ]
     },
     "execution_count": 237,
     "metadata": {},
     "output_type": "execute_result"
    }
   ],
   "source": [
    "X.shape"
   ]
  },
  {
   "cell_type": "code",
   "execution_count": 238,
   "metadata": {},
   "outputs": [
    {
     "data": {
      "text/plain": [
       "(20, 5)"
      ]
     },
     "execution_count": 238,
     "metadata": {},
     "output_type": "execute_result"
    }
   ],
   "source": [
    "B_t.shape"
   ]
  },
  {
   "cell_type": "code",
   "execution_count": 308,
   "metadata": {},
   "outputs": [],
   "source": [
    "def graphic_lasso(X, B, Y, lambda_2, tol_sigma=1e-10, tol_beta=1e-10, max_iter=100):\n",
    "    n, p = (Y-X@B).shape\n",
    "    S = (Y-X@B).T@(Y-X@B)/n\n",
    "    #S_datos = X.T@X\n",
    "    Sigma = np.linalg.inv(S)\n",
    "    Sigma_pre = np.zeros(Sigma.shape)\n",
    "    Sigma_inv = Sigma\n",
    "    count = 0\n",
    "    while np.linalg.norm(Sigma - Sigma_pre) <= tol:\n",
    "        Sigma_pre = Sigma\n",
    "        for i in range(p):\n",
    "            W, w, w2  = eliminar_fila_columna(Sigma_inv, i)\n",
    "            _, s, s_ii = eliminar_fila_columna(S, i)\n",
    "            _, l, lamb = eliminar_fila_columna(Sigma, i)\n",
    "            \n",
    "            beta = np.linalg.inv(W)@w\n",
    "            beta_prev = np.zeros((p-1,1))\n",
    "            while np.linalg.norm(beta - beta_prev) <= tol_beta:\n",
    "                beta_prev = np.copy(beta)\n",
    "                for j in range(p-1):\n",
    "                    n = W.shape[1]\n",
    "                    ind = np.arange(n)\n",
    "                    ind_new = ind[ind!=j]\n",
    "\n",
    "                    W_k = W[ind_new, :][:,ind_new]\n",
    "                    beta_k = beta[ind_new]\n",
    "                    beta[j] = soft_threshold_operator(s_ii, np.sum(W_k@beta_k), lambda_2)/W[j,j]\n",
    "                    if i==3:\n",
    "                        print(beta)\n",
    "            print(i)\n",
    "            ind = np.arange(p)\n",
    "            ind_new = ind[ind!=i]\n",
    "            w = W@beta\n",
    "            w2 = s_ii+lambda_2\n",
    "            Sigma_inv[i,ind_new] = w.T\n",
    "            Sigma_inv[ind_new, i] = w.T\n",
    "            Sigma_inv[i,i] = w2\n",
    "            \n",
    "\n",
    "            theta22 = 1.0 /(w2-w.T@beta)\n",
    "            theta12 = -beta*theta22\n",
    "            # print(theta12)\n",
    "            \n",
    "            Sigma[i, ind_new] = theta12.T\n",
    "            Sigma[ind_new, i] = theta12.T\n",
    "            Sigma[i,i] = theta22\n",
    "            \n",
    "        count += 1\n",
    "        if count>= max_iter:\n",
    "            print(\"Maximo iteraciones\")\n",
    "            break\n",
    "    return Sigma\n",
    "    "
   ]
  },
  {
   "cell_type": "code",
   "execution_count": 22,
   "metadata": {},
   "outputs": [],
   "source": []
  }
 ],
 "metadata": {
  "kernelspec": {
   "display_name": "Python 3",
   "language": "python",
   "name": "python3"
  },
  "language_info": {
   "codemirror_mode": {
    "name": "ipython",
    "version": 3
   },
   "file_extension": ".py",
   "mimetype": "text/x-python",
   "name": "python",
   "nbconvert_exporter": "python",
   "pygments_lexer": "ipython3",
   "version": "3.7.6"
  }
 },
 "nbformat": 4,
 "nbformat_minor": 4
}
