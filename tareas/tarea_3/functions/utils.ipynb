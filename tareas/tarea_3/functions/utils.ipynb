{
 "cells": [
  {
   "cell_type": "code",
   "execution_count": 1,
   "metadata": {},
   "outputs": [],
   "source": [
    "import pandas as pd\n",
    "from utils import *"
   ]
  },
  {
   "cell_type": "code",
   "execution_count": 4,
   "metadata": {},
   "outputs": [],
   "source": [
    "a = list(place_ones(4, 1))"
   ]
  },
  {
   "cell_type": "code",
   "execution_count": 44,
   "metadata": {},
   "outputs": [],
   "source": [
    "def place_ones(size, count):\n",
    "    for positions in combinations(range(size), count):\n",
    "        p = [0] * size\n",
    "\n",
    "        for i in positions:\n",
    "            p[i] = 1\n",
    "\n",
    "        yield p\n",
    "        \n",
    "        \n",
    "def combination_opti(c_ij, f_i, a, y_aux, combi=0):\n",
    "    cost_optimo = 1e14\n",
    "    A_opti = np.zeros([len(a),6])\n",
    "    for i in a:\n",
    "        for j in a:\n",
    "            for k in a:\n",
    "                for l in a:\n",
    "                    for m in a:\n",
    "                        for n in a:\n",
    "                            A = np.array([i,j,k,l,m,n]).T\n",
    "                            #print(y_aux)\n",
    "                            #print(A)\n",
    "                            if len(y_aux)==1:\n",
    "                                A = A[0]\n",
    "                                #print(c_ij[y_aux])\n",
    "                            cost = np.sum(np.multiply(c_ij[y_aux], A))+np.sum(f_i[y_aux])\n",
    "                                #print(\"cost:\", cost)\n",
    "                            if cost <=cost_optimo:\n",
    "                                cost_optimo = cost\n",
    "                                A_opti = A\n",
    "    if combi==1:\n",
    "        return cost_optimo, A_opti\n",
    "    else:\n",
    "        return cost_optimo\n",
    "    \n",
    "    \n",
    "    \n",
    "    \n",
    "def greedyrandomized(y, c_ij, f_i, p_k, alpha):\n",
    "    k=0\n",
    "    y_solution = []\n",
    "    while len(y_solution)<p_k:\n",
    "        var_libres = 12-len(y_solution)\n",
    "        costos = []\n",
    "        a = list(place_ones(len(y_solution)+1, 1))\n",
    "        # print(\"a:\", a)\n",
    "        for inst in y:\n",
    "            y_aux = y_solution.copy()\n",
    "            y_aux.append(inst)\n",
    "            cost_optimo = combination_opti(c_ij, f_i, a, y_aux)\n",
    "            costos.append(cost_optimo)\n",
    "         \n",
    "        print(\"costos:\", costos)\n",
    "        c_max = np.max(costos)\n",
    "        c_min = np.min(costos)\n",
    "        #print(\"c_max\", c_max)\n",
    "        #print(\"c_min\", c_min)\n",
    "        lim_sup = c_min+alpha*(c_max-c_min)\n",
    "        #print(\"lim:\", alpha)\n",
    "        RL = np.concatenate(np.argwhere(costos <= lim_sup))\n",
    "        print(RL)\n",
    "        rand = np.random.choice(RL, 1)\n",
    "        #print(rand)\n",
    "        y_solution.append(y[rand[0]])\n",
    "        print(\"Instacias seleccionadas\", np.array(y_solution)+1)\n",
    "        #print(len(y_solution))\n",
    "        print(\"Costo optimo de las instacias selecionadas.\", costos[rand[0]])\n",
    "        y.remove(y[rand[0]])\n",
    "    return y_solution\n",
    "\n",
    "\n",
    "def grasp(y, c_ij, f_i, p_k, alpha):\n",
    "    y_opt = greedyrandomized(y, c_ij, f_i, p_k, alpha)\n",
    "        \n",
    "    a = list(place_ones(len(y_opt), 1))\n",
    "    A_opti = np.zeros([4,6])\n",
    "    cost_final, A_opti = combination_opti(c_ij, f_i, a, y_opt, 1)\n",
    "    print(\"---------------------------------------------------------\")\n",
    "    print(\"---------------------------------------------------------\")\n",
    "    print(\"---------------------------------------------------------\")\n",
    "\n",
    "    print(\"Las instalaciones que se tiene que abrir son\", np.array(y_opt)+1)\n",
    "    print(\"Las asignaciones de las instalaciones clientes son:\")\n",
    "    print(np.array(A_opti))\n",
    "    print(\"El costo final es:\", cost_final)\n",
    "    return 0"
   ]
  },
  {
   "cell_type": "code",
   "execution_count": 11,
   "metadata": {},
   "outputs": [],
   "source": [
    "from itertools import product"
   ]
  },
  {
   "cell_type": "code",
   "execution_count": 46,
   "metadata": {},
   "outputs": [
    {
     "data": {
      "text/plain": [
       "[[1, 0], [0, 1]]"
      ]
     },
     "execution_count": 46,
     "metadata": {},
     "output_type": "execute_result"
    }
   ],
   "source": [
    "a = list(place_ones(2, 1))\n",
    "a"
   ]
  },
  {
   "cell_type": "code",
   "execution_count": 60,
   "metadata": {},
   "outputs": [
    {
     "data": {
      "text/plain": [
       "[[1, 0, 0], [1, 0, 0], [1, 0, 0]]"
      ]
     },
     "execution_count": 60,
     "metadata": {},
     "output_type": "execute_result"
    }
   ],
   "source": [
    "A"
   ]
  },
  {
   "cell_type": "code",
   "execution_count": 69,
   "metadata": {},
   "outputs": [
    {
     "name": "stdout",
     "output_type": "stream",
     "text": [
      "[[0 1 2]\n",
      " [3 4 5]\n",
      " [6 7 8]]\n",
      "[[3 4 5]\n",
      " [0 1 2]\n",
      " [6 7 8]]\n"
     ]
    }
   ],
   "source": [
    "def combination_opti(c_ij, f_i, a, y_aux, combi=0):\n",
    "    cost_optimo = 1e14\n",
    "    A_opti = np.zeros([len(a),6])\n",
    "    for i in a:\n",
    "        \n",
    "    if combi==1:\n",
    "        return cost_optimo, A_opti\n",
    "    else:\n",
    "        return cost_optimo"
   ]
  },
  {
   "cell_type": "code",
   "execution_count": 63,
   "metadata": {},
   "outputs": [
    {
     "name": "stdout",
     "output_type": "stream",
     "text": [
      "[0, 1, 0, 0, 0, 0]\n",
      "[0, 0, 1, 0, 0, 0]\n",
      "[0, 0, 0, 1, 0, 0]\n",
      "\n",
      "[0, 1, 0, 0, 0, 0]\n",
      "[0, 0, 0, 1, 0, 0]\n",
      "[0, 0, 1, 0, 0, 0]\n",
      "\n",
      "[0, 0, 1, 0, 0, 0]\n",
      "[0, 1, 0, 0, 0, 0]\n",
      "[0, 0, 0, 1, 0, 0]\n",
      "\n",
      "[0, 0, 1, 0, 0, 0]\n",
      "[0, 0, 0, 1, 0, 0]\n",
      "[0, 1, 0, 0, 0, 0]\n",
      "\n",
      "[0, 0, 0, 1, 0, 0]\n",
      "[0, 1, 0, 0, 0, 0]\n",
      "[0, 0, 1, 0, 0, 0]\n",
      "\n",
      "[0, 0, 0, 1, 0, 0]\n",
      "[0, 0, 1, 0, 0, 0]\n",
      "[0, 1, 0, 0, 0, 0]\n",
      "\n"
     ]
    }
   ],
   "source": [
    "import itertools\n",
    "\n",
    "def I(n,m):\n",
    "    A = []\n",
    "    for i in range(n):\n",
    "        A.append([1 if j == i+1  else 0 for j in range(m)])\n",
    "    return A\n",
    "\n",
    "#tests:\n",
    "\n",
    "A = I(3,6)\n",
    "\n",
    "for m in itertools.permutations(A):\n",
    "    print('\\n'.join(str(row) for row in m))\n",
    "    print('')"
   ]
  },
  {
   "cell_type": "code",
   "execution_count": 34,
   "metadata": {},
   "outputs": [
    {
     "name": "stdout",
     "output_type": "stream",
     "text": [
      "(array([1, 0, 0, 0]), array([0, 0, 0, 1]))\n",
      "(array([0, 0, 0, 1]), array([1, 0, 0, 0]))\n"
     ]
    }
   ],
   "source": [
    "for i in permutations(A):\n",
    "    print(i)"
   ]
  },
  {
   "cell_type": "code",
   "execution_count": 41,
   "metadata": {},
   "outputs": [
    {
     "data": {
      "text/plain": [
       "array([[1, 0, 0, 0],\n",
       "       [1, 0, 0, 0]])"
      ]
     },
     "execution_count": 41,
     "metadata": {},
     "output_type": "execute_result"
    }
   ],
   "source": [
    "np.array([i,j])"
   ]
  },
  {
   "cell_type": "code",
   "execution_count": 50,
   "metadata": {},
   "outputs": [
    {
     "name": "stdout",
     "output_type": "stream",
     "text": [
      "[([1, 0], [0, 1]), ([1, 0], [0, 1]), ([1, 0], [0, 1]), ([1, 0], [0, 1])]\n",
      "[([1, 0], [0, 1]), ([1, 0], [0, 1]), ([1, 0], [0, 1]), ([0, 1], [1, 0])]\n",
      "[([1, 0], [0, 1]), ([1, 0], [0, 1]), ([0, 1], [1, 0]), ([1, 0], [0, 1])]\n",
      "[([1, 0], [0, 1]), ([1, 0], [0, 1]), ([0, 1], [1, 0]), ([0, 1], [1, 0])]\n",
      "[([1, 0], [0, 1]), ([0, 1], [1, 0]), ([1, 0], [0, 1]), ([1, 0], [0, 1])]\n",
      "[([1, 0], [0, 1]), ([0, 1], [1, 0]), ([1, 0], [0, 1]), ([0, 1], [1, 0])]\n",
      "[([1, 0], [0, 1]), ([0, 1], [1, 0]), ([0, 1], [1, 0]), ([1, 0], [0, 1])]\n",
      "[([1, 0], [0, 1]), ([0, 1], [1, 0]), ([0, 1], [1, 0]), ([0, 1], [1, 0])]\n",
      "[([0, 1], [1, 0]), ([1, 0], [0, 1]), ([1, 0], [0, 1]), ([1, 0], [0, 1])]\n",
      "[([0, 1], [1, 0]), ([1, 0], [0, 1]), ([1, 0], [0, 1]), ([0, 1], [1, 0])]\n",
      "[([0, 1], [1, 0]), ([1, 0], [0, 1]), ([0, 1], [1, 0]), ([1, 0], [0, 1])]\n",
      "[([0, 1], [1, 0]), ([1, 0], [0, 1]), ([0, 1], [1, 0]), ([0, 1], [1, 0])]\n",
      "[([0, 1], [1, 0]), ([0, 1], [1, 0]), ([1, 0], [0, 1]), ([1, 0], [0, 1])]\n",
      "[([0, 1], [1, 0]), ([0, 1], [1, 0]), ([1, 0], [0, 1]), ([0, 1], [1, 0])]\n",
      "[([0, 1], [1, 0]), ([0, 1], [1, 0]), ([0, 1], [1, 0]), ([1, 0], [0, 1])]\n",
      "[([0, 1], [1, 0]), ([0, 1], [1, 0]), ([0, 1], [1, 0]), ([0, 1], [1, 0])]\n",
      "0\n"
     ]
    }
   ],
   "source": [
    "count=0\n",
    "for i,j,k,l in product(permutations(a),permutations(a), permutations(a), permutations(a)):\n",
    "    print([i,j,k,l])\n",
    "print(count)"
   ]
  },
  {
   "cell_type": "code",
   "execution_count": 45,
   "metadata": {},
   "outputs": [
    {
     "name": "stdout",
     "output_type": "stream",
     "text": [
      "costos: [280, 294, 338, 277, 315, 370, 189, 335, 205, 233, 243]\n",
      "[6 8]\n",
      "Instacias seleccionadas [7]\n",
      "Costo optimo de las instacias selecionadas. 189\n",
      "costos: [395, 408, 462, 381, 417, 476, 465, 332, 348, 343]\n",
      "[7 9]\n",
      "Instacias seleccionadas [7 9]\n",
      "Costo optimo de las instacias selecionadas. 332\n",
      "costos: [545, 557, 611, 524, 561, 623, 615, 491, 486]\n",
      "[7 8]\n",
      "Instacias seleccionadas [ 7  9 11]\n",
      "Costo optimo de las instacias selecionadas. 486\n",
      "costos: [699, 711, 765, 678, 715, 777, 769, 645]\n",
      "[7]\n",
      "Instacias seleccionadas [ 7  9 11 10]\n",
      "Costo optimo de las instacias selecionadas. 645\n",
      "---------------------------------------------------------\n",
      "---------------------------------------------------------\n",
      "---------------------------------------------------------\n",
      "Las instalaciones que se tiene que abrir son [ 7  9 11 10]\n",
      "Las asignaciones de las instalaciones clientes son:\n",
      "[[1 0 1 1 0 0]\n",
      " [0 1 0 0 1 0]\n",
      " [0 0 0 0 0 0]\n",
      " [0 0 0 0 0 1]]\n",
      "El costo final es: 645\n"
     ]
    },
    {
     "data": {
      "text/plain": [
       "0"
      ]
     },
     "execution_count": 45,
     "metadata": {},
     "output_type": "execute_result"
    }
   ],
   "source": [
    "datos = pd.read_excel(\"../Tarea CO - Instancias.xlsx\", header=None)\n",
    "c_ij = datos[[0,1,2,3,4,5]].to_numpy()\n",
    "f_i = datos[6].to_numpy()\n",
    "\n",
    "y = [i for i in range(0,11)]\n",
    "grasp(y, c_ij, f_i, 4,0.1)"
   ]
  },
  {
   "cell_type": "markdown",
   "metadata": {},
   "source": [
    "##  Using library pulp"
   ]
  },
  {
   "cell_type": "code",
   "execution_count": 1,
   "metadata": {},
   "outputs": [],
   "source": [
    "from pulp import *"
   ]
  },
  {
   "cell_type": "code",
   "execution_count": 2,
   "metadata": {},
   "outputs": [],
   "source": [
    "# Lists (sets / Array) of Customers and Facilities\n",
    "Customer = [1,2,3,4,5,6]\n",
    "Facility = [\"Fac-{}\".format(i) for i in range(1, 12)]"
   ]
  },
  {
   "cell_type": "code",
   "execution_count": 3,
   "metadata": {},
   "outputs": [],
   "source": [
    "# Dictionaries of the demands and facilities as well as fixed cost at each facility\n",
    "fixed_cost = {'Fac-1' : 214, 'Fac-2' : 225, 'Fac-3' : 285,\n",
    "             \"Fac-4\":205, \"Fac-5\":229, \"Fac-6\":294, \"Fac-7\":137,\n",
    "             \"Fac-8\":292, \"Fac-9\":155, \"Fac-10\":166, \"Fac-11\":154}"
   ]
  },
  {
   "cell_type": "code",
   "execution_count": 4,
   "metadata": {},
   "outputs": [],
   "source": [
    "# Dictionary of the transportation cost from each facility to all the customers \n",
    "transportation_cost = {'Fac-1' : {1:18, 2:1, 3:16, 4:6, 5:10, 6:15},\n",
    "                       'Fac-2' : {1:3, 2:10, 3:17, 4:13, 5:6, 6:20},\n",
    "                       'Fac-3' : {1:13, 2:6, 3:12, 4:5, 5:7, 6:10},\n",
    "                       'Fac-4' : {1:9, 2:14, 3:20, 4:11, 5:16, 6:2},\n",
    "                       'Fac-5' : {1:13, 2:15, 3:16, 4:12, 5:11, 6:19},\n",
    "                       'Fac-6' : {1:9, 2:3, 3:16, 4:16, 5:20, 6:12},\n",
    "                       'Fac-7' : {1:3, 2:7, 3:9, 4:6, 5:12, 6:15},\n",
    "                       'Fac-8' : {1:2, 2:12, 3:3, 4:7, 5:3, 6:16},\n",
    "                       'Fac-9' : {1:4, 2:2, 3:11, 4:12, 5:5, 6:16},\n",
    "                       'Fac-10' : {1:12, 2:7, 3:10, 4:18, 5:12, 6:8},\n",
    "                       'Fac-11' : {1:9, 2:8, 3:19, 4:18, 5:15, 6:20}\n",
    "                      }"
   ]
  },
  {
   "cell_type": "code",
   "execution_count": 5,
   "metadata": {},
   "outputs": [
    {
     "name": "stderr",
     "output_type": "stream",
     "text": [
      "/home/enrique/anaconda3/lib/python3.7/site-packages/pulp/pulp.py:1199: UserWarning: Spaces are not permitted in the name. Converted to '_'\n",
      "  warnings.warn(\"Spaces are not permitted in the name. Converted to '_'\")\n"
     ]
    }
   ],
   "source": [
    "# Setting the Problem\n",
    "prob = LpProblem(\"Capacitated Facility Location Problem\", LpMinimize)"
   ]
  },
  {
   "cell_type": "code",
   "execution_count": 6,
   "metadata": {},
   "outputs": [],
   "source": [
    "# Defining our Desicion Variables\n",
    "use_facility = LpVariable.dicts(\"Use Facility\", Facility, 0, 1, LpBinary)\n",
    "ser_customer = LpVariable.dicts(\"Service\", [(i,j) for i in Customer for j in Facility], 0)"
   ]
  },
  {
   "cell_type": "code",
   "execution_count": 7,
   "metadata": {},
   "outputs": [],
   "source": [
    "\n",
    "# Setting the Objective Function\n",
    "prob += lpSum(fixed_cost[j]*use_facility[j] for j in Facility) + lpSum(transportation_cost[j][i]*ser_customer[(i,j)] for j in Facility for i in Customer)"
   ]
  },
  {
   "cell_type": "code",
   "execution_count": 8,
   "metadata": {},
   "outputs": [],
   "source": [
    "# Costraints\n",
    "for i in Customer:\n",
    "    prob += lpSum(ser_customer[(i,j)] for j in Facility) == 1\n",
    "\n",
    "for i in Customer:\n",
    "    for j in Facility:\n",
    "        prob += ser_customer[(i,j)] <= use_facility[j]\n",
    "        \n",
    "prob += lpSum(use_facility[j] for j in Facility) == 4\n"
   ]
  },
  {
   "cell_type": "code",
   "execution_count": 9,
   "metadata": {},
   "outputs": [
    {
     "data": {
      "text/plain": [
       "1"
      ]
     },
     "execution_count": 9,
     "metadata": {},
     "output_type": "execute_result"
    }
   ],
   "source": [
    "prob.solve()"
   ]
  },
  {
   "cell_type": "code",
   "execution_count": 10,
   "metadata": {},
   "outputs": [
    {
     "name": "stdout",
     "output_type": "stream",
     "text": [
      "Solution Status =  Optimal\n"
     ]
    }
   ],
   "source": [
    "print(\"Solution Status = \", LpStatus[prob.status])"
   ]
  },
  {
   "cell_type": "code",
   "execution_count": 11,
   "metadata": {},
   "outputs": [
    {
     "name": "stdout",
     "output_type": "stream",
     "text": [
      "Estalish Facility at site =  Fac-7\n",
      "Estalish Facility at site =  Fac-9\n",
      "Estalish Facility at site =  Fac-10\n",
      "Estalish Facility at site =  Fac-11\n"
     ]
    }
   ],
   "source": [
    "# Print the solution of Binary Decision Variables\n",
    "Tolerance = 0.0001\n",
    "for j in Facility:\n",
    "    if use_facility[j].varValue > Tolerance:\n",
    "        print(\"Estalish Facility at site = \", j)"
   ]
  },
  {
   "cell_type": "code",
   "execution_count": 12,
   "metadata": {
    "scrolled": true
   },
   "outputs": [
    {
     "name": "stdout",
     "output_type": "stream",
     "text": [
      "Service_(1,_'Fac_1') = 0.0\n",
      "Service_(1,_'Fac_10') = 0.0\n",
      "Service_(1,_'Fac_11') = 0.0\n",
      "Service_(1,_'Fac_2') = 0.0\n",
      "Service_(1,_'Fac_3') = 0.0\n",
      "Service_(1,_'Fac_4') = 0.0\n",
      "Service_(1,_'Fac_5') = 0.0\n",
      "Service_(1,_'Fac_6') = 0.0\n",
      "Service_(1,_'Fac_7') = 1.0\n",
      "Service_(1,_'Fac_8') = 0.0\n",
      "Service_(1,_'Fac_9') = 0.0\n",
      "Service_(2,_'Fac_1') = 0.0\n",
      "Service_(2,_'Fac_10') = 0.0\n",
      "Service_(2,_'Fac_11') = 0.0\n",
      "Service_(2,_'Fac_2') = 0.0\n",
      "Service_(2,_'Fac_3') = 0.0\n",
      "Service_(2,_'Fac_4') = 0.0\n",
      "Service_(2,_'Fac_5') = 0.0\n",
      "Service_(2,_'Fac_6') = 0.0\n",
      "Service_(2,_'Fac_7') = 0.0\n",
      "Service_(2,_'Fac_8') = 0.0\n",
      "Service_(2,_'Fac_9') = 1.0\n",
      "Service_(3,_'Fac_1') = 0.0\n",
      "Service_(3,_'Fac_10') = 0.0\n",
      "Service_(3,_'Fac_11') = 0.0\n",
      "Service_(3,_'Fac_2') = 0.0\n",
      "Service_(3,_'Fac_3') = 0.0\n",
      "Service_(3,_'Fac_4') = 0.0\n",
      "Service_(3,_'Fac_5') = 0.0\n",
      "Service_(3,_'Fac_6') = 0.0\n",
      "Service_(3,_'Fac_7') = 1.0\n",
      "Service_(3,_'Fac_8') = 0.0\n",
      "Service_(3,_'Fac_9') = 0.0\n",
      "Service_(4,_'Fac_1') = 0.0\n",
      "Service_(4,_'Fac_10') = 0.0\n",
      "Service_(4,_'Fac_11') = 0.0\n",
      "Service_(4,_'Fac_2') = 0.0\n",
      "Service_(4,_'Fac_3') = 0.0\n",
      "Service_(4,_'Fac_4') = 0.0\n",
      "Service_(4,_'Fac_5') = 0.0\n",
      "Service_(4,_'Fac_6') = 0.0\n",
      "Service_(4,_'Fac_7') = 1.0\n",
      "Service_(4,_'Fac_8') = 0.0\n",
      "Service_(4,_'Fac_9') = 0.0\n",
      "Service_(5,_'Fac_1') = 0.0\n",
      "Service_(5,_'Fac_10') = 0.0\n",
      "Service_(5,_'Fac_11') = 0.0\n",
      "Service_(5,_'Fac_2') = 0.0\n",
      "Service_(5,_'Fac_3') = 0.0\n",
      "Service_(5,_'Fac_4') = 0.0\n",
      "Service_(5,_'Fac_5') = 0.0\n",
      "Service_(5,_'Fac_6') = 0.0\n",
      "Service_(5,_'Fac_7') = 0.0\n",
      "Service_(5,_'Fac_8') = 0.0\n",
      "Service_(5,_'Fac_9') = 1.0\n",
      "Service_(6,_'Fac_1') = 0.0\n",
      "Service_(6,_'Fac_10') = 1.0\n",
      "Service_(6,_'Fac_11') = 0.0\n",
      "Service_(6,_'Fac_2') = 0.0\n",
      "Service_(6,_'Fac_3') = 0.0\n",
      "Service_(6,_'Fac_4') = 0.0\n",
      "Service_(6,_'Fac_5') = 0.0\n",
      "Service_(6,_'Fac_6') = 0.0\n",
      "Service_(6,_'Fac_7') = 0.0\n",
      "Service_(6,_'Fac_8') = 0.0\n",
      "Service_(6,_'Fac_9') = 0.0\n",
      "Use_Facility_Fac_1 = 0.0\n",
      "Use_Facility_Fac_10 = 1.0\n",
      "Use_Facility_Fac_11 = 1.0\n",
      "Use_Facility_Fac_2 = 0.0\n",
      "Use_Facility_Fac_3 = 0.0\n",
      "Use_Facility_Fac_4 = 0.0\n",
      "Use_Facility_Fac_5 = 0.0\n",
      "Use_Facility_Fac_6 = 0.0\n",
      "Use_Facility_Fac_7 = 1.0\n",
      "Use_Facility_Fac_8 = 0.0\n",
      "Use_Facility_Fac_9 = 1.0\n"
     ]
    }
   ],
   "source": [
    "\n",
    "# Print the solution of Continuous Decision Variables\n",
    "for v in prob.variables():\n",
    "    print(v.name, \"=\", v.varValue)"
   ]
  },
  {
   "cell_type": "code",
   "execution_count": 13,
   "metadata": {},
   "outputs": [
    {
     "name": "stdout",
     "output_type": "stream",
     "text": [
      "Total Cost =  645.0\n"
     ]
    }
   ],
   "source": [
    "# Print Optimal\n",
    "print(\"Total Cost = \", value(prob.objective))"
   ]
  }
 ],
 "metadata": {
  "kernelspec": {
   "display_name": "Python 3",
   "language": "python",
   "name": "python3"
  },
  "language_info": {
   "codemirror_mode": {
    "name": "ipython",
    "version": 3
   },
   "file_extension": ".py",
   "mimetype": "text/x-python",
   "name": "python",
   "nbconvert_exporter": "python",
   "pygments_lexer": "ipython3",
   "version": "3.7.6"
  }
 },
 "nbformat": 4,
 "nbformat_minor": 4
}
