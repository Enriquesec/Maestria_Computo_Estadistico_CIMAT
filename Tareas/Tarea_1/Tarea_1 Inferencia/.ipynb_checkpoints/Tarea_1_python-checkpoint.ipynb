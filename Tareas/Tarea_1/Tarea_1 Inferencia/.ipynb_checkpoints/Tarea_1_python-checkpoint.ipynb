{
 "cells": [
  {
   "cell_type": "markdown",
   "metadata": {},
   "source": [
    "### Ejercicio 4.\n",
    "a) Función para graficar la función de distribución acumulada yde masa de la distribución uniforme."
   ]
  },
  {
   "cell_type": "code",
   "execution_count": 45,
   "metadata": {},
   "outputs": [],
   "source": [
    "import numpy as np\n",
    "import random \n",
    "import matplotlib.pyplot as plt"
   ]
  },
  {
   "cell_type": "code",
   "execution_count": 97,
   "metadata": {},
   "outputs": [],
   "source": [
    "def grafica_pdf_and_cdf_uniform (n):\n",
    "    x = np.linspace(1, n, n)\n",
    "    f_x = np.repeat(1/n, n)\n",
    "    F_x = f_x.cumsum()\n",
    "    \n",
    "    fig, axs = plt.subplots(1, 2, figsize=(12,6))    \n",
    "    axs[0].bar(x, f_x, width=0.2, )\n",
    "    axs[0].set_title(\"PDF Unifrome Discreta\")\n",
    "    axs[1].step(x, F_x)\n",
    "    axs[1].set_title(\"CDF Uniforme Discreta\")"
   ]
  },
  {
   "cell_type": "code",
   "execution_count": 98,
   "metadata": {},
   "outputs": [
    {
     "data": {
      "image/png": "[encoded data removed]",
      "text/plain": [
       "<Figure size 864x432 with 2 Axes>"
      ]
     },
     "metadata": {
      "needs_background": "light"
     },
     "output_type": "display_data"
    }
   ],
   "source": [
    "grafica_pdf_and_cdf_uniform(10)"
   ]
  },
  {
   "cell_type": "markdown",
   "metadata": {},
   "source": [
    "c) Simulación de muestras"
   ]
  },
  {
   "cell_type": "code",
   "execution_count": 134,
   "metadata": {},
   "outputs": [
    {
     "data": {
      "text/plain": [
       "array([[   1,    2,    3,    4,    5,    6,    7,    8,    9,   10],\n",
       "       [ 957,  999, 1015,  990, 1042,  952, 1039, 1009,  986, 1011]])"
      ]
     },
     "execution_count": 134,
     "metadata": {},
     "output_type": "execute_result"
    }
   ],
   "source": [
    "np.random.seed(13)\n",
    "muestra = np.random.choice(range(1,11),10000)\n",
    "np.array(np.unique(muestra, return_counts=True))"
   ]
  },
  {
   "cell_type": "code",
   "execution_count": 139,
   "metadata": {},
   "outputs": [
    {
     "name": "stdout",
     "output_type": "stream",
     "text": [
      "La media es: 5.5211\n",
      "La varianza es: 8.18775479\n"
     ]
    }
   ],
   "source": [
    "print(\"La media es:\", np.mean(muestra))\n",
    "print(\"La varianza es:\", np.var(muestra))"
   ]
  },
  {
   "cell_type": "code",
   "execution_count": 140,
   "metadata": {},
   "outputs": [
    {
     "data": {
      "image/png": "[encoded data removed]",
      "text/plain": [
       "<Figure size 432x288 with 1 Axes>"
      ]
     },
     "metadata": {
      "needs_background": "light"
     },
     "output_type": "display_data"
    }
   ],
   "source": [
    "plt.hist(muestra)\n",
    "plt.title(\"Histograma del experimento\")\n",
    "plt.show()"
   ]
  },
  {
   "cell_type": "code",
   "execution_count": null,
   "metadata": {},
   "outputs": [],
   "source": []
  }
 ],
 "metadata": {
  "kernelspec": {
   "display_name": "Python 3",
   "language": "python",
   "name": "python3"
  },
  "language_info": {
   "codemirror_mode": {
    "name": "ipython",
    "version": 3
   },
   "file_extension": ".py",
   "mimetype": "text/x-python",
   "name": "python",
   "nbconvert_exporter": "python",
   "pygments_lexer": "ipython3",
   "version": "3.7.3"
  }
 },
 "nbformat": 4,
 "nbformat_minor": 2
}
