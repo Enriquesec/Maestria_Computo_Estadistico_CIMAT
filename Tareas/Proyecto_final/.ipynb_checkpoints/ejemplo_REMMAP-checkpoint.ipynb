{
 "cells": [
  {
   "cell_type": "code",
   "execution_count": 1,
   "metadata": {},
   "outputs": [],
   "source": [
    "from utilis import *\n",
    "import pandas as pd\n",
    "from matplotlib import pyplot as plt\n",
    "from sklearn import linear_model\n",
    "from sklearn import datasets\n",
    "from sklearn.datasets import make_regression\n",
    "from sklearn.model_selection import train_test_split\n",
    "from sklearn.linear_model import LinearRegression\n",
    "\n",
    "from sklearn.preprocessing import StandardScaler\n",
    "estandarizar=StandardScaler()"
   ]
  },
  {
   "cell_type": "markdown",
   "metadata": {},
   "source": [
    "### USO DE DATOS SINTETICOS"
   ]
  },
  {
   "cell_type": "code",
   "execution_count": 70,
   "metadata": {},
   "outputs": [],
   "source": [
    "# creamos el conjunto de datos.\n",
    "X,Y=make_regression(n_samples=20,n_features=100, n_targets=5,n_informative=4,random_state=6)\n",
    "\n",
    "# partimos el conjunto de datos.\n",
    "X_train, X_test, y_train, y_test = train_test_split(X, Y, test_size=0.5, random_state=6)#\n",
    "\n",
    "# estandarizamos.\n",
    "X_train=estandarizar.fit_transform(X_train)\n",
    "X_test=estandarizar.transform(X_test)\n",
    "y_train=estandarizar.fit_transform(y_train)\n",
    "y_test=estandarizar.transform(y_test)\n",
    "\n",
    "#Notemos que y es estandarizada, pues la formulación del algoritmo MRCE lo exige\n",
    "#y si queremos compararlas con el algoritmo REMMAP, tambien deberias hacer lo mismo"
   ]
  },
  {
   "cell_type": "markdown",
   "metadata": {},
   "source": [
    "### Ejemplo de REMMAP considerando $\\lambda_2$ = 0."
   ]
  },
  {
   "cell_type": "code",
   "execution_count": 72,
   "metadata": {
    "scrolled": false
   },
   "outputs": [
    {
     "name": "stdout",
     "output_type": "stream",
     "text": [
      "26.473709676976995\n"
     ]
    },
    {
     "data": {
      "text/plain": [
       "40"
      ]
     },
     "execution_count": 72,
     "metadata": {},
     "output_type": "execute_result"
    }
   ],
   "source": [
    "# calculamos B usando REMMAP.\n",
    "B=remMap_l1(matrizX=X_train,matrizY=y_train,l_1=0.1,tmax=10)\n",
    "\n",
    "# imprimimos el error MSE.\n",
    "print(np.sum((y_test-(X_test@B))**2))\n",
    "np.sum(np.sum(B!=0,0))"
   ]
  },
  {
   "cell_type": "markdown",
   "metadata": {},
   "source": [
    "### Comparacion utilizando Regresion Multivariada"
   ]
  },
  {
   "cell_type": "code",
   "execution_count": 65,
   "metadata": {},
   "outputs": [
    {
     "name": "stdout",
     "output_type": "stream",
     "text": [
      "55.85036009142471\n"
     ]
    },
    {
     "data": {
      "text/plain": [
       "500"
      ]
     },
     "execution_count": 65,
     "metadata": {},
     "output_type": "execute_result"
    }
   ],
   "source": [
    "################################\n",
    "#REGRESION NORMAL MULTIVARIADA\n",
    "################################\n",
    "reg = LinearRegression(fit_intercept=False).fit(X_train, y_train)\n",
    "print(np.sum((y_test-reg.predict(X_test))**2))\n",
    "np.sum(np.sum(np.absolute(reg.coef_)!=0,1))"
   ]
  },
  {
   "cell_type": "markdown",
   "metadata": {},
   "source": [
    "### Ejemplo de REMMAP considerando $\\lambda_2\\neq 0.$"
   ]
  },
  {
   "cell_type": "code",
   "execution_count": 74,
   "metadata": {},
   "outputs": [
    {
     "name": "stdout",
     "output_type": "stream",
     "text": [
      "15.645286006291386\n"
     ]
    },
    {
     "data": {
      "text/plain": [
       "25"
      ]
     },
     "execution_count": 74,
     "metadata": {},
     "output_type": "execute_result"
    }
   ],
   "source": [
    "# calculamos B usando REMMAP.\n",
    "B=remMap(matrizX=X_train,matrizY=y_train,l_1=.000000001,l_2=.1,tmax=40)\n",
    "\n",
    "# imprimimos el error MSE.\n",
    "print(np.sum((y_test-(X_test@B))**2))\n",
    "np.sum(np.sum(B!=0,0))"
   ]
  },
  {
   "cell_type": "markdown",
   "metadata": {},
   "source": [
    "### Ejemplo considerando datos reales"
   ]
  },
  {
   "cell_type": "code",
   "execution_count": 77,
   "metadata": {},
   "outputs": [
    {
     "name": "stdout",
     "output_type": "stream",
     "text": [
      "(2215, 142)\n",
      "(302, 142)\n"
     ]
    }
   ],
   "source": [
    "df = pd.read_csv('C:\\\\Users\\\\Victor\\\\Downloads\\\\datosusa.txt', delimiter = \",\",header=None)\n",
    "k=np.arange(5,147)\n",
    "df=(df.iloc[:,k])   #quitamos las primeras 5\n",
    "print(df.shape)\n",
    "df=df.iloc[(np.sum(df=='?',1)==0).to_numpy(),:]\n",
    "print(df.shape)"
   ]
  },
  {
   "cell_type": "code",
   "execution_count": 78,
   "metadata": {},
   "outputs": [
    {
     "name": "stdout",
     "output_type": "stream",
     "text": [
      "\n",
      "\n"
     ]
    }
   ],
   "source": [
    "########\n",
    "###Amputar todos los renglones que tengan al menos un valor faltante\n",
    "########\n",
    "k=np.arange(0,124)\n",
    "X=df.iloc[:,k]\n",
    "k=np.arange(124,142)\n",
    "Y=df.iloc[:,k]\n",
    "X=X.astype('float')\n",
    "Y=Y.astype('float')\n",
    "from sklearn.model_selection import train_test_split\n",
    "X_train, X_test, y_train, y_test = train_test_split(X, Y, test_size=0.5, random_state=6)#\n",
    "X_train=estandarizar.fit_transform(X_train)\n",
    "X_test=estandarizar.transform(X_test)\n",
    "y_train=estandarizar.fit_transform(y_train)\n",
    "y_test=estandarizar.transform(y_test)\n",
    "print()\n",
    "print()"
   ]
  },
  {
   "cell_type": "code",
   "execution_count": 79,
   "metadata": {},
   "outputs": [
    {
     "name": "stdout",
     "output_type": "stream",
     "text": [
      "EL mejor valor de lamdba es:\n",
      "0.251\n",
      "EL error mas pequeño es:\n",
      "3325.7118007079926\n"
     ]
    },
    {
     "data": {
      "text/plain": [
       "[<matplotlib.lines.Line2D at 0x1d975e7f430>]"
      ]
     },
     "execution_count": 79,
     "metadata": {},
     "output_type": "execute_result"
    },
    {
     "data": {
      "image/png": "[encoded data removed]",
      "text/plain": [
       "<Figure size 432x288 with 1 Axes>"
      ]
     },
     "metadata": {
      "needs_background": "light"
     },
     "output_type": "display_data"
    }
   ],
   "source": [
    "malla=np.arange(0.001,.5,0.05) ; best=10**6 ; mejor_lambda=0 ;evaluacion=[]\n",
    "for i in malla:\n",
    "    ###REMMAP_L1\n",
    "    B=remMap_l1(matrizX=X_train,matrizY=y_train,l_1=i,tmax=1)\n",
    "    evaluacion.append(np.sum((y_test-(X_test@B))**2))\n",
    "    if best>np.sum((y_test-(X_test@B))**2):\n",
    "        best=np.sum((y_test-(X_test@B))**2)\n",
    "        mejor_lambda=i\n",
    "print('EL mejor valor de lamdba es:')\n",
    "print(mejor_lambda)\n",
    "print('EL error mas pequeño es:')\n",
    "print(best)\n",
    "B=remMap_l1(matrizX=X_train,matrizY=y_train,l_1=mejor_lambda,tmax=1)\n",
    "np.where(B!=0)\n",
    "np.unique(np.where(B!=0)[1])\n",
    "plt.plot(malla,evaluacion)"
   ]
  },
  {
   "cell_type": "code",
   "execution_count": 13,
   "metadata": {},
   "outputs": [
    {
     "data": {
      "text/plain": [
       "array([ 0,  1,  2,  3,  4,  5,  6,  7,  8,  9, 10, 11, 12, 13, 14, 15, 16,\n",
       "       17], dtype=int64)"
      ]
     },
     "execution_count": 13,
     "metadata": {},
     "output_type": "execute_result"
    }
   ],
   "source": [
    "np.unique(np.where(B!=0)[1])"
   ]
  }
 ],
 "metadata": {
  "kernelspec": {
   "display_name": "Python 3",
   "language": "python",
   "name": "python3"
  },
  "language_info": {
   "codemirror_mode": {
    "name": "ipython",
    "version": 3
   },
   "file_extension": ".py",
   "mimetype": "text/x-python",
   "name": "python",
   "nbconvert_exporter": "python",
   "pygments_lexer": "ipython3",
   "version": "3.7.6"
  }
 },
 "nbformat": 4,
 "nbformat_minor": 4
}
