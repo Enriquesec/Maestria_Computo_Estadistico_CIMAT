{
 "cells": [
  {
   "cell_type": "code",
   "execution_count": 1,
   "metadata": {},
   "outputs": [],
   "source": [
    "from utilis import *\n",
    "from sklearn.preprocessing import StandardScaler\n",
    "from sklearn.datasets import make_regression\n",
    "from sklearn.model_selection import train_test_split"
   ]
  },
  {
   "cell_type": "markdown",
   "metadata": {},
   "source": [
    "### Ejemplo usando MRCE."
   ]
  },
  {
   "cell_type": "code",
   "execution_count": 2,
   "metadata": {
    "scrolled": true
   },
   "outputs": [
    {
     "name": "stdout",
     "output_type": "stream",
     "text": [
      "22.039204695192847\n"
     ]
    }
   ],
   "source": [
    "# generamos los datos sinteticos.\n",
    "X, Y = make_regression(n_samples=20, n_features=100, n_targets=2, n_informative=4, random_state=6)\n",
    "\n",
    "# partimos el conjunto de datos\n",
    "X_train, X_test, Y_train, Y_test = train_test_split(X, Y, train_size=0.5, random_state=6)\n",
    "\n",
    "# estandarizamos.\n",
    "std = StandardScaler()\n",
    "stdy = StandardScaler()\n",
    "X_train = std.fit_transform(X_train)\n",
    "Y_train = stdy.fit_transform(Y_train)\n",
    "\n",
    "# calculamos los estimadores de B.\n",
    "B_t = mrce(X=X_train, Y=Y_train, lambda_1=0, lambda_2=0.1, epsilon=1e-3)\n",
    "\n",
    "# imprimimos el error MSE.\n",
    "print(np.sum(np.abs(stdy.transform(Y_test)-std.transform(X_test)@B_t)**2))"
   ]
  }
 ],
 "metadata": {
  "kernelspec": {
   "display_name": "Python 3",
   "language": "python",
   "name": "python3"
  },
  "language_info": {
   "codemirror_mode": {
    "name": "ipython",
    "version": 3
   },
   "file_extension": ".py",
   "mimetype": "text/x-python",
   "name": "python",
   "nbconvert_exporter": "python",
   "pygments_lexer": "ipython3",
   "version": "3.7.6"
  }
 },
 "nbformat": 4,
 "nbformat_minor": 4
}
