{
 "cells": [
  {
   "cell_type": "markdown",
   "metadata": {
    "slideshow": {
     "slide_type": "slide"
    }
   },
   "source": [
    "# Inferencia Estadística\n",
    "## Estimación de densidad no paramétrica (EDNP)\n",
    "Víctor Muñiz. Septiembre 2020."
   ]
  },
  {
   "cell_type": "markdown",
   "metadata": {
    "slideshow": {
     "slide_type": "slide"
    }
   },
   "source": [
    "## Introducción.\n",
    "  \n",
    "Dada una secuencia de variables aleatorias independientes e identicamente distribuidas $x_1, x_2, \\ldots x_n$ con función de densidad comúnn $f(x)$,\n",
    "  \n",
    "- ¿Cómo podemos estimar $f(x)$? \n",
    "  \n",
    "  (Parzen, E. *On estimation of a Probability Density Function and Mode*, 1962)\n"
   ]
  },
  {
   "cell_type": "markdown",
   "metadata": {
    "slideshow": {
     "slide_type": "subslide"
    }
   },
   "source": [
    "**Un esquema tradicional de análisis de datos.**\n",
    "\n",
    "Ejemplo: Estimación de la velocidad de la luz experimentalmente (Michaelson & Morley, 1986).\n",
    "\n",
    "<img src=\"n1.png\" height=\"40%\" width=\"40%\"/>"
   ]
  },
  {
   "cell_type": "markdown",
   "metadata": {
    "slideshow": {
     "slide_type": "subslide"
    }
   },
   "source": [
    "**Un esquema tradicional de análisis de datos.**\n",
    "\n",
    "Ejemplo: Estimación de la velocidad de la luz experimentalmente (Michaelson & Morley, 1986).\n",
    "\n",
    "<img src=\"n2.png\" height=\"40%\" width=\"40%\"/>\n",
    "\n",
    "- Estimamos su densidad"
   ]
  },
  {
   "cell_type": "markdown",
   "metadata": {
    "slideshow": {
     "slide_type": "subslide"
    }
   },
   "source": [
    "**Un esquema tradicional de análisis de datos.**\n",
    "\n",
    "Ejemplo: Estimación de la velocidad de la luz experimentalmente (Michaelson & Morley, 1986).\n",
    "\n",
    "<img src=\"n2.png\" height=\"40%\" width=\"40%\"/>\n",
    "\n",
    "- ¿Qué modelo es el adecuado? \n",
    "    - Esto dependerá de varios factores, por ejemplo, la naturaleza de los datos, el conocimiento apriori del fenómeno estudiado o la experiencia del analista."
   ]
  },
  {
   "cell_type": "markdown",
   "metadata": {
    "slideshow": {
     "slide_type": "subslide"
    }
   },
   "source": [
    "**Un esquema tradicional de análisis de datos.**\n",
    "\n",
    "Ejemplo: Estimación de la velocidad de la luz experimentalmente (Michaelson & Morley, 1986).\n",
    "\n",
    "<img src=\"n3.png\" height=\"40%\" width=\"40%\"/>\n",
    "\n",
    "- Ajustemos un modelo normal, los parámetros $\\theta=(\\mu,\\sigma)$ los estimamos de la muestra."
   ]
  },
  {
   "cell_type": "markdown",
   "metadata": {
    "cell_style": "center",
    "slideshow": {
     "slide_type": "subslide"
    }
   },
   "source": [
    "**Un esquema tradicional de análisis de datos.**\n",
    "\n",
    "- Bajo éste esquema, todo el conocimiento que obtengamos del fenómeno bajo estudio proviene de **EL modelo** que escojamos, que a su vez nos proveé **LA función** de densidad de los datos.\n",
    "\n",
    "- La modelación estadı́stica tradicional escoge algún modelo paramétrico conocido para $f(x)$, por ejemplo, Normal, Gamma, Exponencial, etc...\n",
    "\n",
    "- Esto tiene mucho sentido para fenómenos muy estudiados y analizados (estudios de confiabilidad, por ejemplo) \n",
    "\n",
    "- Sin embargo, para fenómenos o datos más complejos, no siempre es conveniente o válido suponer una distribución de antemano. Verás muchos ejemplos más adelante."
   ]
  },
  {
   "cell_type": "markdown",
   "metadata": {
    "cell_style": "center",
    "slideshow": {
     "slide_type": "slide"
    }
   },
   "source": [
    "## EDNP\n",
    "\n",
    "En EDNP, no hacemos supuestos distribucionales sobre los datos.\n",
    "\n",
    "Dado un conjunto de datos $\\mathbf{X}\\in \\mathbb{R}^d$ (por simplicidad, empezaremos consideraremos el caso univariado):\n",
    "\n",
    "\\begin{equation*}\n",
    "    \\mathbf{x}=(x_1,x_2,\\ldots,x_n)\\sim f(\\mathbf{x}),\n",
    "\\end{equation*}\n",
    "\n",
    "queremos estimar **UNA** distribuci\\'on de densidad $\\hat{f}(\\mathbf{x})$ que aproxime a $f(\\mathbf{x})$ tal que\n",
    "\n",
    "\\begin{equation*}\n",
    "    \\hat{f}(\\mathbf{x})\\geq 0\n",
    "\\end{equation*}\n",
    "\n",
    "\\begin{equation*}\n",
    "    \\int_{\\mathbb{R}} \\hat{f}(\\mathbf{x})d\\mathbf{x}=1,\n",
    "\\end{equation*}\n",
    "\n",
    "(*bona fide* density). "
   ]
  },
  {
   "cell_type": "markdown",
   "metadata": {
    "slideshow": {
     "slide_type": "subslide"
    }
   },
   "source": [
    "¿Qué nos gustaría de $\\hat{f}(\\mathbf{x})$?"
   ]
  },
  {
   "cell_type": "markdown",
   "metadata": {
    "slideshow": {
     "slide_type": "fragment"
    }
   },
   "source": [
    "Que se parezcan: \n",
    "\n",
    "\\begin{equation*}\n",
    "    E\\hat{f}(\\mathbf{x})=f(\\mathbf{x}).\n",
    "\\end{equation*}\n",
    "    \n",
    "Si $\\hat{f}(\\mathbf{x})$ es una estimaci\\'on basada en una muestra de tamaño $n$, ésta característica nos asegura que\n",
    "\\begin{equation*}\n",
    "    E\\hat{f}(\\mathbf{x}) \\rightarrow f(\\mathbf{x}) \\text{ cuando } n\\rightarrow \\infty\n",
    "\\end{equation*}\n",
    "\n",
    "(insesgado)"
   ]
  },
  {
   "cell_type": "markdown",
   "metadata": {
    "slideshow": {
     "slide_type": "subslide"
    }
   },
   "source": [
    "¿Qué nos gustaría de $\\hat{f}(\\mathbf{x})$?\n",
    "\n",
    "Que converja a la vedadera distribución:\n",
    "\n",
    "\\begin{equation*}\n",
    "    \\hat{f}(\\mathbf{x}) \\overset{P}{\\rightarrow} f(\\mathbf{x})\n",
    "\\end{equation*}\n",
    "    \n",
    "(consistente)"
   ]
  },
  {
   "cell_type": "markdown",
   "metadata": {
    "slideshow": {
     "slide_type": "fragment"
    }
   },
   "source": [
    "Para esto, debemos definir una forma de medir la diferencia entre ambas distribuciones..."
   ]
  },
  {
   "cell_type": "markdown",
   "metadata": {
    "slideshow": {
     "slide_type": "slide"
    }
   },
   "source": [
    "## El histograma\n",
    "\n",
    "Es quizá el método no paramétrico más usado para estimar y visualizar una densidad. El método es muy simple.\n",
    "\n",
    "Supongamos que $\\mathbf{x}\\in [a,b]$\n",
    "\n",
    "- Crea una partición fija de $M$ celdas disjuntas $T_0, T_1,\\ldots,T_{M-1}$ que comprendan el intervalo $[a,b]$, cada una con un ancho $h$.\n",
    "- La densidad se estima mediante:\n",
    "\\begin{equation*}\n",
    "  \\hat{f}(x)=\\displaystyle \\frac{1}{nh}\\sum_{m=0}^{M-1}N_mI_{T_m}(x),\n",
    "\\end{equation*}\n",
    "    donde\n",
    "     - $I_{T_m}$ es la función indicadora del intervalo $m$,\n",
    "     - $N_m=\\sum_{i=1}^n I_{T_m}(x_i)$, es decir, el número de valores que caen en la celda $T_m$"
   ]
  },
  {
   "cell_type": "markdown",
   "metadata": {
    "slideshow": {
     "slide_type": "subslide"
    }
   },
   "source": [
    "Las desventajas del histograma como un estimador de la densidad han sido mencionadas por varios autores. Por ejemplo:\n",
    "\n",
    "- Celdas fijas\n",
    "- Discontinuidades en las fronteras de las celdas\n",
    "- Selección del origen del histograma"
   ]
  },
  {
   "cell_type": "markdown",
   "metadata": {
    "slideshow": {
     "slide_type": "subslide"
    }
   },
   "source": [
    "Ejemplo: \n",
    "NYC flights 2013. Registros de vuelos saliendo del aeropuerto de NYC (Hadley Wickham, 2018)"
   ]
  },
  {
   "cell_type": "code",
   "execution_count": 277,
   "metadata": {
    "slideshow": {
     "slide_type": "fragment"
    }
   },
   "outputs": [
    {
     "data": {
      "text/html": [
       "<div>\n",
       "<style scoped>\n",
       "    .dataframe tbody tr th:only-of-type {\n",
       "        vertical-align: middle;\n",
       "    }\n",
       "\n",
       "    .dataframe tbody tr th {\n",
       "        vertical-align: top;\n",
       "    }\n",
       "\n",
       "    .dataframe thead th {\n",
       "        text-align: right;\n",
       "    }\n",
       "</style>\n",
       "<table border=\"1\" class=\"dataframe\">\n",
       "  <thead>\n",
       "    <tr style=\"text-align: right;\">\n",
       "      <th></th>\n",
       "      <th>arr_delay</th>\n",
       "      <th>carrier</th>\n",
       "      <th>name</th>\n",
       "    </tr>\n",
       "  </thead>\n",
       "  <tbody>\n",
       "    <tr>\n",
       "      <th>0</th>\n",
       "      <td>11.0</td>\n",
       "      <td>UA</td>\n",
       "      <td>United Air Lines Inc.</td>\n",
       "    </tr>\n",
       "    <tr>\n",
       "      <th>1</th>\n",
       "      <td>20.0</td>\n",
       "      <td>UA</td>\n",
       "      <td>United Air Lines Inc.</td>\n",
       "    </tr>\n",
       "    <tr>\n",
       "      <th>2</th>\n",
       "      <td>33.0</td>\n",
       "      <td>AA</td>\n",
       "      <td>American Airlines Inc.</td>\n",
       "    </tr>\n",
       "    <tr>\n",
       "      <th>3</th>\n",
       "      <td>-18.0</td>\n",
       "      <td>B6</td>\n",
       "      <td>JetBlue Airways</td>\n",
       "    </tr>\n",
       "    <tr>\n",
       "      <th>4</th>\n",
       "      <td>-25.0</td>\n",
       "      <td>DL</td>\n",
       "      <td>Delta Air Lines Inc.</td>\n",
       "    </tr>\n",
       "  </tbody>\n",
       "</table>\n",
       "</div>"
      ],
      "text/plain": [
       "   arr_delay carrier                    name\n",
       "0       11.0      UA   United Air Lines Inc.\n",
       "1       20.0      UA   United Air Lines Inc.\n",
       "2       33.0      AA  American Airlines Inc.\n",
       "3      -18.0      B6         JetBlue Airways\n",
       "4      -25.0      DL    Delta Air Lines Inc."
      ]
     },
     "execution_count": 277,
     "metadata": {},
     "output_type": "execute_result"
    }
   ],
   "source": [
    "import pandas as pd\n",
    "import numpy as np\n",
    "import matplotlib.pyplot as plt\n",
    "plt.style.use('seaborn-white')\n",
    "\n",
    "flights = pd.read_csv('complete_flights.csv', index_col=0)[['arr_delay', 'carrier', 'name']]\n",
    "flights.dropna(inplace=True)\n",
    "flights.head()"
   ]
  },
  {
   "cell_type": "code",
   "execution_count": 278,
   "metadata": {
    "slideshow": {
     "slide_type": "subslide"
    }
   },
   "outputs": [],
   "source": [
    "import ipywidgets as widgets\n",
    "from IPython.display import display\n",
    "from ipywidgets import interactive, fixed\n",
    "\n",
    "def select_values(array):\n",
    "    unique = array.unique().tolist()\n",
    "    unique.sort()\n",
    "    return unique\n",
    "\n",
    "def plot_hist(h_bins, h_range, aerolinea):\n",
    "    data_flights = flights.loc[flights.name == aerolinea,'arr_delay'].to_numpy()\n",
    "    num_bins = int((h_range[1]-h_range[0])/h_bins)\n",
    "    plt.hist(data_flights, range = h_range, bins = num_bins, density = True, alpha=0.5, \n",
    "                     histtype='stepfilled', color='steelblue', edgecolor='none')    \n",
    "    plt.title('Histograma')\n",
    "    plt.show()"
   ]
  },
  {
   "cell_type": "code",
   "execution_count": 279,
   "metadata": {
    "slideshow": {
     "slide_type": "subslide"
    }
   },
   "outputs": [],
   "source": [
    "hist_bin = widgets.IntSlider(\n",
    "    value=5,\n",
    "    min=1,\n",
    "    max=30,\n",
    "    step=1,\n",
    "    description='Bin (min)',\n",
    "    disabled=False,\n",
    "    continuous_update=True,\n",
    "    orientation='horizontal',\n",
    "    readout=True,\n",
    "    readout_format='d'\n",
    ")\n",
    "\n",
    "hist_range = widgets.IntRangeSlider(\n",
    "    value=init_range,\n",
    "    min=-60,\n",
    "    max=180,\n",
    "    step=5,\n",
    "    description='Range (min)',\n",
    "    disabled=False,\n",
    "    continuous_update=True,\n",
    "    orientation='horizontal',\n",
    "    readout=True,\n",
    "    readout_format='d',\n",
    ")\n",
    "dropdown_name = widgets.Dropdown(options = select_values(flights.name))"
   ]
  },
  {
   "cell_type": "code",
   "execution_count": 280,
   "metadata": {
    "slideshow": {
     "slide_type": "subslide"
    }
   },
   "outputs": [
    {
     "data": {
      "application/vnd.jupyter.widget-view+json": {
       "model_id": "09d1e9dded5e4c559ad68eea5c794c82",
       "version_major": 2,
       "version_minor": 0
      },
      "text/plain": [
       "interactive(children=(IntSlider(value=5, description='Bin (min)', max=30, min=1), IntRangeSlider(value=(-60, 1…"
      ]
     },
     "metadata": {},
     "output_type": "display_data"
    }
   ],
   "source": [
    "interactive_plot = interactive(plot_hist, aerolinea = dropdown_name, h_bins = hist_bin, h_range = hist_range)\n",
    "output = interactive_plot.children[-1]\n",
    "#output.layout.height = '350px'\n",
    "interactive_plot"
   ]
  },
  {
   "cell_type": "markdown",
   "metadata": {
    "slideshow": {
     "slide_type": "slide"
    }
   },
   "source": [
    "## Estimación usando un kernel (KDE)"
   ]
  },
  {
   "cell_type": "markdown",
   "metadata": {
    "slideshow": {
     "slide_type": "fragment"
    }
   },
   "source": [
    "### KDE univariado\n",
    "\n",
    "Es el método mas popular. Para el caso univariado, el KDE está dado por\n",
    "\n",
    "\\begin{equation*}\n",
    "    \\hat{f}(x)=\\displaystyle \\frac{1}{nh}\\sum_{i=1}^n \n",
    "    K\\left(\\frac{x-x_i}{h}\\right), \\qquad x\\in \\mathbb{R}, h>0.\n",
    "\\end{equation*}\n",
    "\n",
    "$K$ es la función Kernel, y $h$ es el **ancho de banda**, que determina la suavidad de la estimación.\n",
    "\n",
    "Bajo condiciones no muy restrictivas ($h$ debe decrecer cuando $n$ aumenta), puede mostrarse que KDE converge en probabilidad a la verdadera densidad."
   ]
  },
  {
   "cell_type": "markdown",
   "metadata": {
    "slideshow": {
     "slide_type": "subslide"
    }
   },
   "source": [
    "<img src=\"kde1.png\" height=\"65%\" width=\"65%\"/>"
   ]
  },
  {
   "cell_type": "markdown",
   "metadata": {
    "slideshow": {
     "slide_type": "subslide"
    }
   },
   "source": [
    "Dado un kernel K y un ancho de banda h, la KDE es *única* para un conjunto de datos especı́fico, entonces, **no depende** de la selección del origen, como pasa con los histogramas."
   ]
  },
  {
   "cell_type": "markdown",
   "metadata": {
    "slideshow": {
     "slide_type": "fragment"
    }
   },
   "source": [
    "**El Kernel $K$**\n",
    "\n",
    "- Puede ser una función de densidad también, generalmente se selecciona una función unimodal y simétrica.\n",
    "- El centro del kernel se coloca sobre cada dato $x_i$\n",
    "- La influencia de cada dato se propaga en su vecindad\n",
    "- La contribución de cada punto se suma para la estimación total"
   ]
  },
  {
   "cell_type": "markdown",
   "metadata": {
    "slideshow": {
     "slide_type": "subslide"
    }
   },
   "source": [
    "Kernels generalmente usados (python, R)"
   ]
  },
  {
   "cell_type": "code",
   "execution_count": 281,
   "metadata": {
    "slideshow": {
     "slide_type": "fragment"
    }
   },
   "outputs": [],
   "source": [
    "X_plot = np.linspace(-6, 6, 1000)[:, None]\n",
    "X_src = np.zeros((1, 1))\n",
    "\n",
    "def format_func(x, loc):\n",
    "    if x == 0:\n",
    "        return '0'\n",
    "    elif x == 1:\n",
    "        return 'h'\n",
    "    elif x == -1:\n",
    "        return '-h'\n",
    "    else:\n",
    "        return '%ih' % x"
   ]
  },
  {
   "cell_type": "code",
   "execution_count": 300,
   "metadata": {
    "scrolled": false,
    "slideshow": {
     "slide_type": "subslide"
    }
   },
   "outputs": [
    {
     "data": {
      "text/plain": [
       "Text(0.5, 1.0, 'Available Kernels')"
      ]
     },
     "execution_count": 300,
     "metadata": {},
     "output_type": "execute_result"
    },
    {
     "data": {
      "image/png": "[encoded data removed]",
      "text/plain": [
       "<Figure size 576x504 with 6 Axes>"
      ]
     },
     "metadata": {},
     "output_type": "display_data"
    }
   ],
   "source": [
    "fig, ax = plt.subplots(2, 3, figsize=(8, 7), sharex=True, sharey=True)\n",
    "fig.subplots_adjust(left=0.05, right=0.95, hspace=0.05, wspace=0.05)\n",
    "\n",
    "for i, kernel in enumerate(['gaussian', 'tophat', 'epanechnikov',\n",
    "                            'exponential', 'linear', 'cosine']):\n",
    "    axi = ax.ravel()[i]\n",
    "    log_dens = KernelDensity(kernel=kernel).fit(X_src).score_samples(X_plot)\n",
    "    axi.fill(X_plot[:, 0], np.exp(log_dens), '-k', fc='#AAAAFF')\n",
    "    axi.text(-2.6, 0.95, kernel)\n",
    "    axi.xaxis.set_major_formatter(plt.FuncFormatter(format_func))\n",
    "    axi.xaxis.set_major_locator(plt.MultipleLocator(1))\n",
    "    axi.yaxis.set_major_locator(plt.NullLocator())\n",
    "    axi.set_ylim(0, 1.05)\n",
    "    axi.set_xlim(-2.9, 2.9)\n",
    "\n",
    "ax[0, 1].set_title('Available Kernels')"
   ]
  },
  {
   "cell_type": "markdown",
   "metadata": {
    "slideshow": {
     "slide_type": "subslide"
    }
   },
   "source": [
    "Más importante que el Kernel, es la elección del ancho de banda.\n",
    "\n",
    "**El ancho de banda $h$**\n",
    "\n",
    "- Es un factor de escala\n",
    "- Controla la suavidad o rugosidad de la estimación\n",
    "- Introducimos un concepto importante: sobreestimación (o sobreajuste)\n",
    "- Esto a su vez, lleva a otro concepto aún mas importante: *Bias-Variance tradeoff*"
   ]
  },
  {
   "cell_type": "markdown",
   "metadata": {
    "slideshow": {
     "slide_type": "subslide"
    }
   },
   "source": [
    "¿Cómo elegimos $h$?\n",
    "\n",
    "- A “ojo” (¿qué quieres ver?)"
   ]
  },
  {
   "cell_type": "code",
   "execution_count": 283,
   "metadata": {
    "slideshow": {
     "slide_type": "fragment"
    }
   },
   "outputs": [],
   "source": [
    "from sklearn.neighbors import KernelDensity\n",
    "\n",
    "def plot_kde1(h_bins, h_range, aerolinea, kern, h):\n",
    "    data_flights = flights.loc[flights.name == aerolinea,'arr_delay'].to_numpy()\n",
    "    \n",
    "    x_grid = np.linspace(-60, 180, 5000)[:, np.newaxis]    \n",
    "    kde = KernelDensity(bandwidth=h, kernel=kern)\n",
    "    kde.fit(data_flights[:, np.newaxis])\n",
    "    pdf = np.exp(kde.score_samples(x_grid))\n",
    "       \n",
    "    fig, ax = plt.subplots(figsize=(5, 4), subplot_kw={'facecolor':'#EEEEEE','axisbelow':True})\n",
    "    num_bins = int((h_range[1]-h_range[0])/h_bins)    \n",
    "    ax.hist(data_flights, range = h_range, bins = num_bins, density = True, alpha=0.5, \n",
    "                     histtype='stepfilled', color='steelblue', edgecolor='none')\n",
    "    ax.plot(x_grid, pdf, '-k', lw=2, alpha=0.5)    \n",
    "            \n",
    "    return fig"
   ]
  },
  {
   "cell_type": "code",
   "execution_count": 284,
   "metadata": {
    "slideshow": {
     "slide_type": "subslide"
    }
   },
   "outputs": [],
   "source": [
    "hist_bin = widgets.IntSlider(\n",
    "    value=5,\n",
    "    min=1,\n",
    "    max=30,\n",
    "    step=1,\n",
    "    description='Bin (min)',\n",
    "    disabled=False,\n",
    "    continuous_update=False,\n",
    "    orientation='horizontal',\n",
    "    readout=True,\n",
    "    readout_format='d'\n",
    ")\n",
    "\n",
    "hist_range = widgets.IntRangeSlider(\n",
    "    value=init_range,\n",
    "    min=-60,\n",
    "    max=180,\n",
    "    step=5,\n",
    "    description='Range (min)',\n",
    "    disabled=False,\n",
    "    continuous_update=False,\n",
    "    orientation='horizontal',\n",
    "    readout=True,\n",
    "    readout_format='d',\n",
    ")"
   ]
  },
  {
   "cell_type": "code",
   "execution_count": 285,
   "metadata": {
    "slideshow": {
     "slide_type": "subslide"
    }
   },
   "outputs": [],
   "source": [
    "kernel_h = widgets.FloatSlider(\n",
    "    value= 0.6,\n",
    "    min= 0.2,\n",
    "    max= 20,\n",
    "    step= 0.2,\n",
    "    description='bandwidth',\n",
    "    disabled=False,\n",
    "    continuous_update=False,\n",
    "    orientation='horizontal',\n",
    "    readout=True,\n",
    ")\n",
    "\n",
    "dropdown_name = widgets.Dropdown(options = select_values(flights.name))\n",
    "\n",
    "dropdown_kernel = widgets.Dropdown(options = ['gaussian', 'tophat', 'epanechnikov', 'exponential', \n",
    "                                              'linear', 'cosine'], value = 'gaussian', description='Kernel:')"
   ]
  },
  {
   "cell_type": "code",
   "execution_count": 286,
   "metadata": {
    "slideshow": {
     "slide_type": "subslide"
    }
   },
   "outputs": [
    {
     "data": {
      "application/vnd.jupyter.widget-view+json": {
       "model_id": "68d5b39d03964bdb8bb3b14648627d6d",
       "version_major": 2,
       "version_minor": 0
      },
      "text/plain": [
       "interactive(children=(IntSlider(value=5, continuous_update=False, description='Bin (min)', max=30, min=1), Int…"
      ]
     },
     "metadata": {},
     "output_type": "display_data"
    }
   ],
   "source": [
    "interactive_plot = interactive(plot_kde1, aerolinea = dropdown_name, h_bins = hist_bin, h_range = hist_range,\n",
    "                              kern = dropdown_kernel, h = kernel_h)\n",
    "output = interactive_plot.children[-1]\n",
    "#output.layout.height = '350px'\n",
    "interactive_plot"
   ]
  },
  {
   "cell_type": "markdown",
   "metadata": {
    "slideshow": {
     "slide_type": "subslide"
    }
   },
   "source": [
    "¿Cómo elegimos $h$?\n",
    "\n",
    "- A “ojo” (¿qué quieres ver?)\n",
    "- Dos criterios:\n",
    "    - Normal scale rule (también conocida como “rule of thumb”)\n",
    "    - Validación cruzada (CV)"
   ]
  },
  {
   "cell_type": "markdown",
   "metadata": {
    "slideshow": {
     "slide_type": "subslide"
    }
   },
   "source": [
    "Criterios para elegir $h$\n",
    "\n",
    "- Mean Square Error (MSE)\n",
    "- Integrated Squared Error (ISE)\n",
    "- Mean Integrated Squared Error (MISE)"
   ]
  },
  {
   "cell_type": "markdown",
   "metadata": {
    "slideshow": {
     "slide_type": "subslide"
    }
   },
   "source": [
    "Criterios para elegir $h$\n",
    "\n",
    "- Normal scale rule (también conocida como “rule of thumb”)\n",
    "    - Asume que $f$ es Normal, y calcula $h$ óptima que minimice MISE según este supuesto.\n",
    "    - Puede mostrarse que, si usamos un kernel Gaussiano, el $h$ óptimo bajo este esquema es $ h^{ROT}=1.06 s n^{-1/5}$, con $s$ es la estimaci\\'on de $\\sigma$.\n",
    "    - La opción por default en la mayoría de softwares\n",
    "    - Bien para un primer vistazo, pero tiende a suavizar de mas cuando $f$ es multimodal o claramente no-Gaussiana.\n",
    "- Validación cruzada: utiliza el criterio *leave-one-out* CV."
   ]
  },
  {
   "cell_type": "markdown",
   "metadata": {
    "slideshow": {
     "slide_type": "subslide"
    }
   },
   "source": [
    "### KDE multivariado\n",
    "\n",
    "La extensi\\'on al caso multivariado es sencilla:\n",
    "\n",
    "  \\begin{equation*}\n",
    "    \\displaystyle \\hat{f}_\\mathbf{H}(\\mathbf{x})=\\frac{1}{n|\\mathbf{H}|}\\sum_{i=1}^n K(\\mathbf{H}^{-1}\n",
    "    (\\mathbf{x} - \\mathbf{x}_i)), \\quad \\quad \\mathbf{x}\\in \\mathbb{R}^d,\n",
    "  \\end{equation*}\n",
    "  \n",
    "donde $\\mathbf{H}$ es una matriz de $d\\times d$ no singular que generaliza el ancho de banda $h$, y $K$ es una función con media $\\mathbf{0}$ e integra 1."
   ]
  },
  {
   "cell_type": "markdown",
   "metadata": {
    "slideshow": {
     "slide_type": "subslide"
    }
   },
   "source": [
    "Ejemplo. Datos simulados."
   ]
  },
  {
   "cell_type": "code",
   "execution_count": 287,
   "metadata": {
    "slideshow": {
     "slide_type": "fragment"
    }
   },
   "outputs": [],
   "source": [
    "def kde2D(x, y, h):\n",
    "    xy = np.vstack([x,y])\n",
    "    d = xy.shape[0]\n",
    "    n = xy.shape[1]\n",
    "    # utilizo el kernel Gaussiano \n",
    "    kde = KernelDensity(bandwidth=h, metric='euclidean', kernel='gaussian', algorithm='ball_tree')\n",
    "    kde.fit(xy.T)\n",
    "    \n",
    "    xmin = x.min()\n",
    "    xmax = x.max()\n",
    "    ymin = y.min()\n",
    "    ymax = y.max()    \n",
    "    X, Y = np.mgrid[xmin:xmax:100j, ymin:ymax:100j]\n",
    "    positions = np.vstack([X.ravel(), Y.ravel()])\n",
    "    Z = np.reshape(np.exp(kde.score_samples(positions.T)), X.shape)\n",
    "\n",
    "    fig, ax = plt.subplots(figsize=(6, 6))\n",
    "    #ax.imshow(np.rot90(Z), cmap=plt.cm.viridis, extent=[xmin, xmax, ymin, ymax])\n",
    "    ax.pcolormesh(xx, yy, Z, shading = 'auto', cmap=plt.cm.viridis)\n",
    "    ax.scatter(x, y, s=2, facecolor = 'white') #, edgecolor='')\n",
    "    ax.set_xlabel('$x$')\n",
    "    ax.set_ylabel('$y$')\n",
    "    ax.set_title('KDE')\n",
    "    ax.set_xlim((-3,3))\n",
    "    ax.set_ylim((-3,3))\n",
    "    \n",
    "    return fig"
   ]
  },
  {
   "cell_type": "code",
   "execution_count": 288,
   "metadata": {
    "slideshow": {
     "slide_type": "subslide"
    }
   },
   "outputs": [],
   "source": [
    "# el parámetro en un slider\n",
    "kernel_h = widgets.FloatSlider(\n",
    "    value= 0.2,\n",
    "    min= 0.01,\n",
    "    max= 3,\n",
    "    step= 0.01,\n",
    "    description='bandwidth',\n",
    "    disabled=False,\n",
    "    continuous_update=False,\n",
    "    orientation='horizontal',\n",
    "    readout=True,\n",
    ")"
   ]
  },
  {
   "cell_type": "code",
   "execution_count": 289,
   "metadata": {
    "slideshow": {
     "slide_type": "subslide"
    }
   },
   "outputs": [
    {
     "data": {
      "application/vnd.jupyter.widget-view+json": {
       "model_id": "15b0241ea19542e5882f84aa65cd4a89",
       "version_major": 2,
       "version_minor": 0
      },
      "text/plain": [
       "interactive(children=(FloatSlider(value=0.2, continuous_update=False, description='bandwidth', max=3.0, min=0.…"
      ]
     },
     "metadata": {},
     "output_type": "display_data"
    }
   ],
   "source": [
    "# Genero algunos datos en 2 dimensiones\n",
    "N1 = np.random.normal(size=500)\n",
    "N2 = np.random.normal(scale=0.5, size=500)\n",
    "x = N1+N2\n",
    "y = N1-N2\n",
    "\n",
    "interactive_plot = interactive(kde2D, x=fixed(x), y=fixed(y), h=kernel_h)\n",
    "output = interactive_plot.children[-1]\n",
    "interactive_plot"
   ]
  },
  {
   "cell_type": "markdown",
   "metadata": {
    "slideshow": {
     "slide_type": "subslide"
    }
   },
   "source": [
    "### KDE como un modelo generativo"
   ]
  },
  {
   "cell_type": "code",
   "execution_count": 290,
   "metadata": {
    "slideshow": {
     "slide_type": "fragment"
    }
   },
   "outputs": [],
   "source": [
    "from sklearn.datasets import load_digits\n",
    "from sklearn.neighbors import KernelDensity\n",
    "from sklearn.decomposition import PCA\n",
    "from sklearn.model_selection import GridSearchCV\n",
    "\n",
    "# load the data\n",
    "digits = load_digits()\n",
    "data = digits.data"
   ]
  },
  {
   "cell_type": "markdown",
   "metadata": {
    "slideshow": {
     "slide_type": "subslide"
    }
   },
   "source": [
    "Los datos reales (digitos en tamaño 8 x 8 pixeles)"
   ]
  },
  {
   "cell_type": "code",
   "execution_count": 291,
   "metadata": {
    "slideshow": {
     "slide_type": "fragment"
    }
   },
   "outputs": [
    {
     "data": {
      "image/png": "[encoded data removed]",
      "text/plain": [
       "<Figure size 432x288 with 44 Axes>"
      ]
     },
     "metadata": {},
     "output_type": "display_data"
    }
   ],
   "source": [
    "real_data = digits.data[:44].reshape((4, 11, -1))\n",
    "# plot real digits and resampled digits\n",
    "fig, ax = plt.subplots(4, 11, subplot_kw=dict(xticks=[], yticks=[]))\n",
    "for j in range(11):\n",
    "    for i in range(4):\n",
    "        im = ax[i, j].imshow(real_data[i, j].reshape((8, 8)),\n",
    "                             cmap=plt.cm.binary, interpolation='nearest')\n",
    "        im.set_clim(0, 16)\n"
   ]
  },
  {
   "cell_type": "code",
   "execution_count": 297,
   "metadata": {
    "slideshow": {
     "slide_type": "subslide"
    }
   },
   "outputs": [],
   "source": [
    "def kde_digits(data, bw):\n",
    "    kde = KernelDensity(bandwidth=bw)\n",
    "    kde.fit(data)\n",
    "    # sample 44 new points from the data\n",
    "    new_data = kde.sample(44, random_state=0)\n",
    "    \n",
    "    new_data = new_data.reshape((4, 11, -1))\n",
    "    fig, ax = plt.subplots(4, 11, subplot_kw=dict(xticks=[], yticks=[]))\n",
    "    for j in range(11):\n",
    "        for i in range(4):\n",
    "            im = ax[i, j].imshow(new_data[i, j].reshape((8, 8)),\n",
    "                                 cmap=plt.cm.binary, interpolation='nearest')\n",
    "            im.set_clim(0, 16)\n",
    "\n",
    "    ax[0, 5].set_title('\"New\" digits drawn from the kernel density model')\n",
    "    \n",
    "    return fig\n",
    "    #plt.show()"
   ]
  },
  {
   "cell_type": "code",
   "execution_count": 298,
   "metadata": {
    "slideshow": {
     "slide_type": "subslide"
    }
   },
   "outputs": [],
   "source": [
    "kernel_h = widgets.FloatSlider(\n",
    "    value= 10,\n",
    "    min= 0.1,\n",
    "    max= 15,\n",
    "    step= 0.5,\n",
    "    description='bandwidth',\n",
    "    disabled=False,\n",
    "    continuous_update=False,\n",
    "    orientation='horizontal',\n",
    "    readout=True,\n",
    ")\n"
   ]
  },
  {
   "cell_type": "code",
   "execution_count": 299,
   "metadata": {
    "slideshow": {
     "slide_type": "subslide"
    }
   },
   "outputs": [
    {
     "data": {
      "application/vnd.jupyter.widget-view+json": {
       "model_id": "fbe2f3b6dee64bd9a7e559616654ef70",
       "version_major": 2,
       "version_minor": 0
      },
      "text/plain": [
       "interactive(children=(FloatSlider(value=10.0, continuous_update=False, description='bandwidth', max=15.0, min=…"
      ]
     },
     "metadata": {},
     "output_type": "display_data"
    }
   ],
   "source": [
    "interactive_plot = interactive(kde_digits, data=fixed(data), bw=kernel_h)\n",
    "output = interactive_plot.children[-1]\n",
    "#output.layout.height = '350px'\n",
    "interactive_plot"
   ]
  },
  {
   "cell_type": "markdown",
   "metadata": {
    "slideshow": {
     "slide_type": "subslide"
    }
   },
   "source": [
    "Usando validación cruzada para encontrar el $h$ óptimo"
   ]
  },
  {
   "cell_type": "code",
   "execution_count": 295,
   "metadata": {
    "slideshow": {
     "slide_type": "fragment"
    }
   },
   "outputs": [
    {
     "name": "stdout",
     "output_type": "stream",
     "text": [
      "best bandwidth: 1.8329807108324356\n"
     ]
    }
   ],
   "source": [
    "# use grid search cross-validation to optimize the bandwidth\n",
    "params = {'bandwidth': np.logspace(-1, 1, 20)}\n",
    "grid = GridSearchCV(KernelDensity(), params)\n",
    "grid.fit(data)\n",
    "\n",
    "print(\"best bandwidth: {0}\".format(grid.best_estimator_.bandwidth))\n",
    "# use the best estimator to compute the kernel density estimate\n",
    "kde = grid.best_estimator_\n",
    "\n",
    "# muestrea 44 nuevos digitos \n",
    "new_data = kde.sample(44, random_state=0)\n",
    "# turn data into a 4x11 grid\n",
    "new_data = new_data.reshape((4, 11, -1))\n",
    "real_data = digits.data[:44].reshape((4, 11, -1))"
   ]
  },
  {
   "cell_type": "code",
   "execution_count": 296,
   "metadata": {
    "slideshow": {
     "slide_type": "subslide"
    }
   },
   "outputs": [
    {
     "data": {
      "image/png": "[encoded data removed]",
      "text/plain": [
       "<Figure size 432x288 with 99 Axes>"
      ]
     },
     "metadata": {},
     "output_type": "display_data"
    }
   ],
   "source": [
    "# plot real digits and resampled digits\n",
    "fig, ax = plt.subplots(9, 11, subplot_kw=dict(xticks=[], yticks=[]))\n",
    "for j in range(11):\n",
    "    ax[4, j].set_visible(False)\n",
    "    for i in range(4):\n",
    "        im = ax[i, j].imshow(real_data[i, j].reshape((8, 8)),\n",
    "                             cmap=plt.cm.binary, interpolation='nearest')\n",
    "        im.set_clim(0, 16)\n",
    "        im = ax[i + 5, j].imshow(new_data[i, j].reshape((8, 8)),\n",
    "                                 cmap=plt.cm.binary, interpolation='nearest')\n",
    "        im.set_clim(0, 16)\n",
    "\n",
    "ax[0, 5].set_title('Selection from the input data')\n",
    "ax[5, 5].set_title('\"New\" digits drawn from the kernel density model')\n",
    "\n",
    "plt.show()"
   ]
  }
 ],
 "metadata": {
  "celltoolbar": "Slideshow",
  "kernelspec": {
   "display_name": "Python 3",
   "language": "python",
   "name": "python3"
  },
  "language_info": {
   "codemirror_mode": {
    "name": "ipython",
    "version": 3
   },
   "file_extension": ".py",
   "mimetype": "text/x-python",
   "name": "python",
   "nbconvert_exporter": "python",
   "pygments_lexer": "ipython3",
   "version": "3.8.2"
  },
  "latex_envs": {
   "LaTeX_envs_menu_present": true,
   "autoclose": false,
   "autocomplete": true,
   "bibliofile": "biblio.bib",
   "cite_by": "apalike",
   "current_citInitial": 1,
   "eqLabelWithNumbers": true,
   "eqNumInitial": 1,
   "hotkeys": {
    "equation": "Ctrl-E",
    "itemize": "Ctrl-I"
   },
   "labels_anchors": false,
   "latex_user_defs": false,
   "report_style_numbering": false,
   "user_envs_cfg": false
  },
  "toc": {
   "base_numbering": 1,
   "nav_menu": {},
   "number_sections": false,
   "sideBar": true,
   "skip_h1_title": true,
   "title_cell": "Table of Contents",
   "title_sidebar": "Contents",
   "toc_cell": false,
   "toc_position": {
    "height": "calc(100% - 180px)",
    "left": "10px",
    "top": "150px",
    "width": "328.797px"
   },
   "toc_section_display": true,
   "toc_window_display": true
  }
 },
 "nbformat": 4,
 "nbformat_minor": 4
}
