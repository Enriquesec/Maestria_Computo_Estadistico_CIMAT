{
 "cells": [
  {
   "cell_type": "markdown",
   "metadata": {},
   "source": [
    "### Funtions"
   ]
  },
  {
   "cell_type": "code",
   "execution_count": 150,
   "metadata": {},
   "outputs": [],
   "source": [
    "def limpieza_estado(df, col):\n",
    "    new = \"inicio\"\n",
    "    for i in range(df.shape[0]):\n",
    "        if (pd.isna(df.loc[i, col])):\n",
    "            df.loc[i, col] = new\n",
    "        else:\n",
    "            new = df.loc[i, col]\n",
    "    return df "
   ]
  },
  {
   "cell_type": "code",
   "execution_count": 2,
   "metadata": {},
   "outputs": [],
   "source": [
    "def limpiar_archivo(path_read, col, clas, columns, path_write):\n",
    "    df = pd.read_csv(path_read, names=columns, skiprows=1)\n",
    "    df = df[~(df[col[0]].isna() & df[col[1]].isna())].reset_index().drop(columns={\"index\"})\n",
    "    \n",
    "    # limpiamos una columna\n",
    "    df = limpieza_estado(df, col[0])\n",
    "    \n",
    "    # imputamos la segunda columna\n",
    "    df[col[1]].fillna(\"Total Estado\", inplace=True)\n",
    "    \n",
    "    # creamos una columna de clasificacion\n",
    "    df[\"clas_visitantes\"] = df[col[1]].apply(lambda x: x if x in clas else \"Total Visitantes\")\n",
    "    \n",
    "    ### Imputamos la columna museo\n",
    "    df[col[1]] = df[col[1]].apply(lambda x: x if not(x in clas) else np.nan)\n",
    "\n",
    "    df = limpieza_estado(df, col[1])\n",
    "    \n",
    "    df.to_csv(path_write, index=False)\n",
    "    print(\"Listo!!!\")"
   ]
  },
  {
   "cell_type": "markdown",
   "metadata": {},
   "source": [
    "### Modificación del archivo ciudades.txt"
   ]
  },
  {
   "cell_type": "code",
   "execution_count": 3,
   "metadata": {},
   "outputs": [],
   "source": [
    "import pandas as pd \n",
    "import numpy as np"
   ]
  },
  {
   "cell_type": "code",
   "execution_count": 20,
   "metadata": {},
   "outputs": [],
   "source": [
    "ciudades = pd.read_table(\"../data/ciudades.txt\", names=[\"ciudades\"])\n",
    "ciudades = ciudades.reset_index()[\"ciudades\"].reset_index()\n",
    "ciudades[\"ciudades\"] = ciudades.ciudades.apply(lambda x: x.split(\",\")[0])\n",
    "\n",
    "ciudades = ciudades[\"ciudades\"].reset_index()\n",
    "ciudades.to_csv(\"../data/ciudades.csv\", index=False)"
   ]
  },
  {
   "cell_type": "markdown",
   "metadata": {},
   "source": [
    "# Creación de las variables para todas las ciudades"
   ]
  },
  {
   "cell_type": "markdown",
   "metadata": {},
   "source": [
    "## Museos"
   ]
  },
  {
   "cell_type": "code",
   "execution_count": 151,
   "metadata": {},
   "outputs": [],
   "source": [
    "names_columns_museo = ['estado', 'museo', '2000', '2001', '2002', '2003', '2004', '2005',\n",
    "       '2006', '2007', '2008', '2009', '2010', '2011', '2012', '2013',\n",
    "       '2014', '2015', '2016', '2017', '2018', '2019']\n",
    "\n",
    "path_read_museo = \"../data/raw/personas_museos_anual.csv\"\n",
    "path_write_museo = \"../data/processed/estado_museo_clas_anual.csv\"\n",
    "col_museo = [\"estado\", \"museo\"]\n",
    "clas_museo = ['    Visitantes Nacionales', '    Visitantes Internacionales']\n"
   ]
  },
  {
   "cell_type": "code",
   "execution_count": 152,
   "metadata": {},
   "outputs": [
    {
     "name": "stdout",
     "output_type": "stream",
     "text": [
      "Listo!!!\n"
     ]
    }
   ],
   "source": [
    "limpiar_archivo(path_read_museo, col_museo, clas_museo, names_columns_museo, path_write_museo)"
   ]
  },
  {
   "cell_type": "markdown",
   "metadata": {},
   "source": [
    "### Zonas arqueologicas"
   ]
  },
  {
   "cell_type": "code",
   "execution_count": 153,
   "metadata": {},
   "outputs": [],
   "source": [
    "names_columns_za = ['estado', 'zona_arqueologica', '2000', '2001', '2002', '2003', '2004',\n",
    "       '2005', '2006', '2007', '2008', '2009', '2010', '2011', '2012', '2013',\n",
    "       '2014', '2015', '2016', '2017', '2018', '20191']\n",
    "path_read_za = \"../data/raw/personas_zonas_arqueologicas_anual.csv\"\n",
    "path_write_za = \"../data/processed/estado_zonas_arqueologicas_clas_anual.csv\"\n",
    "col_za = [\"estado\", \"zona_arqueologica\"]\n",
    "clas_za = ['    Visitantes Nacionales','    Visitantes Internacionales']"
   ]
  },
  {
   "cell_type": "code",
   "execution_count": 154,
   "metadata": {},
   "outputs": [
    {
     "name": "stdout",
     "output_type": "stream",
     "text": [
      "Listo!!!\n"
     ]
    }
   ],
   "source": [
    "limpiar_archivo(path_read_za, col_za, clas_za, names_columns_za, path_write_za)"
   ]
  },
  {
   "cell_type": "markdown",
   "metadata": {},
   "source": [
    "### Aeropuerto"
   ]
  },
  {
   "cell_type": "code",
   "execution_count": 155,
   "metadata": {},
   "outputs": [],
   "source": [
    "# cargamos los datos\n",
    "vuelos = pd.read_csv(\"../data/raw/vuelos_anuales.csv\")\n",
    "\n",
    "# clase de vuelos\n",
    "clas_vuelos = ['   Nacionales', '   Internacionales',\n",
    "       '   Regulares', '          Nacionales Regulares',\n",
    "       '          Internacionales Regulares', '   Charters',\n",
    "       '         Charters Nacionales',\n",
    "       '         Charters Internacionales']\n",
    "clas_vuelos_n = ['   Nacionales', '   Internacionales']\n",
    "\n",
    "# filtramos la columna aeropuerto\n",
    "vuelos[\"estado\"] = vuelos.aeropuerto.apply(lambda x: x if not(x in clas_vuelos) else np.nan)\n",
    "vuelos[\"vuelos\"] = vuelos.aeropuerto.apply(lambda x: x if x in clas_vuelos_n else np.nan)\n",
    "\n",
    "vuelos = vuelos[~(vuelos.estado.isna() & vuelos.vuelos.isna())].reset_index().drop(columns={\"index\"})\n",
    "\n",
    "vuelos = limpieza_estado(vuelos, \"estado\")\n",
    "vuelos.vuelos.fillna(\"Total Estado\", inplace=True)\n",
    "vuelos = vuelos[np.concatenate([['estado', 'vuelos'],vuelos.columns[1:-2]])]"
   ]
  },
  {
   "cell_type": "code",
   "execution_count": 156,
   "metadata": {},
   "outputs": [],
   "source": [
    "vuelos.to_csv(\"../data/processed/vuelos_class_anual.csv\", index=False)"
   ]
  },
  {
   "cell_type": "markdown",
   "metadata": {},
   "source": [
    "### Hoteles"
   ]
  },
  {
   "cell_type": "code",
   "execution_count": 157,
   "metadata": {},
   "outputs": [],
   "source": [
    "def var_hotel():\n",
    "    df_final = pd.DataFrame([], columns=[\"centro_turístico\", \"categoria\", \"corredor_turístico\"])\n",
    "    for i in range(1,5):\n",
    "        df = pd.read_excel(\"../data/5_2.xlsx\", sheet_name=\"Vista0{}\".format(str(i)), skiprows=18)\n",
    "        if i==2:\n",
    "            df.drop(columns={'Unnamed: 1', 'Unnamed: 2', 'Unnamed: 3',\"Unnamed: 0\", \"Unnamed: 10\"}, inplace=True)\n",
    "        else:\n",
    "            df.drop(columns={'Unnamed: 1', 'Unnamed: 2', 'Unnamed: 3',\"Unnamed: 0\"}, inplace=True)\n",
    "        names_columns = df.loc[0].to_numpy()\n",
    "        names_columns = [str.lower(i).replace(\"   \", \"\").replace(\" \", \"_\") for i in names_columns]\n",
    "\n",
    "        names_columns_new = []\n",
    "        for i in names_columns:\n",
    "            if i[-1]==\"_\":\n",
    "                names_columns_new.append(i[0:-1])\n",
    "            else:\n",
    "                names_columns_new.append(i)\n",
    "\n",
    "        df.columns = names_columns_new\n",
    "        df = df.loc[1:].reset_index().drop(columns={\"index\"})\n",
    "        df = limpieza_estado(df, \"centro_turístico\")\n",
    "        df = df[~df.categoria.isna()]\n",
    "        df[\"categoria\"] = df.categoria.apply(lambda x: \"{}_{}\".format(str.lower(x.split()[1]), x.split()[0])) \n",
    "        \n",
    "        categoria_hotel = ['estrella_1', 'estrellas_2', 'estrellas_3', 'estrellas_4',\n",
    "       'estrellas_5']\n",
    "        \n",
    "        df = df[df.categoria.isin(categoria_hotel)]\n",
    "        \n",
    "        df_final = pd.merge(df_final, df, on=[\"centro_turístico\", \"categoria\", \"corredor_turístico\"], how=\"outer\")\n",
    "        print(\"PASO!\")\n",
    "    return df_final"
   ]
  },
  {
   "cell_type": "code",
   "execution_count": 158,
   "metadata": {},
   "outputs": [
    {
     "name": "stdout",
     "output_type": "stream",
     "text": [
      "PASO!\n",
      "PASO!\n",
      "PASO!\n",
      "PASO!\n"
     ]
    }
   ],
   "source": [
    "hotel = var_hotel()"
   ]
  },
  {
   "cell_type": "code",
   "execution_count": 159,
   "metadata": {},
   "outputs": [],
   "source": [
    "hotel.to_csv(\"../data/processed/hotel_categoria_cuartos_turistas.csv\", index=False)"
   ]
  },
  {
   "cell_type": "markdown",
   "metadata": {},
   "source": [
    "## Origen destino"
   ]
  },
  {
   "cell_type": "markdown",
   "metadata": {},
   "source": [
    "#### Pasajero"
   ]
  },
  {
   "cell_type": "code",
   "execution_count": 171,
   "metadata": {},
   "outputs": [],
   "source": [
    "origen = pd.read_csv(\"../data/raw/origen_destino_pasajeros.csv\", nrows=6828)"
   ]
  },
  {
   "cell_type": "code",
   "execution_count": 172,
   "metadata": {},
   "outputs": [],
   "source": [
    "origen = limpieza_estado(origen, \"Origen\")\n",
    "origen.Destino.fillna(\"Total\", inplace=True)"
   ]
  },
  {
   "cell_type": "code",
   "execution_count": 173,
   "metadata": {},
   "outputs": [],
   "source": [
    "origen.to_csv(\"../data/processed/origen_destino_pasajeros.csv\", index=False)"
   ]
  },
  {
   "cell_type": "markdown",
   "metadata": {},
   "source": [
    "#### Vuelos"
   ]
  },
  {
   "cell_type": "code",
   "execution_count": 167,
   "metadata": {},
   "outputs": [],
   "source": [
    "origen = pd.read_csv(\"../data/raw/origen_destino_vuelos.csv\")"
   ]
  },
  {
   "cell_type": "code",
   "execution_count": 168,
   "metadata": {},
   "outputs": [],
   "source": [
    "origen = limpieza_estado(origen, \"Origen\")\n",
    "origen.Destino.fillna(\"Total\", inplace=True)"
   ]
  },
  {
   "cell_type": "code",
   "execution_count": 169,
   "metadata": {},
   "outputs": [
    {
     "data": {
      "text/html": [
       "<div>\n",
       "<style scoped>\n",
       "    .dataframe tbody tr th:only-of-type {\n",
       "        vertical-align: middle;\n",
       "    }\n",
       "\n",
       "    .dataframe tbody tr th {\n",
       "        vertical-align: top;\n",
       "    }\n",
       "\n",
       "    .dataframe thead th {\n",
       "        text-align: right;\n",
       "    }\n",
       "</style>\n",
       "<table border=\"1\" class=\"dataframe\">\n",
       "  <thead>\n",
       "    <tr style=\"text-align: right;\">\n",
       "      <th></th>\n",
       "      <th>Origen</th>\n",
       "      <th>Destino</th>\n",
       "      <th>1992</th>\n",
       "      <th>1993</th>\n",
       "      <th>1994</th>\n",
       "      <th>1995</th>\n",
       "      <th>1996</th>\n",
       "      <th>1997</th>\n",
       "      <th>1998</th>\n",
       "      <th>1999</th>\n",
       "      <th>...</th>\n",
       "      <th>2010</th>\n",
       "      <th>2011</th>\n",
       "      <th>2012</th>\n",
       "      <th>2013</th>\n",
       "      <th>2014</th>\n",
       "      <th>2015</th>\n",
       "      <th>2016</th>\n",
       "      <th>2017</th>\n",
       "      <th>2018</th>\n",
       "      <th>2019</th>\n",
       "    </tr>\n",
       "  </thead>\n",
       "  <tbody>\n",
       "    <tr>\n",
       "      <th>0</th>\n",
       "      <td>Acapulco</td>\n",
       "      <td>Total</td>\n",
       "      <td>6271</td>\n",
       "      <td>6795</td>\n",
       "      <td>8295</td>\n",
       "      <td>7039</td>\n",
       "      <td>6637</td>\n",
       "      <td>7378</td>\n",
       "      <td>7605</td>\n",
       "      <td>6477</td>\n",
       "      <td>...</td>\n",
       "      <td>4663</td>\n",
       "      <td>4019</td>\n",
       "      <td>3910</td>\n",
       "      <td>4227</td>\n",
       "      <td>4641</td>\n",
       "      <td>5087</td>\n",
       "      <td>4931</td>\n",
       "      <td>4366</td>\n",
       "      <td>4448</td>\n",
       "      <td>5592</td>\n",
       "    </tr>\n",
       "    <tr>\n",
       "      <th>1</th>\n",
       "      <td>Acapulco</td>\n",
       "      <td>Aguascalientes</td>\n",
       "      <td>0</td>\n",
       "      <td>0</td>\n",
       "      <td>0</td>\n",
       "      <td>0</td>\n",
       "      <td>0</td>\n",
       "      <td>0</td>\n",
       "      <td>0</td>\n",
       "      <td>0</td>\n",
       "      <td>...</td>\n",
       "      <td>0</td>\n",
       "      <td>0</td>\n",
       "      <td>0</td>\n",
       "      <td>0</td>\n",
       "      <td>0</td>\n",
       "      <td>0</td>\n",
       "      <td>0</td>\n",
       "      <td>0</td>\n",
       "      <td>0</td>\n",
       "      <td>0</td>\n",
       "    </tr>\n",
       "    <tr>\n",
       "      <th>2</th>\n",
       "      <td>Acapulco</td>\n",
       "      <td>Cancún</td>\n",
       "      <td>17</td>\n",
       "      <td>17</td>\n",
       "      <td>10</td>\n",
       "      <td>17</td>\n",
       "      <td>17</td>\n",
       "      <td>37</td>\n",
       "      <td>34</td>\n",
       "      <td>11</td>\n",
       "      <td>...</td>\n",
       "      <td>0</td>\n",
       "      <td>0</td>\n",
       "      <td>1</td>\n",
       "      <td>0</td>\n",
       "      <td>0</td>\n",
       "      <td>1</td>\n",
       "      <td>0</td>\n",
       "      <td>0</td>\n",
       "      <td>0</td>\n",
       "      <td>28</td>\n",
       "    </tr>\n",
       "    <tr>\n",
       "      <th>3</th>\n",
       "      <td>Acapulco</td>\n",
       "      <td>Celaya</td>\n",
       "      <td>0</td>\n",
       "      <td>0</td>\n",
       "      <td>0</td>\n",
       "      <td>0</td>\n",
       "      <td>0</td>\n",
       "      <td>0</td>\n",
       "      <td>0</td>\n",
       "      <td>0</td>\n",
       "      <td>...</td>\n",
       "      <td>0</td>\n",
       "      <td>0</td>\n",
       "      <td>0</td>\n",
       "      <td>0</td>\n",
       "      <td>0</td>\n",
       "      <td>0</td>\n",
       "      <td>0</td>\n",
       "      <td>0</td>\n",
       "      <td>0</td>\n",
       "      <td>0</td>\n",
       "    </tr>\n",
       "    <tr>\n",
       "      <th>4</th>\n",
       "      <td>Acapulco</td>\n",
       "      <td>Chihuahua</td>\n",
       "      <td>0</td>\n",
       "      <td>0</td>\n",
       "      <td>0</td>\n",
       "      <td>0</td>\n",
       "      <td>9</td>\n",
       "      <td>0</td>\n",
       "      <td>0</td>\n",
       "      <td>1</td>\n",
       "      <td>...</td>\n",
       "      <td>0</td>\n",
       "      <td>0</td>\n",
       "      <td>0</td>\n",
       "      <td>0</td>\n",
       "      <td>0</td>\n",
       "      <td>0</td>\n",
       "      <td>0</td>\n",
       "      <td>0</td>\n",
       "      <td>0</td>\n",
       "      <td>0</td>\n",
       "    </tr>\n",
       "  </tbody>\n",
       "</table>\n",
       "<p>5 rows × 30 columns</p>\n",
       "</div>"
      ],
      "text/plain": [
       "     Origen         Destino  1992  1993  1994  1995  1996  1997  1998  1999  \\\n",
       "0  Acapulco           Total  6271  6795  8295  7039  6637  7378  7605  6477   \n",
       "1  Acapulco  Aguascalientes     0     0     0     0     0     0     0     0   \n",
       "2  Acapulco          Cancún    17    17    10    17    17    37    34    11   \n",
       "3  Acapulco          Celaya     0     0     0     0     0     0     0     0   \n",
       "4  Acapulco       Chihuahua     0     0     0     0     9     0     0     1   \n",
       "\n",
       "   ...  2010  2011  2012  2013  2014  2015  2016  2017  2018  2019  \n",
       "0  ...  4663  4019  3910  4227  4641  5087  4931  4366  4448  5592  \n",
       "1  ...     0     0     0     0     0     0     0     0     0     0  \n",
       "2  ...     0     0     1     0     0     1     0     0     0    28  \n",
       "3  ...     0     0     0     0     0     0     0     0     0     0  \n",
       "4  ...     0     0     0     0     0     0     0     0     0     0  \n",
       "\n",
       "[5 rows x 30 columns]"
      ]
     },
     "execution_count": 169,
     "metadata": {},
     "output_type": "execute_result"
    }
   ],
   "source": [
    "origen.head()"
   ]
  },
  {
   "cell_type": "code",
   "execution_count": 170,
   "metadata": {},
   "outputs": [],
   "source": [
    "origen.to_csv(\"../data/processed/origen_destino_vuelos.csv\", index=False)"
   ]
  }
 ],
 "metadata": {
  "kernelspec": {
   "display_name": "Python 3",
   "language": "python",
   "name": "python3"
  },
  "language_info": {
   "codemirror_mode": {
    "name": "ipython",
    "version": 3
   },
   "file_extension": ".py",
   "mimetype": "text/x-python",
   "name": "python",
   "nbconvert_exporter": "python",
   "pygments_lexer": "ipython3",
   "version": "3.7.6"
  }
 },
 "nbformat": 4,
 "nbformat_minor": 4
}
