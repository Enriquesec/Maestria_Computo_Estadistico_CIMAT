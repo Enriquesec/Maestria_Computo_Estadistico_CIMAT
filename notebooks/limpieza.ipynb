{
 "cells": [
  {
   "cell_type": "markdown",
   "metadata": {},
   "source": [
    "### Modificación del archivo ciudades.txt"
   ]
  },
  {
   "cell_type": "code",
   "execution_count": 1,
   "metadata": {},
   "outputs": [],
   "source": [
    "import pandas as pd "
   ]
  },
  {
   "cell_type": "code",
   "execution_count": 27,
   "metadata": {},
   "outputs": [],
   "source": [
    "ciudades = pd.read_table(\"../data/ciudades.txt\", names=[\"ciudades\"])\n",
    "ciudades = ciudades.reset_index()[\"ciudades\"].reset_index()\n",
    "ciudades[\"ciudades\"] = ciudades.ciudades.apply(lambda x: x.split(\",\")[0])\n",
    "\n",
    "ciudades = ciudades[\"ciudades\"].reset_index()\n",
    "ciudades.to_csv(\"../data/ciudades.csv\", index=False)"
   ]
  },
  {
   "cell_type": "markdown",
   "metadata": {},
   "source": [
    "## Creación de las variables para todas las ciudades"
   ]
  },
  {
   "cell_type": "code",
   "execution_count": 1,
   "metadata": {},
   "outputs": [],
   "source": [
    "import pandas as pd"
   ]
  },
  {
   "cell_type": "code",
   "execution_count": 2,
   "metadata": {},
   "outputs": [],
   "source": [
    "ciudades = pd.read_csv(\"../data/ciudades.csv\")"
   ]
  },
  {
   "cell_type": "code",
   "execution_count": 8,
   "metadata": {},
   "outputs": [
    {
     "data": {
      "text/html": [
       "<div>\n",
       "<style scoped>\n",
       "    .dataframe tbody tr th:only-of-type {\n",
       "        vertical-align: middle;\n",
       "    }\n",
       "\n",
       "    .dataframe tbody tr th {\n",
       "        vertical-align: top;\n",
       "    }\n",
       "\n",
       "    .dataframe thead th {\n",
       "        text-align: right;\n",
       "    }\n",
       "</style>\n",
       "<table border=\"1\" class=\"dataframe\">\n",
       "  <thead>\n",
       "    <tr style=\"text-align: right;\">\n",
       "      <th></th>\n",
       "      <th>estado</th>\n",
       "      <th>ciudades_x</th>\n",
       "      <th>ciudades_y</th>\n",
       "    </tr>\n",
       "  </thead>\n",
       "  <tbody>\n",
       "    <tr>\n",
       "      <th>0</th>\n",
       "      <td>Aguascalientes</td>\n",
       "      <td>Aguascalientes</td>\n",
       "      <td>Aguascalientes</td>\n",
       "    </tr>\n",
       "    <tr>\n",
       "      <th>1</th>\n",
       "      <td>Baja California</td>\n",
       "      <td>Tijuana</td>\n",
       "      <td>Tijuana</td>\n",
       "    </tr>\n",
       "    <tr>\n",
       "      <th>2</th>\n",
       "      <td>Baja California</td>\n",
       "      <td>Tijuana</td>\n",
       "      <td>Mexicali</td>\n",
       "    </tr>\n",
       "    <tr>\n",
       "      <th>3</th>\n",
       "      <td>Baja California</td>\n",
       "      <td>Mexicali</td>\n",
       "      <td>Tijuana</td>\n",
       "    </tr>\n",
       "    <tr>\n",
       "      <th>4</th>\n",
       "      <td>Baja California</td>\n",
       "      <td>Mexicali</td>\n",
       "      <td>Mexicali</td>\n",
       "    </tr>\n",
       "    <tr>\n",
       "      <th>...</th>\n",
       "      <td>...</td>\n",
       "      <td>...</td>\n",
       "      <td>...</td>\n",
       "    </tr>\n",
       "    <tr>\n",
       "      <th>72</th>\n",
       "      <td>Veracruz</td>\n",
       "      <td>Xalapa-Enríquez</td>\n",
       "      <td>Orizaba</td>\n",
       "    </tr>\n",
       "    <tr>\n",
       "      <th>73</th>\n",
       "      <td>Veracruz</td>\n",
       "      <td>Orizaba</td>\n",
       "      <td>Veracruz</td>\n",
       "    </tr>\n",
       "    <tr>\n",
       "      <th>74</th>\n",
       "      <td>Veracruz</td>\n",
       "      <td>Orizaba</td>\n",
       "      <td>Xalapa-Enríquez</td>\n",
       "    </tr>\n",
       "    <tr>\n",
       "      <th>75</th>\n",
       "      <td>Veracruz</td>\n",
       "      <td>Orizaba</td>\n",
       "      <td>Orizaba</td>\n",
       "    </tr>\n",
       "    <tr>\n",
       "      <th>76</th>\n",
       "      <td>Yucatán</td>\n",
       "      <td>Mérida</td>\n",
       "      <td>Mérida</td>\n",
       "    </tr>\n",
       "  </tbody>\n",
       "</table>\n",
       "<p>77 rows × 3 columns</p>\n",
       "</div>"
      ],
      "text/plain": [
       "             estado       ciudades_x       ciudades_y\n",
       "0    Aguascalientes   Aguascalientes   Aguascalientes\n",
       "1   Baja California          Tijuana          Tijuana\n",
       "2   Baja California          Tijuana         Mexicali\n",
       "3   Baja California         Mexicali          Tijuana\n",
       "4   Baja California         Mexicali         Mexicali\n",
       "..              ...              ...              ...\n",
       "72         Veracruz  Xalapa-Enríquez          Orizaba\n",
       "73         Veracruz          Orizaba         Veracruz\n",
       "74         Veracruz          Orizaba  Xalapa-Enríquez\n",
       "75         Veracruz          Orizaba          Orizaba\n",
       "76          Yucatán           Mérida           Mérida\n",
       "\n",
       "[77 rows x 3 columns]"
      ]
     },
     "execution_count": 8,
     "metadata": {},
     "output_type": "execute_result"
    }
   ],
   "source": [
    "pd.merge(ciudades, ciudades, on=\"estado\", how=\"left\")"
   ]
  },
  {
   "cell_type": "code",
   "execution_count": 28,
   "metadata": {},
   "outputs": [],
   "source": []
  },
  {
   "cell_type": "code",
   "execution_count": 31,
   "metadata": {},
   "outputs": [],
   "source": []
  }
 ],
 "metadata": {
  "kernelspec": {
   "display_name": "Python 3",
   "language": "python",
   "name": "python3"
  },
  "language_info": {
   "codemirror_mode": {
    "name": "ipython",
    "version": 3
   },
   "file_extension": ".py",
   "mimetype": "text/x-python",
   "name": "python",
   "nbconvert_exporter": "python",
   "pygments_lexer": "ipython3",
   "version": "3.7.6"
  }
 },
 "nbformat": 4,
 "nbformat_minor": 4
}
