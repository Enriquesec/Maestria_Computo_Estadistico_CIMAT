{
 "cells": [
  {
   "cell_type": "markdown",
   "metadata": {},
   "source": [
    "## Función para encontrar el mínimo local."
   ]
  },
  {
   "cell_type": "code",
   "execution_count": 1,
   "metadata": {},
   "outputs": [],
   "source": [
    "import numpy as np\n",
    "\n",
    "class Solvers():\n",
    "    def __init__(self, gradient, solver=\"gd\", \n",
    "                 alpha=0.5, tol=1e-3, max_iter=1000):\n",
    "        self.gradient = gradient\n",
    "        self.alpha = alpha\n",
    "        self.tol = tol\n",
    "        self.max_iter = max_iter\n",
    "        self.solver = solver\n",
    "        \n",
    "    def __gd_solver(self, start_point):\n",
    "        grad_ = self.gradient(start_point)\n",
    "        convergence = np.dot(grad_, grad_)\n",
    "        stop = (convergence < self.tol)\n",
    "        iter_ = 0\n",
    "        point = start_point\n",
    "        while not stop:\n",
    "            iter_ += 1\n",
    "            point = point - self.alpha*grad_\n",
    "            grad_ = self.gradient(point)\n",
    "            stop = ((np.dot(grad_, grad_)) < self.tol) or \\\n",
    "                (iter_>self.max_iter)\n",
    "        return point \n",
    "\n",
    "    def solve(self, start_point):\n",
    "        if self.solver==\"gd\":\n",
    "            return self.__gd_solver(start_point)\n",
    "        else: \n",
    "            raise ValueError('Undefined solver')\n"
   ]
  },
  {
   "cell_type": "code",
   "execution_count": 2,
   "metadata": {},
   "outputs": [],
   "source": [
    "def example_funtion(x):\n",
    "    return np.array([3*x[0]-x[1]-2,x[1]-x[0]])"
   ]
  },
  {
   "cell_type": "code",
   "execution_count": 3,
   "metadata": {},
   "outputs": [],
   "source": [
    "sol_05 = Solvers(gradient = example_funtion)\n",
    "sol_1 = Solvers(gradient = example_funtion, alpha=.001,max_iter=100000)\n",
    "sol_01 = Solvers(gradient = example_funtion, alpha=0.1)"
   ]
  },
  {
   "cell_type": "code",
   "execution_count": 4,
   "metadata": {},
   "outputs": [
    {
     "name": "stdout",
     "output_type": "stream",
     "text": [
      "[1.015625 1.046875]\n",
      "[1.02065564 1.04986712]\n",
      "[1.02022281 1.04882219]\n"
     ]
    }
   ],
   "source": [
    "print(sol_05.solve(np.array([2,3])))\n",
    "print(sol_1.solve(np.array([2,3])))\n",
    "print(sol_01.solve(np.array([2,3])))"
   ]
  },
  {
   "cell_type": "code",
   "execution_count": 52,
   "metadata": {},
   "outputs": [
    {
     "name": "stdout",
     "output_type": "stream",
     "text": [
      "[1.015625 1.046875]\n",
      "[1.02065564 1.04986712]\n",
      "[1.02022281 1.04882219]\n"
     ]
    }
   ],
   "source": [
    "print(sol_05.solve(np.array([2,3])))\n",
    "print(sol_1.solve(np.array([2,3])))\n",
    "print(sol_01.solve(np.array([2,3])))"
   ]
  },
  {
   "cell_type": "code",
   "execution_count": 61,
   "metadata": {},
   "outputs": [],
   "source": [
    "a =[2,23123]\n",
    "b=a"
   ]
  },
  {
   "cell_type": "code",
   "execution_count": 56,
   "metadata": {},
   "outputs": [],
   "source": [
    "b[0] = 1"
   ]
  },
  {
   "cell_type": "code",
   "execution_count": 57,
   "metadata": {},
   "outputs": [
    {
     "data": {
      "text/plain": [
       "[1, 23123]"
      ]
     },
     "execution_count": 57,
     "metadata": {},
     "output_type": "execute_result"
    }
   ],
   "source": [
    "b"
   ]
  },
  {
   "cell_type": "code",
   "execution_count": 58,
   "metadata": {},
   "outputs": [
    {
     "data": {
      "text/plain": [
       "[1, 23123]"
      ]
     },
     "execution_count": 58,
     "metadata": {},
     "output_type": "execute_result"
    }
   ],
   "source": [
    "a"
   ]
  },
  {
   "cell_type": "code",
   "execution_count": 62,
   "metadata": {},
   "outputs": [
    {
     "data": {
      "text/plain": [
       "[2, 23123]"
      ]
     },
     "execution_count": 62,
     "metadata": {},
     "output_type": "execute_result"
    }
   ],
   "source": [
    "b = a.copy()\n",
    "b[0] = 1\n",
    "a"
   ]
  },
  {
   "cell_type": "code",
   "execution_count": 63,
   "metadata": {},
   "outputs": [
    {
     "data": {
      "text/plain": [
       "[1, 23123]"
      ]
     },
     "execution_count": 63,
     "metadata": {},
     "output_type": "execute_result"
    }
   ],
   "source": [
    "b"
   ]
  },
  {
   "cell_type": "code",
   "execution_count": null,
   "metadata": {},
   "outputs": [],
   "source": []
  }
 ],
 "metadata": {
  "kernelspec": {
   "display_name": "Python 3",
   "language": "python",
   "name": "python3"
  },
  "language_info": {
   "codemirror_mode": {
    "name": "ipython",
    "version": 3
   },
   "file_extension": ".py",
   "mimetype": "text/x-python",
   "name": "python",
   "nbconvert_exporter": "python",
   "pygments_lexer": "ipython3",
   "version": "3.7.6"
  }
 },
 "nbformat": 4,
 "nbformat_minor": 4
}
